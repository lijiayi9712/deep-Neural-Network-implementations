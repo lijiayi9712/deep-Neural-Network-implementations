{
 "cells": [
  {
   "cell_type": "markdown",
   "metadata": {
    "colab_type": "text",
    "id": "tI5M9iQLZMSh"
   },
   "source": [
    "# Introduction"
   ]
  },
  {
   "cell_type": "markdown",
   "metadata": {
    "colab_type": "text",
    "id": "2nmvQ62JZMSo"
   },
   "source": [
    "<center><h3>**Welcome to the Language modeling Notebook.**</h3></center>\n",
    "\n",
    "In this assignment, you are going to train a neural network to **generate news headlines**.\n",
    "To reduce computational needs, we have reduced it to headlines about technology, and a handful of Tech giants.\n",
    "In this assignment you will:\n",
    "- Learn to preprocess raw text so it can be fed into an LSTM.\n",
    "- Make use of the LSTM library of Tensorflow, to train a Language model to generate headlines\n",
    "- Use your network to generate headlines, and judge which headlines are likely or not\n",
    "\n",
    "\n"
   ]
  },
  {
   "cell_type": "markdown",
   "metadata": {
    "colab_type": "text",
    "id": "x4XR9foOZMSs"
   },
   "source": [
    "**What is a language model?**\n",
    "\n",
    "Language modeling is the task of assigning a probability to sentences in a language. Besides assigning a probability to each sequence of words, the language models also assigns a probability for the likelihood of a given word (or a sequence of words) to follow a sequence of words.\n",
    "— Page 105, __[Neural Network Methods in Natural Language Processing](https://www.amazon.com/Language-Processing-Synthesis-Lectures-Technologies/dp/1627052984/)__, 2017.\n",
    "\n",
    "In terms of neural network, we are training a neural network to produce probabilities (classification) over a fixed vocabulary of words.\n",
    "Concretely, we are training a neural network to produce:\n",
    "$$ P ( w_{i+1} | w_1, w_2, w_3, ..., w_i), \\forall i \\in (1,n)$$\n",
    "\n",
    "** Why is language modeling important? **\n",
    "\n",
    "Language modeling is a core problem in NLP.\n",
    "\n",
    "Language models can either be used as a stand-alone to produce new text that matches the distribution of text the model is trained on, but can also be used at the front-end of a more sophisticated model to produce better results.\n",
    "\n",
    "Recently for example, the __[BERT](https://arxiv.org/abs/1810.04805)__ paper show-cased that pretraining a large neural network on a language modeling task can help improve state-of-the-art on many NLP tasks. \n",
    "\n",
    "How good can the generation of a Language model be?\n",
    "\n",
    "If you have not seen the latest post by OpenAI, you should read some of the samples they generated from their language model __[here](https://blog.openai.com/better-language-models/#sample1)__.\n",
    "Because of computational restrictions, we will not achieve as good text production, but the same algorithm is at the core. They just use more data and compute."
   ]
  },
  {
   "cell_type": "markdown",
   "metadata": {
    "colab_type": "text",
    "id": "AHN-jLG6ZMSy"
   },
   "source": [
    "# Library imports"
   ]
  },
  {
   "cell_type": "markdown",
   "metadata": {
    "colab_type": "text",
    "id": "NsJZoXonZMS0"
   },
   "source": [
    "Before starting, make sure you have all these libraries."
   ]
  },
  {
   "cell_type": "code",
   "execution_count": 1,
   "metadata": {
    "colab": {
     "base_uri": "https://localhost:8080/",
     "height": 51
    },
    "colab_type": "code",
    "executionInfo": {
     "elapsed": 3985,
     "status": "ok",
     "timestamp": 1554409870813,
     "user": {
      "displayName": "JIAYI LI",
      "photoUrl": "",
      "userId": "02612363833810871434"
     },
     "user_tz": 420
    },
    "id": "QIaJHaETZQ-R",
    "outputId": "9c36a8ea-7df5-4261-aed3-33ff9a4d7de9"
   },
   "outputs": [
    {
     "name": "stdout",
     "output_type": "stream",
     "text": [
      "Collecting segtok\n",
      "Collecting regex (from segtok)\n",
      "Installing collected packages: regex, segtok\n",
      "Successfully installed regex-2019.3.12 segtok-1.5.7\n"
     ]
    }
   ],
   "source": []
  },
  {
   "cell_type": "code",
   "execution_count": 2,
   "metadata": {
    "colab": {
     "base_uri": "https://localhost:8080/",
     "height": 34
    },
    "colab_type": "code",
    "executionInfo": {
     "elapsed": 381,
     "status": "ok",
     "timestamp": 1554409872175,
     "user": {
      "displayName": "JIAYI LI",
      "photoUrl": "",
      "userId": "02612363833810871434"
     },
     "user_tz": 420
    },
    "id": "TGwXB10JZX0u",
    "outputId": "181e35b4-3d30-457b-dd76-f0180ecd1f53"
   },
   "outputs": [
    {
     "name": "stdout",
     "output_type": "stream",
     "text": [
      "Drive already mounted at /content/gdrive; to attempt to forcibly remount, call drive.mount(\"/content/gdrive\", force_remount=True).\n"
     ]
    }
   ],
   "source": [
    "# Getting access to the dataset and the Python files on Google Drive.\n",
    "# You will probably have to give permission.\n",
    "\n",
    "from google.colab import drive\n",
    "drive.mount('/content/gdrive')"
   ]
  },
  {
   "cell_type": "code",
   "execution_count": 1,
   "metadata": {
    "colab": {},
    "colab_type": "code",
    "id": "Bg0AM_nfZMS3"
   },
   "outputs": [],
   "source": [
    "from segtok import tokenizer\n",
    "from collections import Counter\n",
    "import tensorflow as tf\n",
    "import numpy as np\n",
    "import json\n",
    "import os\n",
    "\n",
    "root_folder = \"\""
   ]
  },
  {
   "cell_type": "markdown",
   "metadata": {
    "colab_type": "text",
    "heading_collapsed": true,
    "id": "DDoGeQIYZMTC"
   },
   "source": [
    "# Preprocessing"
   ]
  },
  {
   "cell_type": "markdown",
   "metadata": {
    "colab_type": "text",
    "hidden": true,
    "id": "dZpTD0T7ZMTH"
   },
   "source": [
    "**You can skip this section, however you may find these functions useful later in the assignment**\n",
    "\n",
    "We have provided this code so you see how the dataset was generated. You will have to come back some of these functions later in the assignment, so feel free to read through, to get familiar."
   ]
  },
  {
   "cell_type": "code",
   "execution_count": 2,
   "metadata": {
    "colab": {},
    "colab_type": "code",
    "hidden": true,
    "id": "-sXsfIZ3ZMTJ"
   },
   "outputs": [],
   "source": [
    "def numerize_sequence(tokenized):\n",
    "    return [w2i.get(w, unkI) for w in tokenized]\n",
    "def pad_sequence(numerized, pad_index, to_length):\n",
    "    pad = numerized[:to_length]\n",
    "    padded = pad + [pad_index] * (to_length - len(pad))\n",
    "    mask = [w != pad_index for w in padded]\n",
    "    return padded, mask"
   ]
  },
  {
   "cell_type": "code",
   "execution_count": 0,
   "metadata": {
    "colab": {
     "base_uri": "https://localhost:8080/",
     "height": 198
    },
    "colab_type": "code",
    "executionInfo": {
     "elapsed": 1027,
     "status": "error",
     "timestamp": 1554390439714,
     "user": {
      "displayName": "JIAYI LI",
      "photoUrl": "",
      "userId": "02612363833810871434"
     },
     "user_tz": 420
    },
    "hidden": true,
    "id": "v9HkyZRwZMTS",
    "outputId": "e5472b2b-0750-4836-d887-9133d536ebbe"
   },
   "outputs": [
    {
     "ename": "NameError",
     "evalue": "ignored",
     "output_type": "error",
     "traceback": [
      "\u001b[0;31m---------------------------------------------------------------------------\u001b[0m",
      "\u001b[0;31mNameError\u001b[0m                                 Traceback (most recent call last)",
      "\u001b[0;32m<ipython-input-5-9b2f96770085>\u001b[0m in \u001b[0;36m<module>\u001b[0;34m()\u001b[0m\n\u001b[1;32m      1\u001b[0m \u001b[0;34m\u001b[0m\u001b[0m\n\u001b[0;32m----> 2\u001b[0;31m \u001b[0;32mfor\u001b[0m \u001b[0ma\u001b[0m \u001b[0;32min\u001b[0m \u001b[0mdataset\u001b[0m\u001b[0;34m:\u001b[0m\u001b[0;34m\u001b[0m\u001b[0;34m\u001b[0m\u001b[0m\n\u001b[0m\u001b[1;32m      3\u001b[0m     \u001b[0ma\u001b[0m\u001b[0;34m[\u001b[0m\u001b[0;34m'tokenized'\u001b[0m\u001b[0;34m]\u001b[0m \u001b[0;34m=\u001b[0m \u001b[0mtokenizer\u001b[0m\u001b[0;34m.\u001b[0m\u001b[0mword_tokenizer\u001b[0m\u001b[0;34m(\u001b[0m\u001b[0ma\u001b[0m\u001b[0;34m[\u001b[0m\u001b[0;34m'title'\u001b[0m\u001b[0;34m]\u001b[0m\u001b[0;34m.\u001b[0m\u001b[0mlower\u001b[0m\u001b[0;34m(\u001b[0m\u001b[0;34m)\u001b[0m\u001b[0;34m)\u001b[0m\u001b[0;34m\u001b[0m\u001b[0;34m\u001b[0m\u001b[0m\n",
      "\u001b[0;31mNameError\u001b[0m: name 'dataset' is not defined"
     ]
    }
   ],
   "source": [
    "# You do not need to run this\n",
    "# This is to show you how the dataset was created\n",
    "# You should read to understand, so you can preprocess text\n",
    "# In the same way, in the evaluation section\n",
    "\n",
    "for a in dataset:\n",
    "    a['tokenized'] = tokenizer.word_tokenizer(a['title'].lower())"
   ]
  },
  {
   "cell_type": "code",
   "execution_count": 0,
   "metadata": {
    "colab": {},
    "colab_type": "code",
    "hidden": true,
    "id": "gg6WbjKnZMTb",
    "scrolled": true
   },
   "outputs": [],
   "source": [
    "# You do not need to run this\n",
    "# This is to show you how the dataset was created\n",
    "# You should read to understand, so you can preprocess text\n",
    "# In the same way, in the evaluation section\n",
    "\n",
    "word_counts = Counter()\n",
    "for a in dataset:\n",
    "    word_counts.update(a['tokenized'])\n",
    "\n",
    "print(word_counts.most_common(30))"
   ]
  },
  {
   "cell_type": "code",
   "execution_count": 0,
   "metadata": {
    "colab": {
     "base_uri": "https://localhost:8080/",
     "height": 232
    },
    "colab_type": "code",
    "executionInfo": {
     "elapsed": 725,
     "status": "error",
     "timestamp": 1554250049261,
     "user": {
      "displayName": "JIAYI LI",
      "photoUrl": "",
      "userId": "02612363833810871434"
     },
     "user_tz": 420
    },
    "hidden": true,
    "id": "JXV2vJrqZMTj",
    "outputId": "f5596392-75f9-4d9b-fe2c-2972308293d9"
   },
   "outputs": [
    {
     "ename": "NameError",
     "evalue": "ignored",
     "output_type": "error",
     "traceback": [
      "\u001b[0;31m---------------------------------------------------------------------------\u001b[0m",
      "\u001b[0;31mNameError\u001b[0m                                 Traceback (most recent call last)",
      "\u001b[0;32m<ipython-input-25-e539e6e852d3>\u001b[0m in \u001b[0;36m<module>\u001b[0;34m()\u001b[0m\n\u001b[1;32m      1\u001b[0m \u001b[0mvocab_size\u001b[0m \u001b[0;34m=\u001b[0m \u001b[0;36m20000\u001b[0m\u001b[0;34m\u001b[0m\u001b[0;34m\u001b[0m\u001b[0m\n\u001b[1;32m      2\u001b[0m \u001b[0mspecial_words\u001b[0m \u001b[0;34m=\u001b[0m \u001b[0;34m[\u001b[0m\u001b[0;34m\"<START>\"\u001b[0m\u001b[0;34m,\u001b[0m \u001b[0;34m\"UNK\"\u001b[0m\u001b[0;34m,\u001b[0m \u001b[0;34m\"PAD\"\u001b[0m\u001b[0;34m]\u001b[0m\u001b[0;34m\u001b[0m\u001b[0;34m\u001b[0m\u001b[0m\n\u001b[0;32m----> 3\u001b[0;31m \u001b[0mvocabulary\u001b[0m \u001b[0;34m=\u001b[0m \u001b[0mspecial_words\u001b[0m \u001b[0;34m+\u001b[0m \u001b[0;34m[\u001b[0m\u001b[0mw\u001b[0m \u001b[0;32mfor\u001b[0m \u001b[0mw\u001b[0m\u001b[0;34m,\u001b[0m \u001b[0mc\u001b[0m \u001b[0;32min\u001b[0m \u001b[0mword_counts\u001b[0m\u001b[0;34m.\u001b[0m\u001b[0mmost_common\u001b[0m\u001b[0;34m(\u001b[0m\u001b[0mvocab_size\u001b[0m\u001b[0;34m-\u001b[0m\u001b[0mlen\u001b[0m\u001b[0;34m(\u001b[0m\u001b[0mspecial_words\u001b[0m\u001b[0;34m)\u001b[0m\u001b[0;34m)\u001b[0m\u001b[0;34m]\u001b[0m\u001b[0;34m\u001b[0m\u001b[0;34m\u001b[0m\u001b[0m\n\u001b[0m\u001b[1;32m      4\u001b[0m \u001b[0mw2i\u001b[0m \u001b[0;34m=\u001b[0m \u001b[0;34m{\u001b[0m\u001b[0mw\u001b[0m\u001b[0;34m:\u001b[0m \u001b[0mi\u001b[0m \u001b[0;32mfor\u001b[0m \u001b[0mi\u001b[0m\u001b[0;34m,\u001b[0m \u001b[0mw\u001b[0m \u001b[0;32min\u001b[0m \u001b[0menumerate\u001b[0m\u001b[0;34m(\u001b[0m\u001b[0mvocabulary\u001b[0m\u001b[0;34m)\u001b[0m\u001b[0;34m}\u001b[0m\u001b[0;34m\u001b[0m\u001b[0;34m\u001b[0m\u001b[0m\n\u001b[1;32m      5\u001b[0m \u001b[0;34m\u001b[0m\u001b[0m\n",
      "\u001b[0;31mNameError\u001b[0m: name 'word_counts' is not defined"
     ]
    }
   ],
   "source": [
    "# You do not need to run this\n",
    "# This is to show you how the dataset was created\n",
    "# You should read to understand, so you can preprocess text\n",
    "# In the same way, in the evaluation section\n",
    "\n",
    "# Creating the vocab\n",
    "vocab_size = 20000\n",
    "special_words = [\"<START>\", \"UNK\", \"PAD\"]\n",
    "vocabulary = special_words + [w for w, c in word_counts.most_common(vocab_size-len(special_words))]\n",
    "w2i = {w: i for i, w in enumerate(vocabulary)}\n",
    "\n",
    "# Numerizing and padding\n",
    "input_length = 20\n",
    "unkI, padI, startI = w2i['UNK'], w2i['PAD'], w2i['<START>']\n",
    "\n",
    "for a in dataset:\n",
    "    a['numerized'] = numerize_sequence(a['tokenized']) # Change words to IDs\n",
    "    a['numerized'], a['mask'] = pad_sequence(a['numerized'], padI, input_length) # Append appropriate PAD tokens\n",
    "    \n",
    "# Compute fraction of words that are UNK:\n",
    "word_counters = Counter([w for a in dataset for w in a['input'] if w != padI])\n",
    "\n",
    "print(\"Fraction of UNK words:\", float(word_counters[unkI]) / sum(word_counters.values()))"
   ]
  },
  {
   "cell_type": "code",
   "execution_count": 0,
   "metadata": {
    "colab": {
     "base_uri": "https://localhost:8080/",
     "height": 232
    },
    "colab_type": "code",
    "executionInfo": {
     "elapsed": 699,
     "status": "error",
     "timestamp": 1554406434792,
     "user": {
      "displayName": "JIAYI LI",
      "photoUrl": "",
      "userId": "02612363833810871434"
     },
     "user_tz": 420
    },
    "hidden": true,
    "id": "h-abAabAZMTs",
    "outputId": "0a738e91-6553-464c-96eb-39450d9a9de5"
   },
   "outputs": [
    {
     "ename": "NameError",
     "evalue": "ignored",
     "output_type": "error",
     "traceback": [
      "\u001b[0;31m---------------------------------------------------------------------------\u001b[0m",
      "\u001b[0;31mNameError\u001b[0m                                 Traceback (most recent call last)",
      "\u001b[0;32m<ipython-input-5-c4d8f58aee9b>\u001b[0m in \u001b[0;36m<module>\u001b[0;34m()\u001b[0m\n\u001b[1;32m      1\u001b[0m \u001b[0;34m\u001b[0m\u001b[0m\n\u001b[0;32m----> 2\u001b[0;31m \u001b[0md_released_processed\u001b[0m   \u001b[0;34m=\u001b[0m \u001b[0;34m[\u001b[0m\u001b[0md\u001b[0m \u001b[0;32mfor\u001b[0m \u001b[0md\u001b[0m \u001b[0;32min\u001b[0m \u001b[0mdataset\u001b[0m \u001b[0;32mif\u001b[0m \u001b[0md\u001b[0m\u001b[0;34m[\u001b[0m\u001b[0;34m'cut'\u001b[0m\u001b[0;34m]\u001b[0m \u001b[0;34m!=\u001b[0m \u001b[0;34m'testing'\u001b[0m\u001b[0;34m]\u001b[0m\u001b[0;34m\u001b[0m\u001b[0;34m\u001b[0m\u001b[0m\n\u001b[0m\u001b[1;32m      3\u001b[0m \u001b[0md_unreleased_processed\u001b[0m \u001b[0;34m=\u001b[0m \u001b[0;34m[\u001b[0m\u001b[0md\u001b[0m \u001b[0;32mfor\u001b[0m \u001b[0md\u001b[0m \u001b[0;32min\u001b[0m \u001b[0mdataset\u001b[0m \u001b[0;32mif\u001b[0m \u001b[0md\u001b[0m\u001b[0;34m[\u001b[0m\u001b[0;34m'cut'\u001b[0m\u001b[0;34m]\u001b[0m \u001b[0;34m==\u001b[0m \u001b[0;34m'testing'\u001b[0m\u001b[0;34m]\u001b[0m\u001b[0;34m\u001b[0m\u001b[0;34m\u001b[0m\u001b[0m\n\u001b[1;32m      4\u001b[0m \u001b[0;34m\u001b[0m\u001b[0m\n\u001b[1;32m      5\u001b[0m \u001b[0;32mwith\u001b[0m \u001b[0mopen\u001b[0m\u001b[0;34m(\u001b[0m\u001b[0;34m\"dataset/headline_generation_dataset_processed.json\"\u001b[0m\u001b[0;34m,\u001b[0m \u001b[0;34m\"w\"\u001b[0m\u001b[0;34m)\u001b[0m \u001b[0;32mas\u001b[0m \u001b[0mf\u001b[0m\u001b[0;34m:\u001b[0m\u001b[0;34m\u001b[0m\u001b[0;34m\u001b[0m\u001b[0m\n",
      "\u001b[0;31mNameError\u001b[0m: name 'dataset' is not defined"
     ]
    }
   ],
   "source": [
    "# You do not need to run this\n",
    "# This is to show you how the dataset was created\n",
    "# You should read to understand, so you can preprocess text\n",
    "# In the same way, in the evaluation section\n",
    "\n",
    "d_released_processed   = [d for d in dataset if d['cut'] != 'testing']\n",
    "d_unreleased_processed = [d for d in dataset if d['cut'] == 'testing']\n",
    "\n",
    "with open(\"dataset/headline_generation_dataset_processed.json\", \"w\") as f:\n",
    "    json.dump(d_released_processed, f)\n",
    "\n",
    "# This file is purposefully left out of the assignment, we will use it to evaluate your model.\n",
    "with open(\"dataset/headline_generation_dataset_unreleased_processed.json\", \"w\") as f:\n",
    "    json.dump(d_unreleased_processed, f)\n",
    "    \n",
    "with open(\"dataset/headline_generation_vocabulary.txt\", \"w\") as f:\n",
    "    f.write(\"\\n\".join(vocabulary).encode('utf8'))"
   ]
  },
  {
   "cell_type": "markdown",
   "metadata": {
    "colab_type": "text",
    "id": "ci9YRpOhZMT4"
   },
   "source": [
    "# Loading the datasets"
   ]
  },
  {
   "cell_type": "markdown",
   "metadata": {
    "colab_type": "text",
    "id": "QeUUGg3OZMT8"
   },
   "source": [
    "Make sure the dataset files are all in the `dataset` folder of the assignment.\n",
    "\n",
    " - If you are using this notebook locally: You should run the `download_data.sh` script.\n",
    " - If you are using the Colab version of the notebook, make sure that your Google Drive is mounted, and you verify from the file explorer in Colab that the files are viewable within `/content/gdrive/CS182_HW03/dataset/`\n",
    " \n"
   ]
  },
  {
   "cell_type": "code",
   "execution_count": 3,
   "metadata": {
    "colab": {
     "base_uri": "https://localhost:8080/",
     "height": 51
    },
    "colab_type": "code",
    "executionInfo": {
     "elapsed": 1193,
     "status": "ok",
     "timestamp": 1554409880894,
     "user": {
      "displayName": "JIAYI LI",
      "photoUrl": "",
      "userId": "02612363833810871434"
     },
     "user_tz": 420
    },
    "id": "Oz2D8LLVZMT-",
    "outputId": "58988e09-131b-41a2-a284-aba3f45fb9b5"
   },
   "outputs": [
    {
     "name": "stdout",
     "output_type": "stream",
     "text": [
      "Number of training samples: 88568\n",
      "Number of validation samples: 946\n"
     ]
    }
   ],
   "source": [
    "roor_folder = \"\"\n",
    "# This cell loads the data for the model\n",
    "# Run this before working on loading any of the additional data\n",
    "\n",
    "with open(root_folder+\"dataset/headline_generation_dataset_processed.json\", \"r\") as f:\n",
    "    d_released = json.load(f)\n",
    "\n",
    "with open(root_folder+\"dataset/headline_generation_vocabulary.txt\", \"r\") as f:\n",
    "    vocabulary = f.read().split(\"\\n\")\n",
    "w2i = {w: i for i, w in enumerate(vocabulary)} # Word to index\n",
    "unkI, padI, start_index = w2i['UNK'], w2i['PAD'], w2i['<START>']\n",
    "\n",
    "vocab_size = len(vocabulary)\n",
    "input_length = len(d_released[0]['numerized']) # The length of the first element in the dataset, they are all of the same length\n",
    "d_train = [d for d in d_released if d['cut'] == 'training']\n",
    "d_valid = [d for d in d_released if d['cut'] == 'validation']\n",
    "\n",
    "print(\"Number of training samples:\",len(d_train))\n",
    "print(\"Number of validation samples:\",len(d_valid))"
   ]
  },
  {
   "cell_type": "markdown",
   "metadata": {
    "colab_type": "text",
    "id": "ebug4plEZMUJ"
   },
   "source": [
    "Now that we have loaded the data, let's inspect one of the elements. Each sample in our dataset is has a `numerized` vector, that contains the preprocessed headline. This vector is what we will feed in to the neural network. The field `numerized` corresponds to this list of tokens. The already loaded dictionary `vocabulary` maps token lists to the actual string. Use these elements to recover `title` key of entry 1001 in the training dataset.\n",
    "\n",
    "**TODO**: Write the numerized2text function and inspect element 1001 in the training dataset (`entry = d_train[1001]`).\n",
    "\n"
   ]
  },
  {
   "cell_type": "code",
   "execution_count": 4,
   "metadata": {
    "colab": {
     "base_uri": "https://localhost:8080/",
     "height": 51
    },
    "colab_type": "code",
    "executionInfo": {
     "elapsed": 436,
     "status": "ok",
     "timestamp": 1554409883124,
     "user": {
      "displayName": "JIAYI LI",
      "photoUrl": "",
      "userId": "02612363833810871434"
     },
     "user_tz": 420
    },
    "id": "K1IljqwaZMUK",
    "outputId": "652a0e2a-0908-4d73-e61b-58884200b5ab"
   },
   "outputs": [
    {
     "name": "stdout",
     "output_type": "stream",
     "text": [
      "Reversing the numerized: microsoft donates cloud computing ' worth $ 1 bn ' PAD PAD PAD PAD PAD PAD PAD PAD PAD PAD\n",
      "From the `title` entry: Microsoft donates cloud computing 'worth $1 bn'\n"
     ]
    }
   ],
   "source": [
    "def numerized2text(numerized):\n",
    "    \"\"\" Converts an integer sequence in the vocabulary into a string corresponding to the title.\n",
    "    \n",
    "        Arguments:\n",
    "            numerized: List[int]  -- The list of vocabulary indices corresponding to the string\n",
    "        Returns:\n",
    "            title: str -- The string corresponding to the numerized input, without padding.\n",
    "    \"\"\"\n",
    "    #####\n",
    "    # BEGIN YOUR CODE HERE \n",
    "    # Recover each word from the vocabulary in the list of indices in numerized, using the vocabulary variable\n",
    "    # Hint: Use the string.join() function to reconstruct a single string\n",
    "    #####\n",
    "    \n",
    "    words = []\n",
    "    for index in numerized:\n",
    "        words.append(vocabulary[index])\n",
    "    seperator = ' '\n",
    "    converted_string = seperator.join(words).rstrip()\n",
    "    \n",
    "    #####\n",
    "    # END YOUR CODE HERE\n",
    "    #####\n",
    "    \n",
    "    return converted_string\n",
    "\n",
    "entry = d_train[1001]\n",
    "print(\"Reversing the numerized: \"+numerized2text(entry['numerized']))\n",
    "print(\"From the `title` entry: \"+ entry['title'])"
   ]
  },
  {
   "cell_type": "markdown",
   "metadata": {
    "colab_type": "text",
    "id": "W4aH0eJ1ZMUP"
   },
   "source": [
    "In language modeling, we train a model to produce the next word in the sequence given all previously generated words. This has, in practice, two steps:\n",
    "\n",
    "\n",
    "    1. Adding a special <START> token to the start of the sequence for the input. This \"shifts\" the input to the right by one. We call this the \"source\" sequence\n",
    "    2. Making the network predict the original, unshifted version (we call this the \"target\" sequence)\n",
    "\n",
    "    \n",
    "Let's take an example. Say we want to train the network on the sentence: \"The cat is great.\"\n",
    "The input to the network will be \"`<START>` The cat is great.\" The target will be: \"The cat is great\".\n",
    "    \n",
    "Therefore the first prediction is to select the word \"The\" given the `<START>` token.\n",
    "The second prediction is to produce the word \"cat\" given the two tokens \"`<START>` The\".\n",
    "At each step, the network learns to predict the next word, given all previous ones.\n",
    "    \n",
    "---"
   ]
  },
  {
   "cell_type": "markdown",
   "metadata": {
    "colab_type": "text",
    "id": "d7KsaMTYZMUT"
   },
   "source": [
    "Your next step is to write the build_batch function. Given a dataset, we select a random subset of samples, and will build the \"inputs\" and the \"targets\" of the batch, following the procedure we've described.\n",
    "\n",
    "**TODO**: write the build_batch function. We give you the structure, and you have to fill in where we have left things `None`.\n"
   ]
  },
  {
   "cell_type": "code",
   "execution_count": 5,
   "metadata": {
    "colab": {},
    "colab_type": "code",
    "id": "iLwTknHGZMUX"
   },
   "outputs": [],
   "source": [
    "def build_batch(dataset, batch_size):\n",
    "    \"\"\" Builds a batch of source and target elements from the dataset.\n",
    "    \n",
    "        Arguments:\n",
    "            dataset: List[db_element] -- A list of dataset elements\n",
    "            batch_size: int -- The size of the batch that should be created\n",
    "        Returns:\n",
    "            batch_input: List[List[int]] -- List of source sequences\n",
    "            batch_target: List[List[int]] -- List of target sequences\n",
    "            batch_target_mask: List[List[int]] -- List of target batch masks\n",
    "    \"\"\"\n",
    "    \n",
    "    #####\n",
    "    # BEGIN YOUR CODE HERE \n",
    "    #####\n",
    "    \n",
    "    \n",
    "    # We get a list of indices we will choose from the dataset.\n",
    "    # The randint function uses a uniform distribution, giving equal probably to any entry\n",
    "    # for each batch\n",
    "    indices = list(np.random.randint(0, len(dataset), size=batch_size))\n",
    "    \n",
    "    # Recover what the entries for the batch are\n",
    "    batch = [dataset[i] for i in indices]\n",
    "    \n",
    "    # Get the raw numerized for this input, each element of the dataset has a 'numerized' key\n",
    "    batch_numerized = np.array([dataset[i]['numerized'] for i in indices])\n",
    "    \n",
    "\n",
    "    # Create an array of start_index that will be concatenated at position 1 for the input.\n",
    "    # Should be of shape (batch_size, 1)\n",
    "    \n",
    "    start_tokens = np.zeros((len(batch), 1))\n",
    "\n",
    "    # Concatenate the start_tokens with the rest of the input\n",
    "    # The np.concatenate function should be useful\n",
    "    # The output should now be [batch_size, sequence_length+1]\n",
    "    batch_input = np.concatenate([start_tokens, batch_numerized], axis = 1)\n",
    "\n",
    "    # Remove the last word from each element in the batch\n",
    "    # To restore the [batch_size, sequence_length] size\n",
    "    batch_input = batch_input[:,:-1]\n",
    "    \n",
    "    # The target should be the un-shifted numerized input\n",
    "    batch_target = batch_numerized\n",
    "\n",
    "    # The target-mask is a 0 or 1 filter to note which tokens are\n",
    "    # padding or not, to give the loss, so the model doesn't get rewarded for\n",
    "    # predicting PAD tokens.\n",
    "    batch_target_mask = np.array([a['mask'] for a in batch])\n",
    "    \n",
    "    #####\n",
    "    # END YOUR CODE HERE \n",
    "    #####\n",
    "        \n",
    "    return batch_input, batch_target, batch_target_mask"
   ]
  },
  {
   "cell_type": "markdown",
   "metadata": {
    "colab_type": "text",
    "id": "36SjiEj-ZMUe"
   },
   "source": [
    "# Creating the language model"
   ]
  },
  {
   "cell_type": "markdown",
   "metadata": {
    "colab_type": "text",
    "id": "KH7PzTdLZMUj"
   },
   "source": [
    "Now that we've written the data pipelining, we are ready to write the Neural network.\n",
    "\n",
    "The steps to setting up a neural network to do Language modeling are:\n",
    "- Creating the placeholders for the model, where we can feed in our inputs and targets.\n",
    "- Creating an RNN of our choice, size, and with optional parameters\n",
    "- Using the RNN on our placeholder inputs.\n",
    "- Getting the output from the RNN, and projecting it into a vocabulary sized dimension, so that we can make word predictions.\n",
    "- Setting up the loss on the outputs so that the network learns to produce the correct words.\n",
    "- Finally, choosing an optimizer, and defining a training operation: using the optimizer to minimize the loss.\n",
    "\n",
    "We provide skeleton code for the model, you can fill in the `None` section. If you are unfamiliar with Tensorflow, we provide some idea of what functions to look for, you should use the Tensorflow online documentation.\n",
    "\n",
    "**TODO**: Replace the `None` variables with their respective code elements in the LanguageModel Class\n"
   ]
  },
  {
   "cell_type": "code",
   "execution_count": 6,
   "metadata": {
    "colab": {},
    "colab_type": "code",
    "id": "TK3UTjGhZMUn"
   },
   "outputs": [],
   "source": [
    "# Using a basic RNN/LSTM for Language modeling\n",
    "# Using a basic RNN/LSTM for Language modeling\n",
    "class LanguageModel():\n",
    "    def __init__(self, input_length, vocab_size, rnn_size, learning_rate=1e-4):\n",
    "        \n",
    "        # Create the placeholders for the inputs:\n",
    "        # All three placeholders should be of size [None, input_length]\n",
    "        # Where None represents a variable batch_size, and input_length is the\n",
    "        # maximal length of a sequence of words, after being padded.\n",
    "        self.input_num = tf.placeholder(tf.int32, shape=[None, input_length])\n",
    "        self.targets = tf.placeholder(tf.int32, shape =[None, input_length])\n",
    "        self.targets_mask = tf.placeholder(tf.int32, shape =[None, input_length])\n",
    "\n",
    "        # Create an embedding variable of shape [vocab_size, rnn_size]\n",
    "        # That will map each word in our vocab into a vector of rnn_size size.\n",
    "        embedding = tf.get_variable('embeddings', [vocab_size, rnn_size])\n",
    "        # Use the tensorflow embedding_lookup function\n",
    "        # To embed the input_num, using the embedding variable we've created\n",
    "        input_emb = tf.nn.embedding_lookup(embedding, self.input_num)\n",
    "\n",
    "        # Create a an RNN or LSTM cell of rnn_size size.\n",
    "        # Look into the tf.nn.rnn_cell documentation\n",
    "        # You can optionally use Tensorflow Add-ons such as the MultiRNNCell, or the DropoutWrapper\n",
    "        lm_cell = tf.nn.rnn_cell.LSTMCell(rnn_size)\n",
    "        \n",
    "        # Use the dynamic_rnn function of Tensorflow to run the embedded inputs\n",
    "        # using the lm_cell you've created, and obtain the outputs of the RNN cell.\n",
    "        # You have created a cell, which represents a single block (column) of the RNN.\n",
    "        # dynamic_rnn will \"copy\" the cell for each element in your sequence, runs the input you provide through the cell,\n",
    "        # and returns the outputs and the states of the cell.\n",
    "        self.outputs, states = tf.nn.dynamic_rnn(cell=lm_cell, inputs=input_emb, dtype=tf.float32)\n",
    "\n",
    "        # Use a dense layer to project the outputs of the RNN cell into the size of the\n",
    "        # vocabulary (vocab_size).\n",
    "        # output_logits should be of shape [None,input_length,vocab_size]\n",
    "        # You can look at the tf.layers.dense function\n",
    "        self.output_logits = tf.layers.dense(self.outputs, vocab_size)\n",
    "\n",
    "        # Setup the loss: using the sparse_softmax_cross_entropy.\n",
    "        # The logits are the output_logits we've computed.\n",
    "        # The targets are the gold labels we are trying to match\n",
    "        # Don't forget to use the targets_mask we have, so your loss is not off,\n",
    "        # And your model doesn't get rewarded for predicting PAD tokens\n",
    "        # You might have to cast the masks into float32. Look at the tf.cast function.\n",
    "        tf.cast(self.targets_mask, dtype = tf.float32)\n",
    "        self.loss = tf.losses.sparse_softmax_cross_entropy(self.targets, self.output_logits, weights = self.targets_mask)\n",
    "\n",
    "        # Setup an optimizer (SGD, RMSProp, Adam), you can find a list under tf.train.*\n",
    "        # And provide it with a start learning rate.\n",
    "\n",
    "        optimizer = tf.train.AdamOptimizer(learning_rate)    \n",
    "\n",
    "        # We create a train_op that requires the optimizer we've created to minimize the\n",
    "        # loss we've defined.\n",
    "        # look for the optimizer.minimize function, define what should be miniminzed.\n",
    "        # You can provide it with the provide an optional global_step parameter as well that keeps of how many\n",
    "        # Optimizations steps have been run.\n",
    "        \n",
    "        self.global_step = tf.train.get_or_create_global_step()\n",
    "        self.train_op = optimizer.minimize(self.loss, global_step=self.global_step)\n",
    "        self.saver = tf.train.Saver()"
   ]
  },
  {
   "cell_type": "markdown",
   "metadata": {
    "colab_type": "text",
    "id": "dgyLNFe3ZMUs"
   },
   "source": [
    "Once you have created the Model class, we should instantiate the model. The line tf.reset_default_graph() resets the graph for the Jupyter notebook, so multiple models aren't floating around. If you have trouble with redefinition of variables, it may be worth re-running the cell below. "
   ]
  },
  {
   "cell_type": "code",
   "execution_count": 7,
   "metadata": {
    "colab": {
     "base_uri": "https://localhost:8080/",
     "height": 343
    },
    "colab_type": "code",
    "executionInfo": {
     "elapsed": 1426,
     "status": "ok",
     "timestamp": 1554409893803,
     "user": {
      "displayName": "JIAYI LI",
      "photoUrl": "",
      "userId": "02612363833810871434"
     },
     "user_tz": 420
    },
    "id": "2jH3sPmhZMUu",
    "outputId": "7514392f-57a9-4755-9ca5-7a5a85b37e92"
   },
   "outputs": [
    {
     "name": "stdout",
     "output_type": "stream",
     "text": [
      "WARNING:tensorflow:From /Users/LiJiayi/Downloads/assignment3/HW3/lib/python3.6/site-packages/tensorflow/python/framework/op_def_library.py:263: colocate_with (from tensorflow.python.framework.ops) is deprecated and will be removed in a future version.\n",
      "Instructions for updating:\n",
      "Colocations handled automatically by placer.\n",
      "WARNING:tensorflow:From <ipython-input-6-ddf07bf53375>:24: LSTMCell.__init__ (from tensorflow.python.ops.rnn_cell_impl) is deprecated and will be removed in a future version.\n",
      "Instructions for updating:\n",
      "This class is equivalent as tf.keras.layers.LSTMCell, and will be replaced by that in Tensorflow 2.0.\n",
      "WARNING:tensorflow:From <ipython-input-6-ddf07bf53375>:31: dynamic_rnn (from tensorflow.python.ops.rnn) is deprecated and will be removed in a future version.\n",
      "Instructions for updating:\n",
      "Please use `keras.layers.RNN(cell)`, which is equivalent to this API\n",
      "WARNING:tensorflow:From <ipython-input-6-ddf07bf53375>:37: dense (from tensorflow.python.layers.core) is deprecated and will be removed in a future version.\n",
      "Instructions for updating:\n",
      "Use keras.layers.dense instead.\n",
      "WARNING:tensorflow:From /Users/LiJiayi/Downloads/assignment3/HW3/lib/python3.6/site-packages/tensorflow/python/ops/losses/losses_impl.py:209: to_float (from tensorflow.python.ops.math_ops) is deprecated and will be removed in a future version.\n",
      "Instructions for updating:\n",
      "Use tf.cast instead.\n",
      "WARNING:tensorflow:From /Users/LiJiayi/Downloads/assignment3/HW3/lib/python3.6/site-packages/tensorflow/python/ops/array_grad.py:425: to_int32 (from tensorflow.python.ops.math_ops) is deprecated and will be removed in a future version.\n",
      "Instructions for updating:\n",
      "Use tf.cast instead.\n"
     ]
    }
   ],
   "source": [
    "# We can create our model,\n",
    "# with parameters of our choosing.\n",
    "\n",
    "tf.reset_default_graph() # This is so that when you debug, you reset the graph each time you run this, in essence, cleaning the board\n",
    "model = LanguageModel(input_length=input_length, vocab_size=vocab_size, rnn_size=256, learning_rate=1e-4)"
   ]
  },
  {
   "cell_type": "markdown",
   "metadata": {
    "colab_type": "text",
    "id": "krUmQsMvZMUz"
   },
   "source": [
    "# Training the model"
   ]
  },
  {
   "cell_type": "markdown",
   "metadata": {
    "colab_type": "text",
    "id": "C_4Zyh6SZMU6"
   },
   "source": [
    "Your objective is to train the Language on the dataset you are provided to reach a **loss <= 5.50**\n",
    "\n",
    "**TODO**: Train your model so that it achieves a loss of <= 5.5. \n",
    "\n",
    "**Careful**: we will be testing this loss on an unreleased test set, so make sure to evaluate properly on a validation set and not overfit. You must save the model you want us to test under: models/final_language_model (the .index, .meta and .data files)\n",
    "\n",
    "**Advice**:\n",
    "- It should be possible to attain loss <= 5.50 with a 1-layer LSTM of size 256 or less.\n",
    "- You should not need more than 10 epochs to attain the threshold. More passes over the data can however give you a better model.\n",
    "- You can however try using:\n",
    "    - LSTM dropout (Tensorflow has a layer for that)\n",
    "    - Multi-layer RNN cell (Tensorflow has a layer for that)\n",
    "    - Change your optimizers, tune your learning_rate, use a learning rate schedule.\n",
    "    \n",
    "**Extra credit**:\n",
    "\n",
    "Get the loss below **loss <= 5.00** and get 5 points of extra-credit on this assignment. Get creative,\n",
    "but remember, what you do should work on our held-out test set to get the points."
   ]
  },
  {
   "cell_type": "code",
   "execution_count": 0,
   "metadata": {
    "colab": {
     "base_uri": "https://localhost:8080/",
     "height": 8038
    },
    "colab_type": "code",
    "executionInfo": {
     "elapsed": 3577,
     "status": "error",
     "timestamp": 1554409613165,
     "user": {
      "displayName": "JIAYI LI",
      "photoUrl": "",
      "userId": "02612363833810871434"
     },
     "user_tz": 420
    },
    "id": "q1g2UvQwZMU8",
    "outputId": "8c6b2771-a829-4834-e541-6f3983482b72"
   },
   "outputs": [
    {
     "name": "stdout",
     "output_type": "stream",
     "text": [
      "0\n",
      "step size: 0\n",
      "train_loss: 9.210424\n",
      "EVAL loss: [9.210241]\n",
      "1000\n",
      "step size: 1000\n",
      "train_loss: 7.1133046\n",
      "EVAL loss: [6.8406363]\n",
      "2000\n",
      "step size: 2000\n",
      "train_loss: 6.8619967\n",
      "EVAL loss: [6.7659]\n",
      "3000\n",
      "step size: 3000\n",
      "train_loss: 6.4330854\n",
      "EVAL loss: [6.754903]\n",
      "4000\n",
      "step size: 4000\n",
      "train_loss: 6.688726\n",
      "EVAL loss: [6.666968]\n",
      "5000\n",
      "step size: 5000\n",
      "train_loss: 6.486291\n",
      "EVAL loss: [6.6449018]\n",
      "6000\n",
      "step size: 6000\n",
      "train_loss: 6.4139333\n",
      "EVAL loss: [6.541736]\n",
      "7000\n",
      "step size: 7000\n",
      "train_loss: 6.592956\n",
      "EVAL loss: [6.4699154]\n",
      "8000\n",
      "step size: 8000\n",
      "train_loss: 6.641743\n",
      "EVAL loss: [6.4029384]\n",
      "9000\n",
      "step size: 9000\n",
      "train_loss: 5.983365\n",
      "EVAL loss: [6.3710995]\n",
      "10000\n",
      "step size: 10000\n",
      "train_loss: 6.604657\n",
      "EVAL loss: [6.355195]\n",
      "11000\n",
      "step size: 11000\n",
      "train_loss: 6.4744673\n",
      "EVAL loss: [6.313308]\n",
      "12000\n",
      "step size: 12000\n",
      "train_loss: 6.324242\n",
      "EVAL loss: [6.2184224]\n",
      "13000\n",
      "step size: 13000\n",
      "train_loss: 6.1971436\n",
      "EVAL loss: [6.228628]\n",
      "14000\n",
      "step size: 14000\n",
      "train_loss: 5.9712243\n",
      "EVAL loss: [6.1557918]\n",
      "15000\n",
      "step size: 15000\n",
      "train_loss: 6.0923443\n",
      "EVAL loss: [6.1488442]\n",
      "16000\n",
      "step size: 16000\n",
      "train_loss: 6.1317987\n",
      "EVAL loss: [6.106882]\n",
      "17000\n",
      "step size: 17000\n",
      "train_loss: 6.220769\n",
      "EVAL loss: [6.0635624]\n",
      "18000\n",
      "step size: 18000\n",
      "train_loss: 5.486053\n",
      "EVAL loss: [5.998753]\n",
      "19000\n",
      "step size: 19000\n",
      "train_loss: 5.987496\n",
      "EVAL loss: [6.0310154]\n",
      "20000\n",
      "step size: 20000\n",
      "train_loss: 6.055268\n",
      "EVAL loss: [5.9593964]\n",
      "21000\n",
      "step size: 21000\n",
      "train_loss: 6.2490582\n",
      "EVAL loss: [5.9804955]\n",
      "22000\n",
      "step size: 22000\n",
      "train_loss: 5.948752\n",
      "EVAL loss: [5.9101005]\n",
      "23000\n",
      "step size: 23000\n",
      "train_loss: 6.1423144\n",
      "EVAL loss: [5.9210863]\n",
      "24000\n",
      "step size: 24000\n",
      "train_loss: 5.793767\n",
      "EVAL loss: [5.8854437]\n",
      "25000\n",
      "step size: 25000\n",
      "train_loss: 5.994742\n",
      "EVAL loss: [5.881882]\n",
      "26000\n",
      "step size: 26000\n",
      "train_loss: 5.641944\n",
      "EVAL loss: [5.827983]\n",
      "27000\n",
      "step size: 27000\n",
      "train_loss: 5.695974\n",
      "EVAL loss: [5.763372]\n",
      "28000\n",
      "step size: 28000\n",
      "train_loss: 5.553632\n",
      "EVAL loss: [5.790706]\n",
      "29000\n",
      "step size: 29000\n",
      "train_loss: 5.9370446\n",
      "EVAL loss: [5.766807]\n",
      "30000\n",
      "step size: 30000\n",
      "train_loss: 5.7589355\n",
      "EVAL loss: [5.782554]\n",
      "31000\n",
      "step size: 31000\n",
      "train_loss: 5.986305\n",
      "EVAL loss: [5.7103686]\n",
      "32000\n",
      "step size: 32000\n",
      "train_loss: 5.567239\n",
      "EVAL loss: [5.6988826]\n",
      "33000\n",
      "step size: 33000\n",
      "train_loss: 5.7002354\n",
      "EVAL loss: [5.6826153]\n",
      "34000\n",
      "step size: 34000\n",
      "train_loss: 5.5546236\n",
      "EVAL loss: [5.6663256]\n",
      "35000\n",
      "step size: 35000\n",
      "train_loss: 5.3934636\n",
      "EVAL loss: [5.6225967]\n",
      "36000\n",
      "step size: 36000\n",
      "train_loss: 5.507502\n",
      "EVAL loss: [5.659884]\n",
      "37000\n",
      "step size: 37000\n",
      "train_loss: 5.813073\n",
      "EVAL loss: [5.6451397]\n",
      "38000\n",
      "step size: 38000\n",
      "train_loss: 5.8678174\n",
      "EVAL loss: [5.6193337]\n",
      "39000\n",
      "step size: 39000\n",
      "train_loss: 5.5173106\n",
      "EVAL loss: [5.594808]\n",
      "40000\n",
      "step size: 40000\n",
      "train_loss: 5.7195063\n",
      "EVAL loss: [5.475731]\n",
      "41000\n",
      "step size: 41000\n",
      "train_loss: 5.567216\n",
      "EVAL loss: [5.5618935]\n",
      "42000\n",
      "step size: 42000\n",
      "train_loss: 5.596677\n",
      "EVAL loss: [5.515907]\n",
      "43000\n",
      "step size: 43000\n",
      "train_loss: 5.6230097\n",
      "EVAL loss: [5.518431]\n",
      "44000\n",
      "step size: 44000\n",
      "train_loss: 5.396591\n",
      "EVAL loss: [5.46584]\n",
      "45000\n",
      "step size: 45000\n",
      "train_loss: 5.490035\n",
      "EVAL loss: [5.4338665]\n",
      "46000\n",
      "step size: 46000\n",
      "train_loss: 5.776908\n",
      "EVAL loss: [5.4639397]\n",
      "47000\n",
      "step size: 47000\n",
      "train_loss: 5.7524676\n",
      "EVAL loss: [5.42837]\n",
      "48000\n",
      "step size: 48000\n",
      "train_loss: 5.0788713\n",
      "EVAL loss: [5.3963704]\n",
      "49000\n",
      "step size: 49000\n",
      "train_loss: 5.6235914\n",
      "EVAL loss: [5.40838]\n",
      "50000\n",
      "step size: 50000\n",
      "train_loss: 5.1820087\n",
      "EVAL loss: [5.3941355]\n",
      "51000\n",
      "step size: 51000\n",
      "train_loss: 5.200767\n",
      "EVAL loss: [5.363661]\n",
      "52000\n",
      "step size: 52000\n",
      "train_loss: 5.2261853\n",
      "EVAL loss: [5.4175096]\n",
      "53000\n",
      "step size: 53000\n",
      "train_loss: 5.218666\n",
      "EVAL loss: [5.323428]\n",
      "54000\n",
      "step size: 54000\n",
      "train_loss: 5.821677\n",
      "EVAL loss: [5.312377]\n",
      "55000\n",
      "step size: 55000\n",
      "train_loss: 5.477096\n",
      "EVAL loss: [5.3116746]\n",
      "56000\n",
      "step size: 56000\n",
      "train_loss: 5.1374693\n",
      "EVAL loss: [5.306269]\n",
      "57000\n",
      "step size: 57000\n",
      "train_loss: 5.3445215\n",
      "EVAL loss: [5.302872]\n",
      "58000\n",
      "step size: 58000\n",
      "train_loss: 5.1651425\n",
      "EVAL loss: [5.3348756]\n",
      "59000\n",
      "step size: 59000\n",
      "train_loss: 5.219815\n",
      "EVAL loss: [5.2568417]\n",
      "60000\n",
      "step size: 60000\n",
      "train_loss: 5.098809\n",
      "EVAL loss: [5.2267494]\n",
      "61000\n",
      "step size: 61000\n",
      "train_loss: 5.0806117\n",
      "EVAL loss: [5.2195706]\n",
      "62000\n",
      "step size: 62000\n",
      "train_loss: 4.950246\n",
      "EVAL loss: [5.2080874]\n",
      "63000\n",
      "step size: 63000\n",
      "train_loss: 5.425024\n",
      "EVAL loss: [5.2254987]\n",
      "64000\n",
      "step size: 64000\n",
      "train_loss: 5.0649548\n",
      "EVAL loss: [5.155092]\n",
      "65000\n",
      "step size: 65000\n",
      "train_loss: 5.070988\n",
      "EVAL loss: [5.2180967]\n",
      "66000\n",
      "step size: 66000\n",
      "train_loss: 5.315398\n",
      "EVAL loss: [5.162886]\n",
      "67000\n",
      "step size: 67000\n",
      "train_loss: 5.2680016\n",
      "EVAL loss: [5.144824]\n",
      "68000\n",
      "step size: 68000\n",
      "train_loss: 4.771583\n",
      "EVAL loss: [5.183681]\n",
      "69000\n",
      "step size: 69000\n",
      "train_loss: 4.926948\n",
      "EVAL loss: [5.149175]\n",
      "70000\n",
      "step size: 70000\n",
      "train_loss: 4.8854623\n",
      "EVAL loss: [5.150064]\n",
      "71000\n",
      "step size: 71000\n",
      "train_loss: 5.0009546\n",
      "EVAL loss: [5.1178303]\n",
      "72000\n",
      "step size: 72000\n",
      "train_loss: 4.6000896\n",
      "EVAL loss: [5.104549]\n",
      "73000\n",
      "step size: 73000\n",
      "train_loss: 5.012725\n",
      "EVAL loss: [5.119575]\n",
      "74000\n",
      "step size: 74000\n",
      "train_loss: 4.869454\n",
      "EVAL loss: [5.1164784]\n",
      "75000\n",
      "step size: 75000\n",
      "train_loss: 5.411012\n",
      "EVAL loss: [5.060172]\n",
      "76000\n",
      "step size: 76000\n",
      "train_loss: 5.0891037\n",
      "EVAL loss: [5.1035023]\n",
      "77000\n",
      "step size: 77000\n",
      "train_loss: 5.102293\n",
      "EVAL loss: [5.0673127]\n",
      "78000\n",
      "step size: 78000\n",
      "train_loss: 5.348394\n",
      "EVAL loss: [5.011484]\n",
      "79000\n",
      "step size: 79000\n",
      "train_loss: 5.202043\n",
      "EVAL loss: [5.063702]\n",
      "80000\n",
      "step size: 80000\n",
      "train_loss: 5.127199\n",
      "EVAL loss: [5.0323553]\n",
      "81000\n",
      "step size: 81000\n",
      "train_loss: 4.950218\n",
      "EVAL loss: [5.067555]\n",
      "82000\n",
      "step size: 82000\n",
      "train_loss: 4.7254353\n",
      "EVAL loss: [5.0752707]\n",
      "83000\n",
      "step size: 83000\n",
      "train_loss: 5.030549\n",
      "EVAL loss: [5.007806]\n",
      "84000\n",
      "step size: 84000\n",
      "train_loss: 5.261688\n",
      "EVAL loss: [5.0393243]\n",
      "85000\n",
      "step size: 85000\n",
      "train_loss: 4.9232283\n",
      "EVAL loss: [5.00415]\n",
      "86000\n",
      "step size: 86000\n",
      "train_loss: 5.1512218\n",
      "EVAL loss: [5.001322]\n",
      "87000\n",
      "step size: 87000\n",
      "train_loss: 5.0568495\n",
      "EVAL loss: [5.000686]\n",
      "88000\n",
      "step size: 88000\n",
      "train_loss: 4.9071426\n",
      "EVAL loss: [4.976881]\n",
      "89000\n",
      "step size: 89000\n",
      "train_loss: 4.7850223\n",
      "EVAL loss: [4.9705033]\n",
      "90000\n",
      "step size: 90000\n",
      "train_loss: 4.9826784\n",
      "EVAL loss: [4.949464]\n",
      "91000\n",
      "step size: 91000\n",
      "train_loss: 4.9485636\n",
      "EVAL loss: [4.932371]\n",
      "92000\n",
      "step size: 92000\n",
      "train_loss: 5.0290284\n",
      "EVAL loss: [4.9279585]\n",
      "93000\n",
      "step size: 93000\n",
      "train_loss: 4.3537498\n",
      "EVAL loss: [4.954418]\n",
      "94000\n",
      "step size: 94000\n",
      "train_loss: 4.8486004\n",
      "EVAL loss: [4.963373]\n",
      "95000\n",
      "step size: 95000\n",
      "train_loss: 5.0896287\n",
      "EVAL loss: [4.9122496]\n",
      "96000\n",
      "step size: 96000\n",
      "train_loss: 5.15098\n",
      "EVAL loss: [4.911486]\n",
      "97000\n",
      "step size: 97000\n",
      "train_loss: 4.741505\n",
      "EVAL loss: [4.876273]\n",
      "98000\n",
      "step size: 98000\n",
      "train_loss: 4.914637\n",
      "EVAL loss: [4.9041038]\n",
      "99000\n",
      "step size: 99000\n",
      "train_loss: 5.2159195\n",
      "EVAL loss: [4.9393163]\n",
      "100000\n",
      "step size: 100000\n",
      "train_loss: 5.1043625\n",
      "EVAL loss: [4.9127593]\n",
      "101000\n",
      "step size: 101000\n",
      "train_loss: 4.974058\n",
      "EVAL loss: [4.857923]\n",
      "102000\n",
      "step size: 102000\n",
      "train_loss: 4.2303905\n",
      "EVAL loss: [4.8506074]\n",
      "103000\n",
      "step size: 103000\n",
      "train_loss: 4.795029\n",
      "EVAL loss: [4.833146]\n"
     ]
    },
    {
     "ename": "KeyboardInterrupt",
     "evalue": "ignored",
     "output_type": "error",
     "traceback": [
      "\u001b[0;31m---------------------------------------------------------------------------\u001b[0m",
      "\u001b[0;31mKeyboardInterrupt\u001b[0m                         Traceback (most recent call last)",
      "\u001b[0;32m<ipython-input-11-05b8a099c467>\u001b[0m in \u001b[0;36m<module>\u001b[0;34m()\u001b[0m\n\u001b[1;32m     23\u001b[0m             \u001b[0;31m# Otherwise, your network will overfit on your validation dataset.\u001b[0m\u001b[0;34m\u001b[0m\u001b[0;34m\u001b[0m\u001b[0;34m\u001b[0m\u001b[0m\n\u001b[1;32m     24\u001b[0m \u001b[0;34m\u001b[0m\u001b[0m\n\u001b[0;32m---> 25\u001b[0;31m         \u001b[0mstep\u001b[0m\u001b[0;34m,\u001b[0m \u001b[0mtrain_loss\u001b[0m\u001b[0;34m,\u001b[0m \u001b[0m_\u001b[0m \u001b[0;34m=\u001b[0m \u001b[0msess\u001b[0m\u001b[0;34m.\u001b[0m\u001b[0mrun\u001b[0m\u001b[0;34m(\u001b[0m\u001b[0;34m[\u001b[0m\u001b[0mmodel\u001b[0m\u001b[0;34m.\u001b[0m\u001b[0mglobal_step\u001b[0m\u001b[0;34m,\u001b[0m \u001b[0mmodel\u001b[0m\u001b[0;34m.\u001b[0m\u001b[0mloss\u001b[0m\u001b[0;34m,\u001b[0m \u001b[0mmodel\u001b[0m\u001b[0;34m.\u001b[0m\u001b[0mtrain_op\u001b[0m\u001b[0;34m]\u001b[0m\u001b[0;34m,\u001b[0m \u001b[0mfeed_dict\u001b[0m\u001b[0;34m=\u001b[0m\u001b[0mfeed\u001b[0m\u001b[0;34m)\u001b[0m\u001b[0;34m\u001b[0m\u001b[0;34m\u001b[0m\u001b[0m\n\u001b[0m\u001b[1;32m     26\u001b[0m         \u001b[0;32mif\u001b[0m \u001b[0;34m(\u001b[0m\u001b[0mi\u001b[0m \u001b[0;34m%\u001b[0m \u001b[0;36m1000\u001b[0m \u001b[0;34m==\u001b[0m \u001b[0;36m0\u001b[0m\u001b[0;34m)\u001b[0m\u001b[0;34m:\u001b[0m\u001b[0;34m\u001b[0m\u001b[0;34m\u001b[0m\u001b[0m\n\u001b[1;32m     27\u001b[0m             \u001b[0mprint\u001b[0m\u001b[0;34m(\u001b[0m\u001b[0mi\u001b[0m\u001b[0;34m)\u001b[0m\u001b[0;34m\u001b[0m\u001b[0;34m\u001b[0m\u001b[0m\n",
      "\u001b[0;32m/usr/local/lib/python3.6/dist-packages/tensorflow/python/client/session.py\u001b[0m in \u001b[0;36mrun\u001b[0;34m(self, fetches, feed_dict, options, run_metadata)\u001b[0m\n\u001b[1;32m    927\u001b[0m     \u001b[0;32mtry\u001b[0m\u001b[0;34m:\u001b[0m\u001b[0;34m\u001b[0m\u001b[0;34m\u001b[0m\u001b[0m\n\u001b[1;32m    928\u001b[0m       result = self._run(None, fetches, feed_dict, options_ptr,\n\u001b[0;32m--> 929\u001b[0;31m                          run_metadata_ptr)\n\u001b[0m\u001b[1;32m    930\u001b[0m       \u001b[0;32mif\u001b[0m \u001b[0mrun_metadata\u001b[0m\u001b[0;34m:\u001b[0m\u001b[0;34m\u001b[0m\u001b[0;34m\u001b[0m\u001b[0m\n\u001b[1;32m    931\u001b[0m         \u001b[0mproto_data\u001b[0m \u001b[0;34m=\u001b[0m \u001b[0mtf_session\u001b[0m\u001b[0;34m.\u001b[0m\u001b[0mTF_GetBuffer\u001b[0m\u001b[0;34m(\u001b[0m\u001b[0mrun_metadata_ptr\u001b[0m\u001b[0;34m)\u001b[0m\u001b[0;34m\u001b[0m\u001b[0;34m\u001b[0m\u001b[0m\n",
      "\u001b[0;32m/usr/local/lib/python3.6/dist-packages/tensorflow/python/client/session.py\u001b[0m in \u001b[0;36m_run\u001b[0;34m(self, handle, fetches, feed_dict, options, run_metadata)\u001b[0m\n\u001b[1;32m   1150\u001b[0m     \u001b[0;32mif\u001b[0m \u001b[0mfinal_fetches\u001b[0m \u001b[0;32mor\u001b[0m \u001b[0mfinal_targets\u001b[0m \u001b[0;32mor\u001b[0m \u001b[0;34m(\u001b[0m\u001b[0mhandle\u001b[0m \u001b[0;32mand\u001b[0m \u001b[0mfeed_dict_tensor\u001b[0m\u001b[0;34m)\u001b[0m\u001b[0;34m:\u001b[0m\u001b[0;34m\u001b[0m\u001b[0;34m\u001b[0m\u001b[0m\n\u001b[1;32m   1151\u001b[0m       results = self._do_run(handle, final_targets, final_fetches,\n\u001b[0;32m-> 1152\u001b[0;31m                              feed_dict_tensor, options, run_metadata)\n\u001b[0m\u001b[1;32m   1153\u001b[0m     \u001b[0;32melse\u001b[0m\u001b[0;34m:\u001b[0m\u001b[0;34m\u001b[0m\u001b[0;34m\u001b[0m\u001b[0m\n\u001b[1;32m   1154\u001b[0m       \u001b[0mresults\u001b[0m \u001b[0;34m=\u001b[0m \u001b[0;34m[\u001b[0m\u001b[0;34m]\u001b[0m\u001b[0;34m\u001b[0m\u001b[0;34m\u001b[0m\u001b[0m\n",
      "\u001b[0;32m/usr/local/lib/python3.6/dist-packages/tensorflow/python/client/session.py\u001b[0m in \u001b[0;36m_do_run\u001b[0;34m(self, handle, target_list, fetch_list, feed_dict, options, run_metadata)\u001b[0m\n\u001b[1;32m   1326\u001b[0m     \u001b[0;32mif\u001b[0m \u001b[0mhandle\u001b[0m \u001b[0;32mis\u001b[0m \u001b[0;32mNone\u001b[0m\u001b[0;34m:\u001b[0m\u001b[0;34m\u001b[0m\u001b[0;34m\u001b[0m\u001b[0m\n\u001b[1;32m   1327\u001b[0m       return self._do_call(_run_fn, feeds, fetches, targets, options,\n\u001b[0;32m-> 1328\u001b[0;31m                            run_metadata)\n\u001b[0m\u001b[1;32m   1329\u001b[0m     \u001b[0;32melse\u001b[0m\u001b[0;34m:\u001b[0m\u001b[0;34m\u001b[0m\u001b[0;34m\u001b[0m\u001b[0m\n\u001b[1;32m   1330\u001b[0m       \u001b[0;32mreturn\u001b[0m \u001b[0mself\u001b[0m\u001b[0;34m.\u001b[0m\u001b[0m_do_call\u001b[0m\u001b[0;34m(\u001b[0m\u001b[0m_prun_fn\u001b[0m\u001b[0;34m,\u001b[0m \u001b[0mhandle\u001b[0m\u001b[0;34m,\u001b[0m \u001b[0mfeeds\u001b[0m\u001b[0;34m,\u001b[0m \u001b[0mfetches\u001b[0m\u001b[0;34m)\u001b[0m\u001b[0;34m\u001b[0m\u001b[0;34m\u001b[0m\u001b[0m\n",
      "\u001b[0;32m/usr/local/lib/python3.6/dist-packages/tensorflow/python/client/session.py\u001b[0m in \u001b[0;36m_do_call\u001b[0;34m(self, fn, *args)\u001b[0m\n\u001b[1;32m   1332\u001b[0m   \u001b[0;32mdef\u001b[0m \u001b[0m_do_call\u001b[0m\u001b[0;34m(\u001b[0m\u001b[0mself\u001b[0m\u001b[0;34m,\u001b[0m \u001b[0mfn\u001b[0m\u001b[0;34m,\u001b[0m \u001b[0;34m*\u001b[0m\u001b[0margs\u001b[0m\u001b[0;34m)\u001b[0m\u001b[0;34m:\u001b[0m\u001b[0;34m\u001b[0m\u001b[0;34m\u001b[0m\u001b[0m\n\u001b[1;32m   1333\u001b[0m     \u001b[0;32mtry\u001b[0m\u001b[0;34m:\u001b[0m\u001b[0;34m\u001b[0m\u001b[0;34m\u001b[0m\u001b[0m\n\u001b[0;32m-> 1334\u001b[0;31m       \u001b[0;32mreturn\u001b[0m \u001b[0mfn\u001b[0m\u001b[0;34m(\u001b[0m\u001b[0;34m*\u001b[0m\u001b[0margs\u001b[0m\u001b[0;34m)\u001b[0m\u001b[0;34m\u001b[0m\u001b[0;34m\u001b[0m\u001b[0m\n\u001b[0m\u001b[1;32m   1335\u001b[0m     \u001b[0;32mexcept\u001b[0m \u001b[0merrors\u001b[0m\u001b[0;34m.\u001b[0m\u001b[0mOpError\u001b[0m \u001b[0;32mas\u001b[0m \u001b[0me\u001b[0m\u001b[0;34m:\u001b[0m\u001b[0;34m\u001b[0m\u001b[0;34m\u001b[0m\u001b[0m\n\u001b[1;32m   1336\u001b[0m       \u001b[0mmessage\u001b[0m \u001b[0;34m=\u001b[0m \u001b[0mcompat\u001b[0m\u001b[0;34m.\u001b[0m\u001b[0mas_text\u001b[0m\u001b[0;34m(\u001b[0m\u001b[0me\u001b[0m\u001b[0;34m.\u001b[0m\u001b[0mmessage\u001b[0m\u001b[0;34m)\u001b[0m\u001b[0;34m\u001b[0m\u001b[0;34m\u001b[0m\u001b[0m\n",
      "\u001b[0;32m/usr/local/lib/python3.6/dist-packages/tensorflow/python/client/session.py\u001b[0m in \u001b[0;36m_run_fn\u001b[0;34m(feed_dict, fetch_list, target_list, options, run_metadata)\u001b[0m\n\u001b[1;32m   1317\u001b[0m       \u001b[0mself\u001b[0m\u001b[0;34m.\u001b[0m\u001b[0m_extend_graph\u001b[0m\u001b[0;34m(\u001b[0m\u001b[0;34m)\u001b[0m\u001b[0;34m\u001b[0m\u001b[0;34m\u001b[0m\u001b[0m\n\u001b[1;32m   1318\u001b[0m       return self._call_tf_sessionrun(\n\u001b[0;32m-> 1319\u001b[0;31m           options, feed_dict, fetch_list, target_list, run_metadata)\n\u001b[0m\u001b[1;32m   1320\u001b[0m \u001b[0;34m\u001b[0m\u001b[0m\n\u001b[1;32m   1321\u001b[0m     \u001b[0;32mdef\u001b[0m \u001b[0m_prun_fn\u001b[0m\u001b[0;34m(\u001b[0m\u001b[0mhandle\u001b[0m\u001b[0;34m,\u001b[0m \u001b[0mfeed_dict\u001b[0m\u001b[0;34m,\u001b[0m \u001b[0mfetch_list\u001b[0m\u001b[0;34m)\u001b[0m\u001b[0;34m:\u001b[0m\u001b[0;34m\u001b[0m\u001b[0;34m\u001b[0m\u001b[0m\n",
      "\u001b[0;32m/usr/local/lib/python3.6/dist-packages/tensorflow/python/client/session.py\u001b[0m in \u001b[0;36m_call_tf_sessionrun\u001b[0;34m(self, options, feed_dict, fetch_list, target_list, run_metadata)\u001b[0m\n\u001b[1;32m   1405\u001b[0m     return tf_session.TF_SessionRun_wrapper(\n\u001b[1;32m   1406\u001b[0m         \u001b[0mself\u001b[0m\u001b[0;34m.\u001b[0m\u001b[0m_session\u001b[0m\u001b[0;34m,\u001b[0m \u001b[0moptions\u001b[0m\u001b[0;34m,\u001b[0m \u001b[0mfeed_dict\u001b[0m\u001b[0;34m,\u001b[0m \u001b[0mfetch_list\u001b[0m\u001b[0;34m,\u001b[0m \u001b[0mtarget_list\u001b[0m\u001b[0;34m,\u001b[0m\u001b[0;34m\u001b[0m\u001b[0;34m\u001b[0m\u001b[0m\n\u001b[0;32m-> 1407\u001b[0;31m         run_metadata)\n\u001b[0m\u001b[1;32m   1408\u001b[0m \u001b[0;34m\u001b[0m\u001b[0m\n\u001b[1;32m   1409\u001b[0m   \u001b[0;32mdef\u001b[0m \u001b[0m_call_tf_sessionprun\u001b[0m\u001b[0;34m(\u001b[0m\u001b[0mself\u001b[0m\u001b[0;34m,\u001b[0m \u001b[0mhandle\u001b[0m\u001b[0;34m,\u001b[0m \u001b[0mfeed_dict\u001b[0m\u001b[0;34m,\u001b[0m \u001b[0mfetch_list\u001b[0m\u001b[0;34m)\u001b[0m\u001b[0;34m:\u001b[0m\u001b[0;34m\u001b[0m\u001b[0;34m\u001b[0m\u001b[0m\n",
      "\u001b[0;31mKeyboardInterrupt\u001b[0m: "
     ]
    }
   ],
   "source": [
    "experiment = root_folder+\"models/language_model_1\"\n",
    "\n",
    "with tf.Session() as sess:\n",
    "    # Here is how you initialize weights of the model according to their\n",
    "    # Initialization parameters.\n",
    "    sess.run(tf.global_variables_initializer())\n",
    "    \n",
    "    # Here is how you obtain a batch:\n",
    "    \n",
    "    iters = 150000\n",
    "    for i in range(iters):\n",
    "        #print(\"batch \"+str(i))\n",
    "        batch_size = 16\n",
    "        # Here is how you save the model weights\n",
    "        batch_input, batch_target, batch_target_mask = build_batch(d_train, batch_size)\n",
    "            # Map the values to each tensor in a `feed_dict`\n",
    "        feed = {model.input_num: batch_input, model.targets: batch_target, model.targets_mask: batch_target_mask}\n",
    "\n",
    "        # Obtain a single value of the loss for that batch.\n",
    "        # !IMPORTANT! Don't forget to include the train_op to when using a batch from the training dataset\n",
    "        # (d_train)\n",
    "        # !MORE IMPORTANT! Don't use the train_op if you evaluate the loss on the validation set,\n",
    "            # Otherwise, your network will overfit on your validation dataset.\n",
    "\n",
    "        step, train_loss, _ = sess.run([model.global_step, model.loss, model.train_op], feed_dict=feed)\n",
    "        if (i % 1000 == 0):\n",
    "            print(i)\n",
    "            \n",
    "            print(\"step size: \" + str(step))\n",
    "            print(\"train_loss: \" + str(train_loss))\n",
    "            model.saver.save(sess, experiment)\n",
    "            batch_size = 946\n",
    "            batch_input, batch_target, batch_target_mask = build_batch(d_train, batch_size)\n",
    "            # Map the values to each tensor in a `feed_dict`\n",
    "            feed = {model.input_num: batch_input, model.targets: batch_target, model.targets_mask: batch_target_mask}\n",
    "            eval_loss = sess.run([model.loss], feed_dict = feed)\n",
    "            if eval_loss[0] < 5:\n",
    "                model.saver.save(sess, experiment)\n",
    "                exit()\n",
    "            print(\"EVAL loss: \" + str(eval_loss))"
   ]
  },
  {
   "cell_type": "markdown",
   "metadata": {
    "colab_type": "text",
    "id": "EAWTBnVDZMVG"
   },
   "source": [
    "# Using the language model"
   ]
  },
  {
   "cell_type": "markdown",
   "metadata": {
    "colab_type": "text",
    "id": "F7OBbXneZMVJ"
   },
   "source": [
    "Congratulations, you have now trained a language model! We can now use it to evaluate likely news headlines, as well as generate our very own headlines.\n",
    "\n",
    "**TODO**: Complete the three parts below, using the model you have trained."
   ]
  },
  {
   "cell_type": "markdown",
   "metadata": {
    "colab_type": "text",
    "id": "deUhra_CZMVM"
   },
   "source": [
    "## (1) Evaluation loss\n",
    "\n",
    "To evaluate the language model, we evaluate its loss (ability to predict) on unseen data that is reserved for evaluation.\n",
    "Your first evaluation is to load the model you trained, and obtain a test loss."
   ]
  },
  {
   "cell_type": "code",
   "execution_count": 8,
   "metadata": {
    "colab": {},
    "colab_type": "code",
    "id": "Fti_lkdsZMVO"
   },
   "outputs": [],
   "source": [
    "# Your best performing model should go here.\n",
    "model_file = root_folder+\"models/language_model_1\""
   ]
  },
  {
   "cell_type": "code",
   "execution_count": 9,
   "metadata": {
    "colab": {
     "base_uri": "https://localhost:8080/",
     "height": 122
    },
    "colab_type": "code",
    "executionInfo": {
     "elapsed": 1449,
     "status": "ok",
     "timestamp": 1554409903899,
     "user": {
      "displayName": "JIAYI LI",
      "photoUrl": "",
      "userId": "02612363833810871434"
     },
     "user_tz": 420
    },
    "id": "CDPSMuPMZMVT",
    "outputId": "0c64da20-7f18-4c96-e717-87c80ca088bc"
   },
   "outputs": [
    {
     "name": "stdout",
     "output_type": "stream",
     "text": [
      "WARNING:tensorflow:From /Users/LiJiayi/Downloads/assignment3/HW3/lib/python3.6/site-packages/tensorflow/python/training/saver.py:1266: checkpoint_exists (from tensorflow.python.training.checkpoint_management) is deprecated and will be removed in a future version.\n",
      "Instructions for updating:\n",
      "Use standard file APIs to check for files with this prefix.\n",
      "INFO:tensorflow:Restoring parameters from models/language_model_1\n",
      "Evaluation set loss: [5.3492794]\n"
     ]
    }
   ],
   "source": [
    "# We will evaluate your model in the model_file above\n",
    "# In a very similar way as the code below.\n",
    "# Make sure your validation loss is befow the threshold we specified\n",
    "# and that you didn't train using the validation set, as you would\n",
    "# get penalized.\n",
    "\n",
    "with tf.Session() as sess:\n",
    "    model.saver.restore(sess, model_file)\n",
    "    eval_input, eval_target, eval_target_mask = build_batch(d_valid, 500)\n",
    "    feed = {model.input_num: eval_input, model.targets: eval_target, model.targets_mask: eval_target_mask}\n",
    "    eval_loss = sess.run([model.loss], feed_dict=feed)\n",
    "    print(\"Evaluation set loss:\", eval_loss)"
   ]
  },
  {
   "cell_type": "markdown",
   "metadata": {
    "colab_type": "text",
    "id": "EvyQCw6dZMVo"
   },
   "source": [
    "## (2) Evaluation of likelihood of data\n",
    "\n",
    "One use of a language model is to see what data is more likely to have originated from the training data. Because we have trained our model on news headlines, we can see which of these headlines is more likely:\n",
    "\n",
    "``Apple to release another iPhone in September``\n",
    "\n",
    "\n",
    " ``Apple and Samsung resolve all lawsuits amicably``\n",
    " \n",
    "**TODO**: Use the model to obtain the loss the neural network assigns to each sentence.\n",
    "Because the neural network assigns probability to the words appearing in a sequence, this loss can be used as a proxy to measure how likely the sentence is to have occurred in the dataset.\n",
    "Once you have the loss for each headline, write down which sentence was judged to be more likely, and explain why/if you think this is coherent.\n",
    "\n",
    "**Your answer:**\n"
   ]
  },
  {
   "cell_type": "code",
   "execution_count": 10,
   "metadata": {
    "colab": {
     "base_uri": "https://localhost:8080/",
     "height": 136
    },
    "colab_type": "code",
    "executionInfo": {
     "elapsed": 859,
     "status": "ok",
     "timestamp": 1554410806563,
     "user": {
      "displayName": "JIAYI LI",
      "photoUrl": "",
      "userId": "02612363833810871434"
     },
     "user_tz": 420
    },
    "id": "EUDz8NaxZMWE",
    "outputId": "889b1fc0-4347-47d5-ca40-273db0499509"
   },
   "outputs": [
    {
     "name": "stdout",
     "output_type": "stream",
     "text": [
      "INFO:tensorflow:Restoring parameters from models/language_model_1\n",
      "----------------------------------------\n",
      "Headline: apple to release new iphone in july\n",
      "Loss of the headline: [3.2240448]\n",
      "----------------------------------------\n",
      "Headline: apple and samsung resolve all lawsuits\n",
      "Loss of the headline: [5.0812287]\n"
     ]
    }
   ],
   "source": [
    "def numerize_sequence(tokenized):\n",
    "    return [w2i.get(w, unkI) for w in tokenized]\n",
    "def pad_sequence(numerized, pad_index, to_length):\n",
    "    pad = numerized[:to_length]\n",
    "    padded = pad + [pad_index] * (to_length - len(pad))\n",
    "    mask = [w != pad_index for w in padded]\n",
    "    return padded, mask\n",
    "\n",
    "\n",
    "\n",
    "\n",
    "\n",
    "# Numerizing and padding\n",
    "input_length = 20\n",
    "unkI, padI, startI = w2i['UNK'], w2i['PAD'], w2i['<START>']\n",
    "\n",
    "#unkI, padI, startI = w2i['UNK'], w2i['PAD'], w2i['<START>']\n",
    "\n",
    "\n",
    "\n",
    "headline1 = \"Apple to release new iPhone in July\"\n",
    "headline2 = \"Apple and Samsung resolve all lawsuits\"\n",
    "\n",
    "headlines = [headline1, headline2]\n",
    "\n",
    "with tf.Session() as sess:\n",
    "    model.saver.restore(sess, model_file)\n",
    "\n",
    "    for headline in headlines:\n",
    "        headline = headline.lower() # Our LSTM is trained on lower-cased headlines\n",
    "    \n",
    "        # From the code in the Preprocessing section of the notebook\n",
    "        # Find out how to tokenize the headline\n",
    "        tokenized = tokenizer.word_tokenizer(headline)\n",
    "        \n",
    "        # Find out how to numerize the tokenized headline\n",
    "        numerized = numerize_sequence(tokenized)\n",
    "        \n",
    "        \n",
    "        # Learn how to pad and obtain the mask of the sequence.\n",
    "        padded, mask = pad_sequence(numerized, w2i['PAD'], input_length)\n",
    "        \n",
    "        # Obtain the loss of the sequence, and pring it\n",
    "        \n",
    "        \n",
    "        # Map the values to each tensor in a `feed_dict`\n",
    "        inp =[startI]+padded\n",
    "        input_num = np.array(inp[:-1]).reshape((1,20))\n",
    "        \n",
    "        mask = np.array(mask).reshape((1,20))\n",
    "        padded = np.array(padded).reshape((1,20))\n",
    "        feed = {model.input_num:input_num , model.targets: padded, model.targets_mask: mask}\n",
    "        loss = sess.run([model.loss], feed_dict=feed)\n",
    "        \n",
    "        #loss = tf.losses.sparse_softmax_cross_entropy(self.targets, self.output_logits, weights = self.targets_mask)\n",
    "        print(\"----------------------------------------\")\n",
    "        print(\"Headline:\",headline)\n",
    "        print(\"Loss of the headline:\", loss)\n",
    "\n",
    "# Important check: one headline should be more likely (and have lower loss)\n",
    "# Than the other headline. You should know which headline should have lower loss."
   ]
  },
  {
   "cell_type": "markdown",
   "metadata": {
    "colab_type": "text",
    "id": "DbyDdIEND7Tz"
   },
   "source": [
    "The first sentence has smaller loss. Therefore, it is more likely to happen than the second one. It makes sense because the second one is basically impossible. "
   ]
  },
  {
   "cell_type": "markdown",
   "metadata": {
    "colab_type": "text",
    "id": "rDV6qwMhZMWQ"
   },
   "source": [
    "## (3) Generation of headlines\n",
    "\n",
    "We can use our language model to generate text according to the distribution of our training data.\n",
    "The way generation works is the following:\n",
    "\n",
    "We seed the model with a beginning of sequence, and obtain the distribution for the next word.\n",
    "We select the most likely word (argmax) and add it to our sequence of words.\n",
    "Now our sequence is one word longer, and we can feed it in again as an input, for the network to produce the next sentence.\n",
    "We do this a fixed number of times (up to 20 words), and obtain automatically generated headlines!\n"
   ]
  },
  {
   "cell_type": "markdown",
   "metadata": {
    "colab_type": "text",
    "id": "pykMtHd-ZMWR"
   },
   "source": [
    "We have provided a few headline starters that should produce interesting generated headlines.\n",
    "\n",
    "**TODO:** Get creative and find at least 2 more headline_starters that produce interesting headlines."
   ]
  },
  {
   "cell_type": "code",
   "execution_count": 11,
   "metadata": {
    "colab": {
     "base_uri": "https://localhost:8080/",
     "height": 238
    },
    "colab_type": "code",
    "executionInfo": {
     "elapsed": 1987,
     "status": "ok",
     "timestamp": 1554410822495,
     "user": {
      "displayName": "JIAYI LI",
      "photoUrl": "",
      "userId": "02612363833810871434"
     },
     "user_tz": 420
    },
    "id": "gopFoDCTZMWT",
    "outputId": "75503868-856c-4bb0-9271-13615802d7a8"
   },
   "outputs": [
    {
     "name": "stdout",
     "output_type": "stream",
     "text": [
      "INFO:tensorflow:Restoring parameters from models/language_model_1\n",
      "===================\n",
      "Generating headline starting with: apple has released\n",
      "<START> apple has released apple , a a in a new new the new york campus iphone york times and\n",
      "===================\n",
      "Generating headline starting with: google has released\n",
      "<START> google has released apple to a a , make new new but it york phone it will is is\n",
      "===================\n",
      "Generating headline starting with: amazon\n",
      "<START> amazon apple to store launch in of china the , year says , it says says ' ' we\n",
      "===================\n",
      "Generating headline starting with: tesla to\n",
      "<START> tesla to apple is buy , not of but a the it $ most of 1 million the billion\n"
     ]
    }
   ],
   "source": [
    "with tf.Session() as sess:\n",
    "    model.saver.restore(sess, model_file)\n",
    "\n",
    "    # Here are some headline starters.\n",
    "    # They're all about tech companies, because\n",
    "    # That is what is in our dataset\n",
    "    headline_starters = [\"apple has released\", \"google has released\", \"amazon\", \"tesla to\", \"berkeley\", \"stanford\"]\n",
    "    \n",
    "    for headline_starter in headline_starters:\n",
    "        print(\"===================\")\n",
    "        print(\"Generating headline starting with: \"+headline_starter)\n",
    "\n",
    "        # Tokenize and numerize the headline. Put the numerized headline\n",
    "        # beginning in `current_build`\n",
    "        tokenized = tokenizer.word_tokenizer(headline_starter)\n",
    "        current_build = [startI] + numerize_sequence(tokenized)\n",
    "        i = 0\n",
    "        while len(current_build) < input_length:\n",
    "            # Pad the current_build into a input_length vector.\n",
    "            # We do this so that it can be processed by our LanguageModel class\n",
    "            current_padded = current_build[:input_length] + [padI] * (input_length - len(current_build))\n",
    "            current_padded = np.array([current_padded])\n",
    "\n",
    "            # Obtain the logits for the current padded sequence\n",
    "            # This involves obtaining the output_logits from our model,\n",
    "            # and not the loss like we have done so far\n",
    "            logits = sess.run([model.output_logits], feed_dict= {model.input_num: current_padded})\n",
    "\n",
    "            # Obtain the row of logits that interest us, the logits for the last non-pad\n",
    "            # inputs\n",
    "            \n",
    "            last_logits = logits[0][0][i]\n",
    "            i += 1\n",
    "            # Find the highest scoring word in the last_logits\n",
    "            # array. The np.argmax function should be useful.\n",
    "            # Append this word to our current build\n",
    "            #print(last_logits)\n",
    "            last_logits[unkI] = 0\n",
    "            current_build.append(np.argmax(last_logits))\n",
    "        \n",
    "        # Go from the current_build of word_indices\n",
    "        # To the headline (string) produced. This should involve\n",
    "        # the vocabulary, and a string merger.\n",
    "        produced_sentence = numerized2text(current_build)\n",
    "        print(produced_sentence)"
   ]
  },
  {
   "cell_type": "markdown",
   "metadata": {
    "colab_type": "text",
    "id": "uh64LayIZMWd"
   },
   "source": [
    "## All done\n",
    "\n",
    "You are done with the first part of the HW.\n",
    "\n",
    "Next notebook deals with Summarization of text!\n"
   ]
  }
 ],
 "metadata": {
  "accelerator": "GPU",
  "colab": {
   "collapsed_sections": [],
   "name": "1 Language Modeling.ipynb",
   "provenance": [],
   "version": "0.3.2"
  },
  "kernelspec": {
   "display_name": "HW3",
   "language": "python",
   "name": "hw3"
  },
  "language_info": {
   "codemirror_mode": {
    "name": "ipython",
    "version": 3
   },
   "file_extension": ".py",
   "mimetype": "text/x-python",
   "name": "python",
   "nbconvert_exporter": "python",
   "pygments_lexer": "ipython3",
   "version": "3.6.5"
  }
 },
 "nbformat": 4,
 "nbformat_minor": 1
}
