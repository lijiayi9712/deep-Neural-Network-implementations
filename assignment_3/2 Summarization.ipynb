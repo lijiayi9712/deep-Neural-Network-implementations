{
 "cells": [
  {
   "cell_type": "markdown",
   "metadata": {
    "colab_type": "text",
    "id": "xR48gJMpZ4YR"
   },
   "source": [
    "# Introduction"
   ]
  },
  {
   "cell_type": "markdown",
   "metadata": {
    "colab_type": "text",
    "id": "OmKUsj55Z4YZ"
   },
   "source": [
    "<center><h3>**Welcome to the Summarization Notebook.**</h3></center>\n",
    "\n",
    "In this assignment, you are going to train a neural network to summarize news articles.\n",
    "Your neural network is going to learn from example, as we provide you with (article, summary) pairs.\n",
    "We provide you with a **toy dataset** made of only articles about police related news.\n",
    "Usual datasets can be 20x larger in size, but we have reduced it for computational purposes.\n",
    "\n",
    "You will do this using a Transformer network, from the __[Attention is all you need](http://papers.nips.cc/paper/7181-attention-is-all-you-need.pdf)__ paper.\n",
    "In this assignment you will:\n",
    "- Learn to process text into sub-word tokens, to avoid fixed vocabulary sizes, and UNK tokens.\n",
    "- Implement the key conceptual blocks of a Transformer.\n",
    "- Use a Transformer to read a news article, and produce a summary.\n",
    "- Perform operations on learned word-vectors to examine what the model has learned.\n",
    "\n",
    "    \n",
    "** Before you start **\n",
    "\n",
    "You should read the Attention is all you need paper.\n",
    "We are providing you with skeleton code for the Transformer, but there will have to implement 5 conceptual blocks of the transformer yourself:\n",
    "-  AttentionQKV: the Query, Key, Value attention mechanism at the center of the Transformer\n",
    "- MultiHeadAttention: the multiple heads that enable each input to attend at many places at once.\n",
    "- PositionEmbedding: the sinusoid-based position embedding of the Transformer.\n",
    "- Encoder & Decoder: The encoder (that reads inputs, such as news articles), the decoder (that produces the output summary, one token at a time)\n",
    "- Full Transformer: piecing it all together."
   ]
  },
  {
   "cell_type": "markdown",
   "metadata": {
    "colab_type": "text",
    "id": "n6-bMh8kZ4Yc"
   },
   "source": [
    "You should get the dataset from Google Drive, as instructed in the README of the project.\n",
    "\n",
    "All dataset files should be placed in the `dataset/` folder of this assignment.\n",
    "\n",
    "If you are using Google Colab, follow the instructions to mount your Google Drive onto the remote machine."
   ]
  },
  {
   "cell_type": "markdown",
   "metadata": {
    "colab_type": "text",
    "id": "XmYnZXS1Z4Yi"
   },
   "source": [
    "# Library imports"
   ]
  },
  {
   "cell_type": "code",
   "execution_count": 0,
   "metadata": {
    "colab": {},
    "colab_type": "code",
    "id": "f_BDuOoh8WaZ"
   },
   "outputs": [],
   "source": [
    "%load_ext autoreload\n",
    "%autoreload 2"
   ]
  },
  {
   "cell_type": "code",
   "execution_count": 2,
   "metadata": {
    "colab": {
     "base_uri": "https://localhost:8080/",
     "height": 68
    },
    "colab_type": "code",
    "executionInfo": {
     "elapsed": 11506,
     "status": "ok",
     "timestamp": 1554387630623,
     "user": {
      "displayName": "JIAYI LI",
      "photoUrl": "",
      "userId": "02612363833810871434"
     },
     "user_tz": 420
    },
    "id": "Zq82zGSSaMUB",
    "outputId": "194c904b-63cd-483a-ae3f-ea60345a77b3"
   },
   "outputs": [
    {
     "name": "stdout",
     "output_type": "stream",
     "text": [
      "Collecting sentencepiece\n",
      "  Using cached https://files.pythonhosted.org/packages/4e/8a/4161ae404f671032c26e6407f6df01a229beb05dbac9fd3ef9dd47bcee51/sentencepiece-0.1.81-cp36-cp36m-macosx_10_6_x86_64.whl\n",
      "Installing collected packages: sentencepiece\n",
      "Successfully installed sentencepiece-0.1.81\n",
      "Requirement already satisfied: segtok in /Users/LiJiayi/anaconda3/lib/python3.6/site-packages (1.5.7)\n",
      "Requirement already satisfied: regex in /Users/LiJiayi/anaconda3/lib/python3.6/site-packages (from segtok) (2019.3.12)\n"
     ]
    }
   ],
   "source": [
    "!pip install sentencepiece\n",
    "!pip install segtok"
   ]
  },
  {
   "cell_type": "code",
   "execution_count": 4,
   "metadata": {
    "colab": {
     "base_uri": "https://localhost:8080/",
     "height": 34
    },
    "colab_type": "code",
    "executionInfo": {
     "elapsed": 1079,
     "status": "ok",
     "timestamp": 1554387634400,
     "user": {
      "displayName": "JIAYI LI",
      "photoUrl": "",
      "userId": "02612363833810871434"
     },
     "user_tz": 420
    },
    "id": "P_RchgQLaO5s",
    "outputId": "6f6d923a-d078-4623-de04-a039950d72fa"
   },
   "outputs": [
    {
     "name": "stdout",
     "output_type": "stream",
     "text": [
      "Drive already mounted at /content/gdrive; to attempt to forcibly remount, call drive.mount(\"/content/gdrive\", force_remount=True).\n"
     ]
    }
   ],
   "source": [
    "# Getting access to the dataset and the Python files on Google Drive.\n",
    "# You will probably have to give permission.\n",
    "\n",
    "from google.colab import drive\n",
    "drive.mount('/content/gdrive')"
   ]
  },
  {
   "cell_type": "code",
   "execution_count": 1,
   "metadata": {
    "colab": {},
    "colab_type": "code",
    "id": "lNuYMkmZZ4Yl"
   },
   "outputs": [],
   "source": [
    "import sentencepiece as spm\n",
    "import tensorflow as tf\n",
    "import numpy as np\n",
    "import os, sys\n",
    "import json\n",
    "\n",
    "#sys.path.insert(0, \"/content/gdrive/My Drive/CS182_HW03_1/\") # This enables us to import Python libraries in the folder.\n",
    "\n",
    "from transformer import Transformer\n",
    "import capita\n",
    "root_folder = \"\"\n",
    "#root_folder = \"/content/gdrive/My Drive/CS182_HW03_1/\""
   ]
  },
  {
   "cell_type": "code",
   "execution_count": 2,
   "metadata": {
    "colab": {},
    "colab_type": "code",
    "id": "EeUiQFBlZ4Yw"
   },
   "outputs": [],
   "source": [
    "# Load the word piece model that will be used to tokenize the texts into\n",
    "# word pieces with a vocabulary size of 10000\n",
    "\n",
    "sp = spm.SentencePieceProcessor()\n",
    "sp.Load(root_folder+\"dataset/wp_vocab10000.model\")\n",
    "\n",
    "vocab = [line.split('\\t')[0] for line in open(root_folder+\"dataset/wp_vocab10000.vocab\", \"r\")]\n",
    "pad_index = vocab.index('#')\n",
    "\n",
    "def pad_sequence(numerized, pad_index, to_length):\n",
    "    pad = numerized[:to_length]\n",
    "    padded = pad + [pad_index] * (to_length - len(pad))\n",
    "    mask = [w != pad_index for w in padded]\n",
    "    return padded, mask"
   ]
  },
  {
   "cell_type": "markdown",
   "metadata": {
    "colab_type": "text",
    "heading_collapsed": true,
    "id": "WQrV-Gd1Z4Y7"
   },
   "source": [
    "# Preprocessing"
   ]
  },
  {
   "cell_type": "markdown",
   "metadata": {
    "colab_type": "text",
    "hidden": true,
    "id": "O64GVTVaZ4Y9"
   },
   "source": [
    "**As in the previous notebook, you do not have to run this section.**\n",
    "\n",
    "\n",
    "We have provided the preprocessing script, so you see how the text is processed. You do not need to edit this code and can skip this section.\n",
    "\n",
    "You will need some of these functions, when you use the Transformer for generation."
   ]
  },
  {
   "cell_type": "code",
   "execution_count": null,
   "metadata": {
    "colab": {
     "base_uri": "https://localhost:8080/",
     "height": 232
    },
    "colab_type": "code",
    "executionInfo": {
     "elapsed": 2678,
     "status": "error",
     "timestamp": 1554302099132,
     "user": {
      "displayName": "JIAYI LI",
      "photoUrl": "",
      "userId": "02612363833810871434"
     },
     "user_tz": 420
    },
    "hidden": true,
    "id": "NojDoM5OZ4Y_",
    "outputId": "5d181216-2223-4f4c-a2e7-86df8709789a"
   },
   "outputs": [],
   "source": [
    "# You are not provided with this file, and do not have to run this.\n",
    "# You are provided with this code so you can see how the data was generated from raw text.\n",
    "\n",
    "def pad_sequence(numerized, pad_index, to_length):\n",
    "    pad = numerized[:to_length]\n",
    "    padded = pad + [pad_index] * (to_length - len(pad))\n",
    "    mask = [w != pad_index for w in padded]\n",
    "    return padded, mask\n",
    "\n",
    "input_length = 400\n",
    "output_length = 100\n",
    "\n",
    "for d in dataset:\n",
    "    # Tokenize, numerize\n",
    "    d['input'] = sp.EncodeAsIds(capita.preprocess_capitalization(d['story']))\n",
    "    d['output'] = sp.EncodeAsIds(capita.preprocess_capitalization(d['summary']))\n",
    "    \n",
    "    # Padding    \n",
    "    d['input'], d['input_mask'] =  pad_sequence(d['input'],  pad_index, input_length)\n",
    "    d['output'], d['output_mask'] = pad_sequence(d['output'], pad_index, output_length)"
   ]
  },
  {
   "cell_type": "markdown",
   "metadata": {
    "colab_type": "text",
    "id": "QcW6Bf-GZ4ZI"
   },
   "source": [
    "# Building blocks of a Transformer\n"
   ]
  },
  {
   "cell_type": "markdown",
   "metadata": {
    "colab_type": "text",
    "id": "NH1VzsFzZ4ZN"
   },
   "source": [
    "**TODO**:\n",
    "\n",
    "Implement the 5 blocks of the Transformer. In order to finish this section, you should get very small error <1e-7 on each of the 5 checks in this section.\n",
    "\n",
    "\n",
    "The Transformer is split into 3 files: transformer_attention.py, transformer_layers.py and transformer.py\n",
    "\n",
    "Each section below gives you directions and a way to verify your code works properly.\n",
    "\n",
    "You do not need to modify the rest of the code provided, but should read it to understand overall architecture.\n",
    "\n",
    "Our Transformer is built as a Keras model, a standard that is good for you to get accustomed to.\n",
    "\n"
   ]
  },
  {
   "cell_type": "markdown",
   "metadata": {
    "colab_type": "text",
    "heading_collapsed": true,
    "id": "RC6QPI_FZ4ZP"
   },
   "source": [
    "## (1) Implementing the Query-Key-Value Attention (AttentionQKV)"
   ]
  },
  {
   "cell_type": "markdown",
   "metadata": {
    "colab_type": "text",
    "hidden": true,
    "id": "Y6KumvmmZ4ZR"
   },
   "source": [
    "This part is located in AttentionQKV in transformer_attention.py. You must implement the call function of the class.\n",
    "You will need to implement the mathematical procedure of AttentionQKV that is described in the [Attention is all you need paper](https://arxiv.org/pdf/1706.03762.pdf)."
   ]
  },
  {
   "cell_type": "code",
   "execution_count": 4,
   "metadata": {
    "colab": {
     "base_uri": "https://localhost:8080/",
     "height": 51
    },
    "colab_type": "code",
    "executionInfo": {
     "elapsed": 5768,
     "status": "ok",
     "timestamp": 1554366580475,
     "user": {
      "displayName": "JIAYI LI",
      "photoUrl": "",
      "userId": "02612363833810871434"
     },
     "user_tz": 420
    },
    "hidden": true,
    "id": "E843VhyNZ4ZU",
    "outputId": "69e9a6bd-9ee3-4c20-d576-9fb394597d1c"
   },
   "outputs": [
    {
     "name": "stdout",
     "output_type": "stream",
     "text": [
      "Total error on the output: 2.980232238769531e-07 (should be 0.0 or close to 0.0)\n",
      "Total error on the weights: 1.6670674085617065e-07 (should be 0.0 or close to 0.0)\n"
     ]
    }
   ],
   "source": [
    "from transformer_attention import AttentionQKV\n",
    "\n",
    "batch_size = 2;\n",
    "n_queries = 3;\n",
    "n_keyval = 5;\n",
    "depth_k = 2;\n",
    "depth_v = 2\n",
    "\n",
    "with open(root_folder+\"transformer_checks/attention_qkv_io.json\", \"r\") as f:\n",
    "    io = json.load(f)\n",
    "    queries = np.array(io['queries'])\n",
    "    keys = np.array(io['keys'])\n",
    "    values = np.array(io['values'])\n",
    "    expected_output  = np.array(io['output'])\n",
    "    expected_weights = np.array(io['weights'])\n",
    "\n",
    "attn_qkv = AttentionQKV()\n",
    "queries_h = tf.placeholder(tf.float32,shape=(None, n_queries, depth_k), name=\"queries\")\n",
    "keys_h = tf.placeholder(tf.float32,shape=(None, n_keyval, depth_k), name=\"keys\")\n",
    "values_h = tf.placeholder(tf.float32,shape=(None, n_keyval, depth_v), name=\"values\")\n",
    "\n",
    "attn_output, attn_weights = attn_qkv(queries_h, keys_h, values_h)\n",
    "\n",
    "with tf.Session() as sess:\n",
    "    output, weights = sess.run([attn_output, attn_weights], feed_dict={queries_h: queries, keys_h: keys, values_h: values})\n",
    "\n",
    "print(\"Total error on the output:\",np.sum(np.abs(expected_output-output)), \"(should be 0.0 or close to 0.0)\")\n",
    "print(\"Total error on the weights:\",np.sum(np.abs(expected_weights-weights)), \"(should be 0.0 or close to 0.0)\")"
   ]
  },
  {
   "cell_type": "markdown",
   "metadata": {
    "colab_type": "text",
    "heading_collapsed": true,
    "id": "bBFNSVM5Z4Ze"
   },
   "source": [
    "## (2) Implementing Multi-head attention"
   ]
  },
  {
   "cell_type": "markdown",
   "metadata": {
    "colab_type": "text",
    "hidden": true,
    "id": "rLs0pyZSZ4Zg"
   },
   "source": [
    "This part is located in the class MultiHeadProjection in transformer_attention.py.\n",
    "You must implement the call, \\_split_heads, and \\_combine_heads functions.\n",
    "\n",
    "**Procedure**\n",
    "\n",
    "The objective is to leverage the AttentionQKV class you already wrote.\n",
    "\n",
    "Your input are the queries, keys, values as 3-d tensors (batch_size, sequence_length, feature_size).\n",
    "\n",
    "Split them into 4-d tensors (batch_size, n_heads, sequence_length, new_feature_size). Where:\n",
    "$$feature\\_size = n\\_heads * new_feature\\_size.$$\n",
    "\n",
    "You can then feed the split qkv to your implemented AttentionQKV, which will treat each head as an independent attention function.\n",
    "\n",
    "Then the output must be combined back into a 3-d tensor.\n",
    "You can test the validity of your implementation in the cell below."
   ]
  },
  {
   "cell_type": "code",
   "execution_count": 5,
   "metadata": {
    "colab": {
     "base_uri": "https://localhost:8080/",
     "height": 34
    },
    "colab_type": "code",
    "executionInfo": {
     "elapsed": 575,
     "status": "ok",
     "timestamp": 1554343398309,
     "user": {
      "displayName": "JIAYI LI",
      "photoUrl": "",
      "userId": "02612363833810871434"
     },
     "user_tz": 420
    },
    "hidden": true,
    "id": "CSUJ0IhNZ4Zk",
    "outputId": "a3b051a5-8fe9-4be1-bff9-348cf820140f"
   },
   "outputs": [
    {
     "name": "stdout",
     "output_type": "stream",
     "text": [
      "Total error on the output: 1.407228410243988e-06 (should be 0.0 or close to 0.0)\n"
     ]
    }
   ],
   "source": [
    "from transformer_attention import MultiHeadProjection\n",
    "\n",
    "batch_size = 2;\n",
    "n_queries = 3;\n",
    "n_heads = 4\n",
    "n_keyval = 5;\n",
    "depth_k = 8;\n",
    "depth_v = 8;\n",
    "\n",
    "with open(root_folder+\"transformer_checks/multihead_io.json\", \"r\") as f:\n",
    "    io = json.load(f)\n",
    "    queries = np.array(io['queries'])\n",
    "    keys = np.array(io['keys'])\n",
    "    values = np.array(io['values'])\n",
    "    expected_output  = np.array(io['output'])\n",
    "\n",
    "attn_qkv = MultiHeadProjection(n_heads)\n",
    "queries_h = tf.placeholder(tf.float32,shape=(None, n_queries, depth_k), name=\"queries\")\n",
    "keys_h = tf.placeholder(tf.float32,shape=(None, n_keyval, depth_k), name=\"keys\")\n",
    "values_h = tf.placeholder(tf.float32,shape=(None, n_keyval, depth_v), name=\"values\")\n",
    "\n",
    "multihead_output = attn_qkv((queries_h, keys_h, values_h))\n",
    "\n",
    "with tf.Session() as sess:\n",
    "    output = sess.run(multihead_output, feed_dict={queries_h: queries, keys_h: keys, values_h: values})\n",
    "\n",
    "print(\"Total error on the output:\",np.sum(np.abs(expected_output-output)), \"(should be 0.0 or close to 0.0)\")"
   ]
  },
  {
   "cell_type": "markdown",
   "metadata": {
    "colab_type": "text",
    "heading_collapsed": true,
    "id": "4cewhH6tZ4Zs"
   },
   "source": [
    "## (3) Position Embedding "
   ]
  },
  {
   "cell_type": "markdown",
   "metadata": {
    "colab_type": "text",
    "hidden": true,
    "id": "HSxTOWvUZ4Zu"
   },
   "source": [
    "You must implement the PositionEmbedding class in transformer.py.\n",
    "\n",
    "\n",
    "The cell below helps you verify the validity of your implementation\n"
   ]
  },
  {
   "cell_type": "code",
   "execution_count": 6,
   "metadata": {
    "colab": {
     "base_uri": "https://localhost:8080/",
     "height": 34
    },
    "colab_type": "code",
    "executionInfo": {
     "elapsed": 980,
     "status": "ok",
     "timestamp": 1554323597957,
     "user": {
      "displayName": "JIAYI LI",
      "photoUrl": "",
      "userId": "02612363833810871434"
     },
     "user_tz": 420
    },
    "hidden": true,
    "id": "709fL9mpZ4Zz",
    "outputId": "49a758e8-0036-4bfa-eb56-bcbedfefc57f"
   },
   "outputs": [
    {
     "name": "stdout",
     "output_type": "stream",
     "text": [
      "Total error on the output: 1.1920928955078125e-07 (should be 0.0 or close to 0.0)\n"
     ]
    }
   ],
   "source": [
    "from transformer import PositionEmbedding\n",
    "\n",
    "batch_size = 2;\n",
    "sequence_length = 3;\n",
    "dim = 4;\n",
    "\n",
    "with open(root_folder+\"transformer_checks/position_embedding_io.json\", \"r\") as f:\n",
    "    io = json.load(f)\n",
    "    inputs = np.array(io['inputs'])\n",
    "    expected_output  = np.array(io['output'])\n",
    "\n",
    "inputs_h = tf.placeholder(tf.float32,shape=(None, sequence_length, dim), name=\"inputs\")\n",
    "pos_emb = PositionEmbedding()\n",
    "output_t = pos_emb(inputs_h)\n",
    "\n",
    "with tf.Session() as sess:\n",
    "    output = sess.run(output_t, feed_dict={inputs_h: inputs})\n",
    "\n",
    "print(\"Total error on the output:\",np.sum(np.abs(expected_output-output)), \"(should be 0.0 or close to 0.0)\")"
   ]
  },
  {
   "cell_type": "markdown",
   "metadata": {
    "colab_type": "text",
    "heading_collapsed": true,
    "id": "V9h7L-fQZ4Z8"
   },
   "source": [
    "## (4) Transformer Encoder / Transformer Decoder"
   ]
  },
  {
   "cell_type": "markdown",
   "metadata": {
    "colab_type": "text",
    "hidden": true,
    "id": "Dvvrjd1bZ4Z-"
   },
   "source": [
    "You now have all the blocks needed to implement the Transformer.\n",
    "For this part, you have to fill in 2 classes in the transformer.py file: TransformerEncoderBlock, TransformerDecoderBlock.\n",
    "\n",
    "The code below will verify the accuracy of each block"
   ]
  },
  {
   "cell_type": "code",
   "execution_count": 7,
   "metadata": {
    "colab": {
     "base_uri": "https://localhost:8080/",
     "height": 224
    },
    "colab_type": "code",
    "executionInfo": {
     "elapsed": 2604,
     "status": "ok",
     "timestamp": 1554323603994,
     "user": {
      "displayName": "JIAYI LI",
      "photoUrl": "",
      "userId": "02612363833810871434"
     },
     "user_tz": 420
    },
    "hidden": true,
    "id": "3g53-KR1Z4Z_",
    "outputId": "d78c3097-f3ba-464b-9fa6-8306c7414200"
   },
   "outputs": [
    {
     "name": "stdout",
     "output_type": "stream",
     "text": [
      "WARNING:tensorflow:From /Users/LiJiayi/Downloads/assignment3/HW3/lib/python3.6/site-packages/tensorflow/python/ops/resource_variable_ops.py:435: colocate_with (from tensorflow.python.framework.ops) is deprecated and will be removed in a future version.\n",
      "Instructions for updating:\n",
      "Colocations handled automatically by placer.\n",
      "WARNING:tensorflow:From /Users/LiJiayi/Downloads/assignment3/HW3/lib/python3.6/site-packages/tensorflow/python/keras/layers/core.py:143: calling dropout (from tensorflow.python.ops.nn_ops) with keep_prob is deprecated and will be removed in a future version.\n",
      "Instructions for updating:\n",
      "Please use `rate` instead of `keep_prob`. Rate should be set to `rate = 1 - keep_prob`.\n",
      "WARNING:tensorflow:From /Users/LiJiayi/Downloads/assignment3/HW3/lib/python3.6/site-packages/tensorflow/python/training/saver.py:1266: checkpoint_exists (from tensorflow.python.training.checkpoint_management) is deprecated and will be removed in a future version.\n",
      "Instructions for updating:\n",
      "Use standard file APIs to check for files with this prefix.\n",
      "INFO:tensorflow:Restoring parameters from transformer_checks/transformer_encoder_block\n",
      "Total error on the output: 5.647540092468262e-06 (should be 0.0 or close to 0.0)\n"
     ]
    }
   ],
   "source": [
    "from transformer import TransformerEncoderBlock\n",
    "\n",
    "batch_size = 2\n",
    "sequence_length = 5\n",
    "hidden_size = 6\n",
    "filter_size = 12\n",
    "n_heads = 2\n",
    "\n",
    "with open(root_folder+\"transformer_checks/transformer_encoder_block_io.json\", \"r\") as f:\n",
    "    io = json.load(f)\n",
    "    inputs = np.array(io['inputs'])\n",
    "    expected_output = np.array(io['output'])\n",
    "\n",
    "tf.reset_default_graph()\n",
    "inputs_h = tf.placeholder(tf.float32,shape=(None, sequence_length, hidden_size), name=\"inputs\")\n",
    "enc_block = TransformerEncoderBlock(n_heads=n_heads, filter_size=filter_size, hidden_size=hidden_size)\n",
    "output_t = enc_block(inputs_h)\n",
    "saver = tf.train.Saver()\n",
    "\n",
    "with tf.Session() as sess:\n",
    "    saver.restore(sess, root_folder+\"transformer_checks/transformer_encoder_block\")\n",
    "    output = sess.run(output_t, feed_dict={inputs_h: inputs})\n",
    "    \n",
    "print(\"Total error on the output:\",np.sum(np.abs(expected_output-output)), \"(should be 0.0 or close to 0.0)\")"
   ]
  },
  {
   "cell_type": "code",
   "execution_count": 8,
   "metadata": {
    "colab": {
     "base_uri": "https://localhost:8080/",
     "height": 51
    },
    "colab_type": "code",
    "executionInfo": {
     "elapsed": 2536,
     "status": "ok",
     "timestamp": 1554323608412,
     "user": {
      "displayName": "JIAYI LI",
      "photoUrl": "",
      "userId": "02612363833810871434"
     },
     "user_tz": 420
    },
    "hidden": true,
    "id": "h-xq-Ae5Z4aJ",
    "outputId": "0944fb29-b408-4e34-f514-45e8a26a3949"
   },
   "outputs": [
    {
     "name": "stdout",
     "output_type": "stream",
     "text": [
      "INFO:tensorflow:Restoring parameters from transformer_checks/transformer_decoder_block\n",
      "Total error on the output: 5.498528480529785e-06 (should be 0.0 or close to 0.0)\n"
     ]
    }
   ],
   "source": [
    "from transformer import TransformerDecoderBlock\n",
    "\n",
    "batch_size = 2\n",
    "encoder_length = 5\n",
    "decoder_length = 3\n",
    "hidden_size = 6\n",
    "filter_size = 12\n",
    "n_heads = 2\n",
    "\n",
    "with open(root_folder+\"transformer_checks/transformer_decoder_block_io.json\", \"r\") as f:\n",
    "    io = json.load(f)\n",
    "    decoder_inputs = np.array(io['decoder_inputs'])\n",
    "    encoder_output = np.array(io['encoder_output'])\n",
    "    expected_output = np.array(io['expected_output'])\n",
    "\n",
    "tf.reset_default_graph()\n",
    "decoder_inputs_h = tf.placeholder(tf.float32,shape=(None, decoder_length, hidden_size), name=\"dec_inputs\")\n",
    "encoder_output_h = tf.placeholder(tf.float32,shape=(None, encoder_length, hidden_size), name=\"enc_out\")\n",
    "\n",
    "dec_block = TransformerDecoderBlock(n_heads=n_heads, filter_size=filter_size, hidden_size=hidden_size)\n",
    "output_t = dec_block(decoder_inputs_h, encoder_output_h)\n",
    "saver = tf.train.Saver()\n",
    "\n",
    "with tf.Session() as sess:\n",
    "    saver.restore(sess, root_folder+\"transformer_checks/transformer_decoder_block\")\n",
    "    output = sess.run(output_t, feed_dict={decoder_inputs_h: decoder_inputs, encoder_output_h: encoder_output})\n",
    "    \n",
    "print(\"Total error on the output:\",np.sum(np.abs(expected_output-output)), \"(should be 0.0 or close to 0.0)\")"
   ]
  },
  {
   "cell_type": "markdown",
   "metadata": {
    "colab_type": "text",
    "heading_collapsed": true,
    "id": "52EMYU2oZ4aS"
   },
   "source": [
    "## (5) Transformer"
   ]
  },
  {
   "cell_type": "markdown",
   "metadata": {
    "colab_type": "text",
    "hidden": true,
    "id": "59W_MK_OZ4aW"
   },
   "source": [
    "This is the final high-level function that pieces it all together.\n",
    "\n",
    "You have to implement the call function of the Transformer class in the `transformer.py` file.\n",
    "\n",
    "The block below verifies your implementation is correct."
   ]
  },
  {
   "cell_type": "code",
   "execution_count": 9,
   "metadata": {
    "colab": {
     "base_uri": "https://localhost:8080/",
     "height": 51
    },
    "colab_type": "code",
    "executionInfo": {
     "elapsed": 6969,
     "status": "ok",
     "timestamp": 1554323618832,
     "user": {
      "displayName": "JIAYI LI",
      "photoUrl": "",
      "userId": "02612363833810871434"
     },
     "user_tz": 420
    },
    "hidden": true,
    "id": "vFYsYyHUZ4aa",
    "outputId": "fb9c66ba-085d-4327-ac66-bf7de6acc54d"
   },
   "outputs": [
    {
     "name": "stdout",
     "output_type": "stream",
     "text": [
      "INFO:tensorflow:Restoring parameters from transformer_checks/transformer\n",
      "Total error on the output: 7.101893424987793e-05 (should be 0.0 or close to 0.0)\n"
     ]
    }
   ],
   "source": [
    "from transformer import Transformer\n",
    "\n",
    "batch_size = 2\n",
    "vocab_size = 11\n",
    "n_layers = 3\n",
    "n_heads = 4\n",
    "d_model = 8\n",
    "d_filter = 16\n",
    "input_length = 5\n",
    "output_length = 3\n",
    "\n",
    "with open(root_folder+\"transformer_checks/transformer_io.json\", \"r\") as f:\n",
    "    io = json.load(f)\n",
    "    enc_input = np.array(io['enc_input'])\n",
    "    dec_input = np.array(io['dec_input'])\n",
    "    enc_mask = np.array(io['enc_mask'])\n",
    "    dec_mask = np.array(io['dec_mask'])\n",
    "    expected_output = np.array(io['output'])\n",
    "    \n",
    "tf.reset_default_graph()\n",
    "enc_input_h = tf.placeholder(tf.int32,shape=(None, input_length), name=\"enc_inp\")\n",
    "dec_input_h = tf.placeholder(tf.int32,shape=(None, output_length), name=\"dec_inp\")\n",
    "enc_mask_h = tf.placeholder(tf.bool,shape=(None,input_length),name=\"encoder_mask\")\n",
    "dec_mask_h = tf.placeholder(tf.bool, shape=(None,output_length),name=\"decoder_mask\")\n",
    "\n",
    "transfo = Transformer(vocab_size=vocab_size, n_layers=n_layers, n_heads=n_heads, d_model=d_model, d_filter=d_filter)\n",
    "output_t = transfo(enc_input_h, target_sequence=dec_input_h, encoder_mask=enc_mask_h, decoder_mask=dec_mask_h)\n",
    "\n",
    "saver = tf.train.Saver()\n",
    "\n",
    "with tf.Session() as sess:\n",
    "    saver.restore(sess, root_folder+\"transformer_checks/transformer\")\n",
    "    output = sess.run(output_t, feed_dict={enc_input_h: enc_input, dec_input_h: dec_input, enc_mask_h: enc_mask, dec_mask_h: dec_mask})\n",
    "\n",
    "print(\"Total error on the output:\",np.sum(np.abs(expected_output-output)), \"(should be 0.0 or close to 0.0)\")"
   ]
  },
  {
   "cell_type": "markdown",
   "metadata": {
    "colab_type": "text",
    "id": "Lo_kykX-Z4ae"
   },
   "source": [
    "# Creating a Transformer"
   ]
  },
  {
   "cell_type": "markdown",
   "metadata": {
    "colab_type": "text",
    "id": "f4tGWBZ9Z4ag"
   },
   "source": [
    "Now that all the blocks of the Transformer are implemented, we can create a full model with placeholders and a loss.\n",
    "\n",
    "We've helped you with the placeholders, and the loss, as it is similar to the one in the previous assignment."
   ]
  },
  {
   "cell_type": "code",
   "execution_count": 9,
   "metadata": {
    "colab": {},
    "colab_type": "code",
    "id": "DRMwj5PfZ4ah"
   },
   "outputs": [],
   "source": [
    "# We are giving you the trainer, as it is similar to the one\n",
    "# you created in the Language Modeling assignment.\n",
    "\n",
    "class TransformerTrainer():\n",
    "\n",
    "    def __init__(self, vocab_size, d_model, input_length, output_length, n_layers, d_filter, learning_rate=1e-3):\n",
    "\n",
    "        self.source_sequence = tf.placeholder(tf.int32,shape=(None,input_length), name=\"source_sequence\")\n",
    "        self.target_sequence = tf.placeholder(tf.int32, shape=(None,output_length),name=\"target_sequence\")\n",
    "        self.encoder_mask = tf.placeholder(tf.bool,shape=(None,input_length),name=\"encoder_mask\")\n",
    "        self.decoder_mask = tf.placeholder(tf.bool, shape=(None,output_length),name=\"decoder_mask\")\n",
    "\n",
    "        self.model = Transformer(vocab_size=vocab_size, d_model=d_model, n_layers=n_layers, d_filter=d_filter)\n",
    "\n",
    "        self.decoded_logits = self.model(self.source_sequence, self.target_sequence, encoder_mask=self.encoder_mask, decoder_mask=self.decoder_mask)\n",
    "        self.global_step = tf.train.get_or_create_global_step()\n",
    "        \n",
    "        # Summarization loss\n",
    "        self.loss = tf.losses.sparse_softmax_cross_entropy(self.target_sequence, self.decoded_logits, tf.cast(self.decoder_mask, tf.float32))\n",
    "        self.optimizer = tf.train.AdamOptimizer(learning_rate=learning_rate)\n",
    "        self.train_op = self.optimizer.minimize(self.loss, global_step=self.global_step)\n",
    "        self.saver = tf.train.Saver()"
   ]
  },
  {
   "cell_type": "markdown",
   "metadata": {
    "colab_type": "text",
    "id": "b6r_LakLZ4as"
   },
   "source": [
    "We now instantiate the Transformer with our sets of hyperparameters specific to the task of summarization.\n",
    "In summarization, we are going to go from documents with up to 400 words, to documents with up to 100 words.\n",
    "The vocabulary size is set for you, and is of 10,000 words (we are using WordPieces, [here is a paper about subword encoding](http://aclweb.org/anthology/P18-1007), if you are interested)."
   ]
  },
  {
   "cell_type": "code",
   "execution_count": 10,
   "metadata": {
    "colab": {
     "base_uri": "https://localhost:8080/",
     "height": 241
    },
    "colab_type": "code",
    "executionInfo": {
     "elapsed": 29782,
     "status": "ok",
     "timestamp": 1554387680548,
     "user": {
      "displayName": "JIAYI LI",
      "photoUrl": "",
      "userId": "02612363833810871434"
     },
     "user_tz": 420
    },
    "id": "ElCJhsD2Z4aw",
    "outputId": "a537de45-dee5-41e0-86b9-7bbdfa6e60a7"
   },
   "outputs": [
    {
     "name": "stdout",
     "output_type": "stream",
     "text": [
      "WARNING:tensorflow:From /Users/LiJiayi/Downloads/assignment3/HW3/lib/python3.6/site-packages/tensorflow/python/ops/resource_variable_ops.py:435: colocate_with (from tensorflow.python.framework.ops) is deprecated and will be removed in a future version.\n",
      "Instructions for updating:\n",
      "Colocations handled automatically by placer.\n",
      "WARNING:tensorflow:From /Users/LiJiayi/Downloads/assignment3/HW3/lib/python3.6/site-packages/tensorflow/python/keras/layers/core.py:143: calling dropout (from tensorflow.python.ops.nn_ops) with keep_prob is deprecated and will be removed in a future version.\n",
      "Instructions for updating:\n",
      "Please use `rate` instead of `keep_prob`. Rate should be set to `rate = 1 - keep_prob`.\n",
      "WARNING:tensorflow:From /Users/LiJiayi/Downloads/assignment3/HW3/lib/python3.6/site-packages/tensorflow/python/ops/losses/losses_impl.py:209: to_float (from tensorflow.python.ops.math_ops) is deprecated and will be removed in a future version.\n",
      "Instructions for updating:\n",
      "Use tf.cast instead.\n",
      "WARNING:tensorflow:From /Users/LiJiayi/Downloads/assignment3/HW3/lib/python3.6/site-packages/tensorflow/python/ops/math_ops.py:3066: to_int32 (from tensorflow.python.ops.math_ops) is deprecated and will be removed in a future version.\n",
      "Instructions for updating:\n",
      "Use tf.cast instead.\n"
     ]
    }
   ],
   "source": [
    "# Dataset related parameters\n",
    "vocab_size = len(vocab)\n",
    "ilength = 400 # Length of the article\n",
    "olength  = 100 # Length of the summaries\n",
    "\n",
    "# Model related parameters, feel free to modify these.\n",
    "n_layers = 6\n",
    "d_model  = 104\n",
    "d_filter = 416\n",
    "\n",
    "model = TransformerTrainer(vocab_size, d_model, ilength, olength, n_layers, d_filter)"
   ]
  },
  {
   "cell_type": "markdown",
   "metadata": {
    "colab_type": "text",
    "id": "B4w69h1OZ4a6"
   },
   "source": [
    "# Training the model"
   ]
  },
  {
   "cell_type": "markdown",
   "metadata": {
    "colab_type": "text",
    "id": "nLFtXtV8Z4a_"
   },
   "source": [
    "Your objective is to train the Language on the dataset you are provided to reach a **loss <= 4.50**\n",
    "\n",
    "Careful: we will be testing this loss on an unreleased test set, so make sure to evaluate properly on a validation set and not overfit.\n",
    "\n",
    "You must save the model you want us to test under: models/final_transformer_summarization (the .index, .meta and .data files)\n",
    "\n",
    "**Advice**:\n",
    "- It should be possible to attain loss <= 4.50 with the model dimensions we've specified (n_layers=6, d_model=104, d_filter=416), but you can tune these hyperparameters. Increasing d_model will yield better model, at the cost of longer training time.\n",
    "- You should try tuning the learning rate, as well as what optimizer you use.\n",
    "- You might need to train for a few (up to 2 hours) to obtain our expected loss. Remember to tune your hyperparameters first, once you find ones that work well, let it train for longer.\n",
    "\n",
    "**Dataset**: as in the previous notebook, make sure the dataset files are in the `dataset` folder. These can be found on the Google Drive.\n"
   ]
  },
  {
   "cell_type": "code",
   "execution_count": 11,
   "metadata": {
    "colab": {
     "base_uri": "https://localhost:8080/",
     "height": 34
    },
    "colab_type": "code",
    "executionInfo": {
     "elapsed": 32254,
     "status": "ok",
     "timestamp": 1554387688403,
     "user": {
      "displayName": "JIAYI LI",
      "photoUrl": "",
      "userId": "02612363833810871434"
     },
     "user_tz": 420
    },
    "id": "OSPjAYzbZ4bA",
    "outputId": "0b2ddca3-3548-4629-d950-d5862c9637ee"
   },
   "outputs": [
    {
     "data": {
      "text/plain": [
       "(61055, 1558)"
      ]
     },
     "execution_count": 11,
     "metadata": {},
     "output_type": "execute_result"
    }
   ],
   "source": [
    "with open(root_folder+\"dataset/summarization_dataset_preprocessed.json\", \"r\") as f:\n",
    "\n",
    "    dataset = json.load(f)\n",
    "\n",
    "# We load the dataset, and split it into 2 sub-datasets based on if they are training or validation.\n",
    "# Feel free to split this dataset another way, but remember, a validation set is important, to have an idea of \n",
    "# the amount of overfitting that has occurred!\n",
    "\n",
    "d_train = [d for d in dataset if d['cut'] == 'training']\n",
    "d_valid = [d for d in dataset if d['cut'] == 'evaluation']\n",
    "\n",
    "len(d_train), len(d_valid)"
   ]
  },
  {
   "cell_type": "code",
   "execution_count": 12,
   "metadata": {
    "colab": {
     "base_uri": "https://localhost:8080/",
     "height": 496
    },
    "colab_type": "code",
    "executionInfo": {
     "elapsed": 19645,
     "status": "ok",
     "timestamp": 1554366625377,
     "user": {
      "displayName": "JIAYI LI",
      "photoUrl": "",
      "userId": "02612363833810871434"
     },
     "user_tz": 420
    },
    "id": "dhUEgN-gZ4bF",
    "outputId": "4c7eabcb-1d22-464e-d79f-dff3e66bd2b8"
   },
   "outputs": [
    {
     "name": "stdout",
     "output_type": "stream",
     "text": [
      "Tbilisi, Georgia (CNN)Police have shot and killed a white tiger that killed a man Wednesday in Tbilisi, Georgia, a Ministry of Internal Affairs representative said, after severe flooding allowed hundreds of wild animals to escape the city zoo. \n",
      "The tiger attack happened at a warehouse in the city center. The animal had been unaccounted for since the weekend floods destroyed the zoo premises.\n",
      "The man killed, who was 43, worked in a company based in the warehouse, the Ministry of Internal Affairs said. Doctors said he was attacked in the throat and died before reaching the hospital. \n",
      "Experts are still searching the warehouse, the ministry said, adding that earlier reports that the tiger had injured a second man were unfounded. \n",
      "The zoo administration said Wednesday that another tiger was still missing. It was unable to confirm if the creature was dead or had escaped alive.\n",
      "Georgian Prime Minister Irakli Garibashvili apologized to the public, saying he had been misinformed by the zoo's management when he'd previously said there were no more dangerous animals on the run.\n",
      "City residents were urged to stay indoors for their own safety in the immediate aftermath of the floods. Volunteers have since been helping city workers with the cleanup operation.\n",
      "At least 19 people died in the flooding, according to Civil Georgia, a news website run by the nongovernmental organization United Nations Association of Georgia. Six more remained missing, it said Tuesday, citing the State Security and Crisis Management Council.\n",
      "Meanwhile, the zoo lost about half of its 600 animals, including lions, tigers, bears and wolves, in the natural disaster. \n",
      "Some animals have since been recaptured, Civil Georgia reported. Others died in the floods or have been killed by police as they scour the streets for escapees.\n",
      "Russian state news outlet RT.com  that an African penguin had made it 60 kilometers (37 miles) downriver from Tbilisi before being caught alive in a dragnet on the border with Azerbaijan. \n",
      "Video from the city showed a large crocodile being restrained by rescuers, as well as a hippopotamus standing in floodwaters, looking confused.\n",
      "The latter was eventually cornered in a city square before being tranquilized and recaptured.\n",
      "One terrified bear escaped the flood by perching on a window ledge.\n",
      "Video footage also showed devastation across swaths of the Georgian capital, where flash floods swept away roads, at least one house and many trees. The corpses of dead animals could be seen amid the wreckage.\n",
      "The problems began before midnight Saturday when heavy rainfall turned the Vere River, usually little more than a stream through the center of Tbilisi, into a raging torrent, according to Civil Georgia.\n",
      "Images on Tbilisi City Hall's Facebook page showed roads washed out, hillsides collapsed and vehicles tossed about like toys. Rescue workers carried people on their shoulders through waist-high water.\n",
      "Garibashvili extended his condolences Tuesday to the families of those killed in the flooding.\n",
      "He also proposed the creation of a park in the zoo premises to honor those lost. \"It will be a park of solidarity, a symbol of our unity, selflessness, and mutual support,\" he said in a statement on his website.\n",
      "President Georgi Margvelashvili earlier said the capital's mayoral office would help those who had lost out financially as a result of the floods.\n",
      "\"The situation is difficult, but it can be handled except for the fact that we cannot bring back those who died,\" he said.\n",
      "According to the World Wildlife Fund, as few as 3,200 tigers exist in the wild today.\n",
      "\n",
      "Journalist Eka Kadagishvili reported from Tbilisi, and Laura Smith-Spark wrote from London. CNN's Kimberly Hutcherson contributed to this report.\n",
      "=======================\n",
      "=======================\n",
      "Police have shot dead a tiger that killed a man in Tbilisi, Georgia, a government official says, after zoo animals escaped in weekend flooding.\n"
     ]
    }
   ],
   "source": [
    "# An example (article, summary) pair in the training data:\n",
    "\n",
    "print(d_train[145]['story'])\n",
    "print(\"=======================\\n=======================\")\n",
    "print(d_train[145]['summary'])"
   ]
  },
  {
   "cell_type": "markdown",
   "metadata": {
    "colab_type": "text",
    "id": "Gn5bLgiTZ4bY"
   },
   "source": [
    "Similarly to the previous assignment, we create a function to get a random batch to train on, given a dataset."
   ]
  },
  {
   "cell_type": "code",
   "execution_count": 13,
   "metadata": {
    "colab": {},
    "colab_type": "code",
    "id": "nQrIBq41Z4bf"
   },
   "outputs": [],
   "source": [
    "def build_batch(dataset, batch_size):\n",
    "    indices = list(np.random.randint(0, len(dataset), size=batch_size))\n",
    "    \n",
    "    batch = [dataset[i] for i in indices]\n",
    "    batch_input = np.array([a['input'] for a in batch])\n",
    "    batch_input_mask = np.array([a['input_mask'] for a in batch])\n",
    "    batch_output = np.array([a['output'] for a in batch])\n",
    "    batch_output_mask = np.array([a['output_mask'] for a in batch])\n",
    "    \n",
    "    return batch_input, batch_input_mask, batch_output, batch_output_mask"
   ]
  },
  {
   "cell_type": "code",
   "execution_count": 13,
   "metadata": {
    "colab": {
     "base_uri": "https://localhost:8080/",
     "height": 6389
    },
    "colab_type": "code",
    "executionInfo": {
     "elapsed": 20202022,
     "status": "error",
     "timestamp": 1554387594769,
     "user": {
      "displayName": "JIAYI LI",
      "photoUrl": "",
      "userId": "02612363833810871434"
     },
     "user_tz": 420
    },
    "id": "eeZPxPYnZ4bp",
    "outputId": "bacc24de-335f-49bd-b220-b9ccca4c3f41"
   },
   "outputs": [
    {
     "name": "stdout",
     "output_type": "stream",
     "text": [
      "2200\n",
      "2400\n",
      "2600\n",
      "2800\n",
      "3000\n",
      "3200\n",
      "3400\n",
      "3600\n",
      "3800\n",
      "4000\n",
      "4200\n",
      "4400\n",
      "4600\n",
      "4800\n",
      "5000\n",
      "5200\n",
      "5400\n",
      "5600\n",
      "5800\n",
      "6000\n",
      "6000\n",
      "step size: 6000\n",
      "train_loss: 4.9321027\n",
      "EVAL loss: [4.7801814]\n",
      "6200\n",
      "6400\n",
      "6600\n",
      "6800\n",
      "7000\n",
      "7200\n",
      "7400\n",
      "7600\n",
      "7800\n",
      "8000\n",
      "8200\n",
      "8400\n",
      "8600\n",
      "8800\n",
      "9000\n",
      "9200\n",
      "9400\n",
      "9600\n",
      "9800\n",
      "10000\n",
      "10200\n",
      "10400\n",
      "10600\n",
      "10800\n",
      "11000\n",
      "11200\n",
      "11400\n",
      "11600\n",
      "11800\n",
      "12000\n",
      "12000\n",
      "step size: 12000\n",
      "train_loss: 4.276016\n",
      "EVAL loss: [4.4826126]\n",
      "12200\n",
      "12400\n",
      "12600\n",
      "12800\n",
      "13000\n",
      "13200\n",
      "13400\n",
      "13600\n",
      "13800\n",
      "14000\n",
      "14200\n",
      "14400\n",
      "14600\n",
      "14800\n",
      "15000\n",
      "15200\n",
      "15400\n",
      "15600\n",
      "15800\n",
      "16000\n",
      "16200\n",
      "16400\n",
      "16600\n",
      "16800\n",
      "17000\n",
      "17200\n",
      "17400\n",
      "17600\n",
      "17800\n",
      "18000\n",
      "18000\n",
      "step size: 18000\n",
      "train_loss: 4.3302903\n",
      "EVAL loss: [4.0318074]\n",
      "18200\n",
      "18400\n",
      "18600\n",
      "18800\n",
      "19000\n",
      "19200\n",
      "19400\n",
      "19600\n",
      "19800\n",
      "20000\n",
      "20200\n",
      "20400\n",
      "20600\n",
      "20800\n",
      "21000\n",
      "21200\n",
      "21400\n",
      "21600\n",
      "21800\n",
      "22000\n",
      "22200\n",
      "22400\n",
      "22600\n",
      "22800\n",
      "23000\n",
      "23200\n",
      "23400\n",
      "23600\n",
      "23800\n",
      "24000\n",
      "24000\n",
      "step size: 24000\n",
      "train_loss: 4.160945\n",
      "EVAL loss: [4.0725164]\n",
      "24200\n",
      "24400\n",
      "24600\n",
      "24800\n",
      "25000\n",
      "25200\n",
      "25400\n",
      "25600\n",
      "25800\n",
      "26000\n",
      "26200\n",
      "26400\n",
      "26600\n",
      "26800\n",
      "27000\n",
      "27200\n",
      "27400\n",
      "27600\n",
      "27800\n",
      "28000\n",
      "28200\n",
      "28400\n",
      "28600\n",
      "28800\n",
      "29000\n",
      "29200\n",
      "29400\n",
      "29600\n",
      "29800\n",
      "30000\n",
      "30000\n",
      "step size: 30000\n",
      "train_loss: 4.0747085\n",
      "EVAL loss: [3.878463]\n",
      "30200\n",
      "30400\n",
      "30600\n",
      "30800\n",
      "31000\n",
      "31200\n",
      "31400\n",
      "31600\n",
      "31800\n",
      "32000\n",
      "32200\n",
      "32400\n",
      "32600\n",
      "32800\n",
      "33000\n",
      "33200\n",
      "33400\n",
      "33600\n",
      "33800\n",
      "34000\n",
      "34200\n",
      "34400\n",
      "34600\n",
      "34800\n",
      "35000\n",
      "35200\n",
      "35400\n",
      "35600\n",
      "35800\n",
      "36000\n",
      "36000\n",
      "step size: 36000\n",
      "train_loss: 3.9743283\n",
      "EVAL loss: [3.9320023]\n",
      "36200\n",
      "36400\n",
      "36600\n",
      "36800\n",
      "37000\n",
      "37200\n",
      "37400\n",
      "37600\n",
      "37800\n",
      "38000\n",
      "38200\n",
      "38400\n",
      "38600\n",
      "38800\n",
      "39000\n",
      "39200\n",
      "39400\n",
      "39600\n",
      "39800\n",
      "40000\n",
      "40200\n",
      "40400\n",
      "40600\n",
      "40800\n",
      "41000\n",
      "41200\n",
      "41400\n",
      "41600\n",
      "41800\n",
      "42000\n",
      "42000\n",
      "step size: 42000\n",
      "train_loss: 3.7542255\n",
      "EVAL loss: [3.725729]\n",
      "42200\n",
      "42400\n",
      "42600\n",
      "42800\n",
      "43000\n",
      "43200\n",
      "43400\n",
      "43600\n",
      "43800\n",
      "44000\n",
      "44200\n",
      "44400\n",
      "44600\n",
      "44800\n",
      "45000\n",
      "45200\n",
      "45400\n",
      "45600\n",
      "45800\n",
      "46000\n",
      "46200\n",
      "46400\n",
      "46600\n",
      "46800\n",
      "47000\n",
      "47200\n",
      "47400\n",
      "47600\n",
      "47800\n",
      "48000\n",
      "48000\n",
      "step size: 48000\n",
      "train_loss: 3.8783674\n",
      "EVAL loss: [3.776818]\n",
      "48200\n",
      "48400\n",
      "48600\n",
      "48800\n",
      "49000\n",
      "49200\n",
      "49400\n",
      "49600\n",
      "49800\n",
      "50000\n",
      "50200\n",
      "50400\n",
      "50600\n",
      "50800\n",
      "51000\n",
      "51200\n",
      "51400\n",
      "51600\n",
      "51800\n",
      "52000\n",
      "52200\n",
      "52400\n",
      "52600\n",
      "52800\n",
      "53000\n",
      "53200\n",
      "53400\n",
      "53600\n",
      "53800\n",
      "54000\n",
      "54000\n",
      "step size: 54000\n",
      "train_loss: 3.971389\n",
      "EVAL loss: [3.6423233]\n",
      "54200\n",
      "54400\n",
      "54600\n",
      "54800\n",
      "55000\n",
      "55200\n",
      "55400\n",
      "55600\n",
      "55800\n",
      "56000\n",
      "56200\n",
      "56400\n",
      "56600\n",
      "56800\n",
      "57000\n",
      "57200\n",
      "57400\n",
      "57600\n",
      "57800\n",
      "58000\n",
      "58200\n",
      "58400\n",
      "58600\n"
     ]
    },
    {
     "ename": "KeyboardInterrupt",
     "evalue": "ignored",
     "output_type": "error",
     "traceback": [
      "\u001b[0;31m---------------------------------------------------------------------------\u001b[0m",
      "\u001b[0;31mKeyboardInterrupt\u001b[0m                         Traceback (most recent call last)",
      "\u001b[0;32m<ipython-input-13-72765cc12c5f>\u001b[0m in \u001b[0;36m<module>\u001b[0;34m()\u001b[0m\n\u001b[1;32m     20\u001b[0m \u001b[0;34m\u001b[0m\u001b[0m\n\u001b[1;32m     21\u001b[0m     \u001b[0;31m# Obtain the loss. Be careful when you use the train_op and not, as previously.\u001b[0m\u001b[0;34m\u001b[0m\u001b[0;34m\u001b[0m\u001b[0;34m\u001b[0m\u001b[0m\n\u001b[0;32m---> 22\u001b[0;31m         \u001b[0mtrain_loss\u001b[0m\u001b[0;34m,\u001b[0m \u001b[0m_\u001b[0m\u001b[0;34m,\u001b[0m \u001b[0mstep\u001b[0m \u001b[0;34m=\u001b[0m \u001b[0msess\u001b[0m\u001b[0;34m.\u001b[0m\u001b[0mrun\u001b[0m\u001b[0;34m(\u001b[0m\u001b[0;34m[\u001b[0m\u001b[0mmodel\u001b[0m\u001b[0;34m.\u001b[0m\u001b[0mloss\u001b[0m\u001b[0;34m,\u001b[0m \u001b[0mmodel\u001b[0m\u001b[0;34m.\u001b[0m\u001b[0mtrain_op\u001b[0m\u001b[0;34m,\u001b[0m \u001b[0mmodel\u001b[0m\u001b[0;34m.\u001b[0m\u001b[0mglobal_step\u001b[0m\u001b[0;34m]\u001b[0m\u001b[0;34m,\u001b[0m \u001b[0mfeed_dict\u001b[0m\u001b[0;34m=\u001b[0m\u001b[0mfeed\u001b[0m\u001b[0;34m)\u001b[0m\u001b[0;34m\u001b[0m\u001b[0;34m\u001b[0m\u001b[0m\n\u001b[0m\u001b[1;32m     23\u001b[0m         \u001b[0;31m#print(\"step size: \" + str(step))\u001b[0m\u001b[0;34m\u001b[0m\u001b[0;34m\u001b[0m\u001b[0;34m\u001b[0m\u001b[0m\n\u001b[1;32m     24\u001b[0m         \u001b[0;31m#print(\"train_loss: \" + str(train_loss))\u001b[0m\u001b[0;34m\u001b[0m\u001b[0;34m\u001b[0m\u001b[0;34m\u001b[0m\u001b[0m\n",
      "\u001b[0;32m/usr/local/lib/python3.6/dist-packages/tensorflow/python/client/session.py\u001b[0m in \u001b[0;36mrun\u001b[0;34m(self, fetches, feed_dict, options, run_metadata)\u001b[0m\n\u001b[1;32m    927\u001b[0m     \u001b[0;32mtry\u001b[0m\u001b[0;34m:\u001b[0m\u001b[0;34m\u001b[0m\u001b[0;34m\u001b[0m\u001b[0m\n\u001b[1;32m    928\u001b[0m       result = self._run(None, fetches, feed_dict, options_ptr,\n\u001b[0;32m--> 929\u001b[0;31m                          run_metadata_ptr)\n\u001b[0m\u001b[1;32m    930\u001b[0m       \u001b[0;32mif\u001b[0m \u001b[0mrun_metadata\u001b[0m\u001b[0;34m:\u001b[0m\u001b[0;34m\u001b[0m\u001b[0;34m\u001b[0m\u001b[0m\n\u001b[1;32m    931\u001b[0m         \u001b[0mproto_data\u001b[0m \u001b[0;34m=\u001b[0m \u001b[0mtf_session\u001b[0m\u001b[0;34m.\u001b[0m\u001b[0mTF_GetBuffer\u001b[0m\u001b[0;34m(\u001b[0m\u001b[0mrun_metadata_ptr\u001b[0m\u001b[0;34m)\u001b[0m\u001b[0;34m\u001b[0m\u001b[0;34m\u001b[0m\u001b[0m\n",
      "\u001b[0;32m/usr/local/lib/python3.6/dist-packages/tensorflow/python/client/session.py\u001b[0m in \u001b[0;36m_run\u001b[0;34m(self, handle, fetches, feed_dict, options, run_metadata)\u001b[0m\n\u001b[1;32m   1150\u001b[0m     \u001b[0;32mif\u001b[0m \u001b[0mfinal_fetches\u001b[0m \u001b[0;32mor\u001b[0m \u001b[0mfinal_targets\u001b[0m \u001b[0;32mor\u001b[0m \u001b[0;34m(\u001b[0m\u001b[0mhandle\u001b[0m \u001b[0;32mand\u001b[0m \u001b[0mfeed_dict_tensor\u001b[0m\u001b[0;34m)\u001b[0m\u001b[0;34m:\u001b[0m\u001b[0;34m\u001b[0m\u001b[0;34m\u001b[0m\u001b[0m\n\u001b[1;32m   1151\u001b[0m       results = self._do_run(handle, final_targets, final_fetches,\n\u001b[0;32m-> 1152\u001b[0;31m                              feed_dict_tensor, options, run_metadata)\n\u001b[0m\u001b[1;32m   1153\u001b[0m     \u001b[0;32melse\u001b[0m\u001b[0;34m:\u001b[0m\u001b[0;34m\u001b[0m\u001b[0;34m\u001b[0m\u001b[0m\n\u001b[1;32m   1154\u001b[0m       \u001b[0mresults\u001b[0m \u001b[0;34m=\u001b[0m \u001b[0;34m[\u001b[0m\u001b[0;34m]\u001b[0m\u001b[0;34m\u001b[0m\u001b[0;34m\u001b[0m\u001b[0m\n",
      "\u001b[0;32m/usr/local/lib/python3.6/dist-packages/tensorflow/python/client/session.py\u001b[0m in \u001b[0;36m_do_run\u001b[0;34m(self, handle, target_list, fetch_list, feed_dict, options, run_metadata)\u001b[0m\n\u001b[1;32m   1326\u001b[0m     \u001b[0;32mif\u001b[0m \u001b[0mhandle\u001b[0m \u001b[0;32mis\u001b[0m \u001b[0;32mNone\u001b[0m\u001b[0;34m:\u001b[0m\u001b[0;34m\u001b[0m\u001b[0;34m\u001b[0m\u001b[0m\n\u001b[1;32m   1327\u001b[0m       return self._do_call(_run_fn, feeds, fetches, targets, options,\n\u001b[0;32m-> 1328\u001b[0;31m                            run_metadata)\n\u001b[0m\u001b[1;32m   1329\u001b[0m     \u001b[0;32melse\u001b[0m\u001b[0;34m:\u001b[0m\u001b[0;34m\u001b[0m\u001b[0;34m\u001b[0m\u001b[0m\n\u001b[1;32m   1330\u001b[0m       \u001b[0;32mreturn\u001b[0m \u001b[0mself\u001b[0m\u001b[0;34m.\u001b[0m\u001b[0m_do_call\u001b[0m\u001b[0;34m(\u001b[0m\u001b[0m_prun_fn\u001b[0m\u001b[0;34m,\u001b[0m \u001b[0mhandle\u001b[0m\u001b[0;34m,\u001b[0m \u001b[0mfeeds\u001b[0m\u001b[0;34m,\u001b[0m \u001b[0mfetches\u001b[0m\u001b[0;34m)\u001b[0m\u001b[0;34m\u001b[0m\u001b[0;34m\u001b[0m\u001b[0m\n",
      "\u001b[0;32m/usr/local/lib/python3.6/dist-packages/tensorflow/python/client/session.py\u001b[0m in \u001b[0;36m_do_call\u001b[0;34m(self, fn, *args)\u001b[0m\n\u001b[1;32m   1332\u001b[0m   \u001b[0;32mdef\u001b[0m \u001b[0m_do_call\u001b[0m\u001b[0;34m(\u001b[0m\u001b[0mself\u001b[0m\u001b[0;34m,\u001b[0m \u001b[0mfn\u001b[0m\u001b[0;34m,\u001b[0m \u001b[0;34m*\u001b[0m\u001b[0margs\u001b[0m\u001b[0;34m)\u001b[0m\u001b[0;34m:\u001b[0m\u001b[0;34m\u001b[0m\u001b[0;34m\u001b[0m\u001b[0m\n\u001b[1;32m   1333\u001b[0m     \u001b[0;32mtry\u001b[0m\u001b[0;34m:\u001b[0m\u001b[0;34m\u001b[0m\u001b[0;34m\u001b[0m\u001b[0m\n\u001b[0;32m-> 1334\u001b[0;31m       \u001b[0;32mreturn\u001b[0m \u001b[0mfn\u001b[0m\u001b[0;34m(\u001b[0m\u001b[0;34m*\u001b[0m\u001b[0margs\u001b[0m\u001b[0;34m)\u001b[0m\u001b[0;34m\u001b[0m\u001b[0;34m\u001b[0m\u001b[0m\n\u001b[0m\u001b[1;32m   1335\u001b[0m     \u001b[0;32mexcept\u001b[0m \u001b[0merrors\u001b[0m\u001b[0;34m.\u001b[0m\u001b[0mOpError\u001b[0m \u001b[0;32mas\u001b[0m \u001b[0me\u001b[0m\u001b[0;34m:\u001b[0m\u001b[0;34m\u001b[0m\u001b[0;34m\u001b[0m\u001b[0m\n\u001b[1;32m   1336\u001b[0m       \u001b[0mmessage\u001b[0m \u001b[0;34m=\u001b[0m \u001b[0mcompat\u001b[0m\u001b[0;34m.\u001b[0m\u001b[0mas_text\u001b[0m\u001b[0;34m(\u001b[0m\u001b[0me\u001b[0m\u001b[0;34m.\u001b[0m\u001b[0mmessage\u001b[0m\u001b[0;34m)\u001b[0m\u001b[0;34m\u001b[0m\u001b[0;34m\u001b[0m\u001b[0m\n",
      "\u001b[0;32m/usr/local/lib/python3.6/dist-packages/tensorflow/python/client/session.py\u001b[0m in \u001b[0;36m_run_fn\u001b[0;34m(feed_dict, fetch_list, target_list, options, run_metadata)\u001b[0m\n\u001b[1;32m   1317\u001b[0m       \u001b[0mself\u001b[0m\u001b[0;34m.\u001b[0m\u001b[0m_extend_graph\u001b[0m\u001b[0;34m(\u001b[0m\u001b[0;34m)\u001b[0m\u001b[0;34m\u001b[0m\u001b[0;34m\u001b[0m\u001b[0m\n\u001b[1;32m   1318\u001b[0m       return self._call_tf_sessionrun(\n\u001b[0;32m-> 1319\u001b[0;31m           options, feed_dict, fetch_list, target_list, run_metadata)\n\u001b[0m\u001b[1;32m   1320\u001b[0m \u001b[0;34m\u001b[0m\u001b[0m\n\u001b[1;32m   1321\u001b[0m     \u001b[0;32mdef\u001b[0m \u001b[0m_prun_fn\u001b[0m\u001b[0;34m(\u001b[0m\u001b[0mhandle\u001b[0m\u001b[0;34m,\u001b[0m \u001b[0mfeed_dict\u001b[0m\u001b[0;34m,\u001b[0m \u001b[0mfetch_list\u001b[0m\u001b[0;34m)\u001b[0m\u001b[0;34m:\u001b[0m\u001b[0;34m\u001b[0m\u001b[0;34m\u001b[0m\u001b[0m\n",
      "\u001b[0;32m/usr/local/lib/python3.6/dist-packages/tensorflow/python/client/session.py\u001b[0m in \u001b[0;36m_call_tf_sessionrun\u001b[0;34m(self, options, feed_dict, fetch_list, target_list, run_metadata)\u001b[0m\n\u001b[1;32m   1405\u001b[0m     return tf_session.TF_SessionRun_wrapper(\n\u001b[1;32m   1406\u001b[0m         \u001b[0mself\u001b[0m\u001b[0;34m.\u001b[0m\u001b[0m_session\u001b[0m\u001b[0;34m,\u001b[0m \u001b[0moptions\u001b[0m\u001b[0;34m,\u001b[0m \u001b[0mfeed_dict\u001b[0m\u001b[0;34m,\u001b[0m \u001b[0mfetch_list\u001b[0m\u001b[0;34m,\u001b[0m \u001b[0mtarget_list\u001b[0m\u001b[0;34m,\u001b[0m\u001b[0;34m\u001b[0m\u001b[0;34m\u001b[0m\u001b[0m\n\u001b[0;32m-> 1407\u001b[0;31m         run_metadata)\n\u001b[0m\u001b[1;32m   1408\u001b[0m \u001b[0;34m\u001b[0m\u001b[0m\n\u001b[1;32m   1409\u001b[0m   \u001b[0;32mdef\u001b[0m \u001b[0m_call_tf_sessionprun\u001b[0m\u001b[0;34m(\u001b[0m\u001b[0mself\u001b[0m\u001b[0;34m,\u001b[0m \u001b[0mhandle\u001b[0m\u001b[0;34m,\u001b[0m \u001b[0mfeed_dict\u001b[0m\u001b[0;34m,\u001b[0m \u001b[0mfetch_list\u001b[0m\u001b[0;34m)\u001b[0m\u001b[0;34m:\u001b[0m\u001b[0;34m\u001b[0m\u001b[0;34m\u001b[0m\u001b[0m\n",
      "\u001b[0;31mKeyboardInterrupt\u001b[0m: "
     ]
    }
   ],
   "source": [
    "# Skeleton code, as in the previous notebook.\n",
    "# Write code training code and save your best performing model on the\n",
    "# validation set. We will be testing the loss on a held-out test dataset.\n",
    "\n",
    "# with tf.Session() as sess:\n",
    "#     # This is how you randomly initialize the Transformer weights.\n",
    "#     sess.run(tf.global_variables_initializer())\n",
    "\n",
    "#     # Create a random mini-batch from the training dataset\n",
    "#     batch_input, batch_input_mask, batch_output, batch_output_mask = build_batch(d_train, batch_size)\n",
    "#     # Build the feed-dict connecting placeholders and mini-batch\n",
    "#     feed = {model.source_sequence: batch_input, model.target_sequence: batch_output,\n",
    "#                               model.encoder_mask: batch_input_mask, model.decoder_mask: batch_output_mask}\n",
    "\n",
    "#     # Obtain the loss. Be careful when you use the train_op and not, as previously.\n",
    "#     train_loss, _, step = sess.run([model.loss, model.train_op, model.global_step], feed_dict=feed)\n",
    "\n",
    "#     # This is how you save model weights into a file\n",
    "#     model.saver.save(sess, root_folder+\"models/transformer_summarizer\")    \n",
    "\n",
    "    \n",
    "#     # This is how you restore a model previously saved\n",
    "#     model.saver.restore(sess, root_folder+\"models/transformer_summarizer\")\n",
    "\n",
    "\n",
    "\n",
    "# Skeleton code, as in the previous notebook.\n",
    "# Write code training code and save your best performing model on the\n",
    "# validation set. We will be testing the loss on a held-out test dataset.\n",
    "\n",
    "experiment = root_folder+\"models/transformer_summarizer\"\n",
    "with tf.Session() as sess:\n",
    "    # This is how you randomly initialize the Transformer weights.\n",
    "    sess.run(tf.global_variables_initializer())\n",
    "    \n",
    "    epoch = 1000000\n",
    "    for i in range(epoch):\n",
    "        if (i % 200 == 0 and i >2000):\n",
    "            print(i)\n",
    "        \n",
    "        batch_size = 16\n",
    "        #print(\"epoch \"+str(i))\n",
    "        # Create a random mini-batch from the training dataset\n",
    "        batch_input, batch_input_mask, batch_output, batch_output_mask = build_batch(d_train, batch_size)\n",
    "        # Build the feed-dict connecting placeholders and mini-batch\n",
    "        \n",
    "        feed = {model.source_sequence: batch_input, model.target_sequence: batch_output,\n",
    "                              model.encoder_mask: batch_input_mask, model.decoder_mask: batch_output_mask}\n",
    "\n",
    "    # Obtain the loss. Be careful when you use the train_op and not, as previously.\n",
    "        train_loss, _, step = sess.run([model.loss, model.train_op, model.global_step], feed_dict=feed)\n",
    "        #print(\"step size: \" + str(step))\n",
    "        #print(\"train_loss: \" + str(train_loss))\n",
    "        if (i % 2000 == 0 and i > 2000):\n",
    "            model.saver.save(sess, experiment)\n",
    "        # This is how you save model weights into a file\n",
    "        #model.saver.save(sess, experiment)    \n",
    "        if (i % 6000 == 0 and i > 1000):\n",
    "            print(i)\n",
    "            \n",
    "            print(\"step size: \" + str(step))\n",
    "            print(\"train_loss: \" + str(train_loss))\n",
    "            batch_size = 100\n",
    "            \n",
    "            batch_input, batch_input_mask, batch_output, batch_output_mask = build_batch(d_train, batch_size)\n",
    "            # Build the feed-dict connecting placeholders and mini-batch\n",
    "        \n",
    "            feed = {model.source_sequence: batch_input, model.target_sequence: batch_output,\n",
    "                                  model.encoder_mask: batch_input_mask, model.decoder_mask: batch_output_mask}\n",
    "            eval_loss = sess.run([model.loss], feed_dict = feed)\n",
    "            model.saver.save(sess, experiment)\n",
    "            if eval_loss[0] < 4.5:\n",
    "                model.saver.save(sess, experiment)\n",
    "                exit()\n",
    "            print(\"EVAL loss: \" + str(eval_loss))\n",
    "    \n",
    "    # This is how you restore a model previously saved\n",
    "    #model.saver.restore(sess, experiment)\n",
    "\n",
    "\n"
   ]
  },
  {
   "cell_type": "markdown",
   "metadata": {
    "colab_type": "text",
    "id": "fousC2uEZ4bx"
   },
   "source": [
    "# Using the Summarization model"
   ]
  },
  {
   "cell_type": "markdown",
   "metadata": {
    "colab_type": "text",
    "id": "0o68cjW5Z4bz"
   },
   "source": [
    "Now that you have trained a Transformer to perform Summarization, we will use the model on news articles from the wild.\n",
    "\n",
    "The three subsections below explore what the model has learned."
   ]
  },
  {
   "cell_type": "code",
   "execution_count": 14,
   "metadata": {
    "colab": {},
    "colab_type": "code",
    "id": "7X4fG3-7Z4b1"
   },
   "outputs": [],
   "source": [
    "# Put the file path to your best performing model in the string below.\n",
    "\n",
    "model_file = root_folder+\"models/transformer_unicorn_summarizer\"\n",
    "model_file = root_folder+\"models/transformer_summarizer\""
   ]
  },
  {
   "cell_type": "markdown",
   "metadata": {
    "colab_type": "text",
    "id": "ZI0f-X4lZ4cX"
   },
   "source": [
    "## The validation loss"
   ]
  },
  {
   "cell_type": "markdown",
   "metadata": {
    "colab_type": "text",
    "id": "vg_0PWfPZ4cZ"
   },
   "source": [
    "Measure the validation loss of your model. This part could be used, as in our previous notebook, in deciding what is a likely, vs. unlikely summary for an article.\n",
    "\n",
    "We will use the code here with the unreleased test-set to evaluate your model."
   ]
  },
  {
   "cell_type": "code",
   "execution_count": 15,
   "metadata": {
    "colab": {
     "base_uri": "https://localhost:8080/",
     "height": 122
    },
    "colab_type": "code",
    "executionInfo": {
     "elapsed": 18348,
     "status": "ok",
     "timestamp": 1554387696238,
     "user": {
      "displayName": "JIAYI LI",
      "photoUrl": "",
      "userId": "02612363833810871434"
     },
     "user_tz": 420
    },
    "id": "VXRuBjIvZ4cb",
    "outputId": "e8e92755-61a5-42ec-fe30-19963b141bda"
   },
   "outputs": [
    {
     "name": "stdout",
     "output_type": "stream",
     "text": [
      "WARNING:tensorflow:From /Users/LiJiayi/Downloads/assignment3/HW3/lib/python3.6/site-packages/tensorflow/python/training/saver.py:1266: checkpoint_exists (from tensorflow.python.training.checkpoint_management) is deprecated and will be removed in a future version.\n",
      "Instructions for updating:\n",
      "Use standard file APIs to check for files with this prefix.\n",
      "INFO:tensorflow:Restoring parameters from models/transformer_summarizer\n",
      "Validation loss: 4.0005555\n"
     ]
    }
   ],
   "source": [
    "with tf.Session() as sess:\n",
    "    model.saver.restore(sess, model_file)\n",
    "\n",
    "    e_input, e_input_mask, e_output, e_output_mask = build_batch(d_valid, 200)\n",
    "    feed = {model.source_sequence: e_input, model.target_sequence: e_output,\n",
    "                                      model.encoder_mask: e_input_mask, model.decoder_mask: e_output_mask}\n",
    "    valid_loss = sess.run(model.loss, feed_dict=feed)\n",
    "    print(\"Validation loss:\", valid_loss)"
   ]
  },
  {
   "cell_type": "markdown",
   "metadata": {
    "colab_type": "text",
    "id": "UMamsFG4Z4cf"
   },
   "source": [
    "## Generating an article's summary"
   ]
  },
  {
   "cell_type": "markdown",
   "metadata": {
    "colab_type": "text",
    "id": "ORs-KZuzZ4ci"
   },
   "source": [
    "This model we have built is meant to be used to generate summaries for new articles we do not have summaries for.\n",
    "We got a [news article](https://www.chicagotribune.com/news/local/breaking/ct-met-officer-shot-20190309-story.html) from the Chicago Tribune about a police shooting, and want to use our model to produce a summary.\n",
    "\n",
    "As you will see, our model is still limited in its ability, and will most likely not produce a perfect summary, however, with more data and training, this model would be able to produce good summaries.\n",
    "The article you produce should look like broken English sentences, but should roughly correspond to the article."
   ]
  },
  {
   "cell_type": "code",
   "execution_count": 0,
   "metadata": {
    "colab": {},
    "colab_type": "code",
    "id": "Q8vRDt99Cvcj"
   },
   "outputs": [],
   "source": [
    "# You are not provided with this file, and do not have to run this.\n",
    "# You are provided with this code so you can see how the data was generated from raw text.\n",
    "\n",
    "def pad_sequence(numerized, pad_index, to_length):\n",
    "    pad = numerized[:to_length]\n",
    "    padded = pad + [pad_index] * (to_length - len(pad))\n",
    "    mask = [w != pad_index for w in padded]\n",
    "    return padded, mask\n",
    "\n",
    "input_length = 400\n",
    "output_length = 100\n",
    "\n",
    "# for d in dataset:\n",
    "#     # Tokenize, numerize\n",
    "#     d['input'] = sp.EncodeAsIds(capita.preprocess_capitalization(d['story']))\n",
    "#     d['output'] = sp.EncodeAsIds(capita.preprocess_capitalization(d['summary']))\n",
    "    \n",
    "#     # Padding    \n",
    "#     d['input'], d['input_mask'] =  pad_sequence(d['input'],  pad_index, input_length)\n",
    "#     d['output'], d['output_mask'] = pad_sequence(d['output'], pad_index, output_length)"
   ]
  },
  {
   "cell_type": "code",
   "execution_count": 16,
   "metadata": {
    "colab": {
     "base_uri": "https://localhost:8080/",
     "height": 3488
    },
    "colab_type": "code",
    "executionInfo": {
     "elapsed": 13271,
     "status": "ok",
     "timestamp": 1554387969668,
     "user": {
      "displayName": "JIAYI LI",
      "photoUrl": "",
      "userId": "02612363833810871434"
     },
     "user_tz": 420
    },
    "id": "f96rnV6pZ4cj",
    "outputId": "ed33ab86-9334-48ed-dbe1-2ae076e4b178"
   },
   "outputs": [
    {
     "name": "stdout",
     "output_type": "stream",
     "text": [
      "INFO:tensorflow:Restoring parameters from models/transformer_summarizer\n",
      "========================\n",
      "[[0, 9998, 9998, 9998, 9998, 9998, 9998, 9998, 9998, 9998, 9998, 9998, 9998, 9998, 9998, 9998, 9998, 9998, 9998, 9998, 9998, 9998, 9998, 9998, 9998, 9998, 9998, 9998, 9998, 9998, 9998, 9998, 9998, 9998, 9998, 9998, 9998, 9998, 9998, 9998, 9998, 9998, 9998, 9998, 9998, 9998, 9998, 9998, 9998, 9998, 9998, 9998, 9998, 9998, 9998, 9998, 9998, 9998, 9998, 9998, 9998, 9998, 9998, 9998, 9998, 9998, 9998, 9998, 9998, 9998, 9998, 9998, 9998, 9998, 9998, 9998, 9998, 9998, 9998, 9998, 9998, 9998, 9998, 9998, 9998, 9998, 9998, 9998, 9998, 9998, 9998, 9998, 9998, 9998, 9998, 9998, 9998, 9998, 9998, 9998]]\n",
      "========================\n",
      "[[0, 8, 9998, 9998, 9998, 9998, 9998, 9998, 9998, 9998, 9998, 9998, 9998, 9998, 9998, 9998, 9998, 9998, 9998, 9998, 9998, 9998, 9998, 9998, 9998, 9998, 9998, 9998, 9998, 9998, 9998, 9998, 9998, 9998, 9998, 9998, 9998, 9998, 9998, 9998, 9998, 9998, 9998, 9998, 9998, 9998, 9998, 9998, 9998, 9998, 9998, 9998, 9998, 9998, 9998, 9998, 9998, 9998, 9998, 9998, 9998, 9998, 9998, 9998, 9998, 9998, 9998, 9998, 9998, 9998, 9998, 9998, 9998, 9998, 9998, 9998, 9998, 9998, 9998, 9998, 9998, 9998, 9998, 9998, 9998, 9998, 9998, 9998, 9998, 9998, 9998, 9998, 9998, 9998, 9998, 9998, 9998, 9998, 9998, 9998]]\n",
      "========================\n",
      "[[0, 8, 96, 9998, 9998, 9998, 9998, 9998, 9998, 9998, 9998, 9998, 9998, 9998, 9998, 9998, 9998, 9998, 9998, 9998, 9998, 9998, 9998, 9998, 9998, 9998, 9998, 9998, 9998, 9998, 9998, 9998, 9998, 9998, 9998, 9998, 9998, 9998, 9998, 9998, 9998, 9998, 9998, 9998, 9998, 9998, 9998, 9998, 9998, 9998, 9998, 9998, 9998, 9998, 9998, 9998, 9998, 9998, 9998, 9998, 9998, 9998, 9998, 9998, 9998, 9998, 9998, 9998, 9998, 9998, 9998, 9998, 9998, 9998, 9998, 9998, 9998, 9998, 9998, 9998, 9998, 9998, 9998, 9998, 9998, 9998, 9998, 9998, 9998, 9998, 9998, 9998, 9998, 9998, 9998, 9998, 9998, 9998, 9998, 9998]]\n",
      "========================\n",
      "[[0, 8, 96, 76, 9998, 9998, 9998, 9998, 9998, 9998, 9998, 9998, 9998, 9998, 9998, 9998, 9998, 9998, 9998, 9998, 9998, 9998, 9998, 9998, 9998, 9998, 9998, 9998, 9998, 9998, 9998, 9998, 9998, 9998, 9998, 9998, 9998, 9998, 9998, 9998, 9998, 9998, 9998, 9998, 9998, 9998, 9998, 9998, 9998, 9998, 9998, 9998, 9998, 9998, 9998, 9998, 9998, 9998, 9998, 9998, 9998, 9998, 9998, 9998, 9998, 9998, 9998, 9998, 9998, 9998, 9998, 9998, 9998, 9998, 9998, 9998, 9998, 9998, 9998, 9998, 9998, 9998, 9998, 9998, 9998, 9998, 9998, 9998, 9998, 9998, 9998, 9998, 9998, 9998, 9998, 9998, 9998, 9998, 9998, 9998]]\n",
      "========================\n",
      "[[0, 8, 96, 76, 0, 9998, 9998, 9998, 9998, 9998, 9998, 9998, 9998, 9998, 9998, 9998, 9998, 9998, 9998, 9998, 9998, 9998, 9998, 9998, 9998, 9998, 9998, 9998, 9998, 9998, 9998, 9998, 9998, 9998, 9998, 9998, 9998, 9998, 9998, 9998, 9998, 9998, 9998, 9998, 9998, 9998, 9998, 9998, 9998, 9998, 9998, 9998, 9998, 9998, 9998, 9998, 9998, 9998, 9998, 9998, 9998, 9998, 9998, 9998, 9998, 9998, 9998, 9998, 9998, 9998, 9998, 9998, 9998, 9998, 9998, 9998, 9998, 9998, 9998, 9998, 9998, 9998, 9998, 9998, 9998, 9998, 9998, 9998, 9998, 9998, 9998, 9998, 9998, 9998, 9998, 9998, 9998, 9998, 9998, 9998]]\n",
      "========================\n",
      "[[0, 8, 96, 76, 0, 0, 9998, 9998, 9998, 9998, 9998, 9998, 9998, 9998, 9998, 9998, 9998, 9998, 9998, 9998, 9998, 9998, 9998, 9998, 9998, 9998, 9998, 9998, 9998, 9998, 9998, 9998, 9998, 9998, 9998, 9998, 9998, 9998, 9998, 9998, 9998, 9998, 9998, 9998, 9998, 9998, 9998, 9998, 9998, 9998, 9998, 9998, 9998, 9998, 9998, 9998, 9998, 9998, 9998, 9998, 9998, 9998, 9998, 9998, 9998, 9998, 9998, 9998, 9998, 9998, 9998, 9998, 9998, 9998, 9998, 9998, 9998, 9998, 9998, 9998, 9998, 9998, 9998, 9998, 9998, 9998, 9998, 9998, 9998, 9998, 9998, 9998, 9998, 9998, 9998, 9998, 9998, 9998, 9998, 9998]]\n",
      "========================\n",
      "[[0, 8, 96, 76, 0, 0, 6, 9998, 9998, 9998, 9998, 9998, 9998, 9998, 9998, 9998, 9998, 9998, 9998, 9998, 9998, 9998, 9998, 9998, 9998, 9998, 9998, 9998, 9998, 9998, 9998, 9998, 9998, 9998, 9998, 9998, 9998, 9998, 9998, 9998, 9998, 9998, 9998, 9998, 9998, 9998, 9998, 9998, 9998, 9998, 9998, 9998, 9998, 9998, 9998, 9998, 9998, 9998, 9998, 9998, 9998, 9998, 9998, 9998, 9998, 9998, 9998, 9998, 9998, 9998, 9998, 9998, 9998, 9998, 9998, 9998, 9998, 9998, 9998, 9998, 9998, 9998, 9998, 9998, 9998, 9998, 9998, 9998, 9998, 9998, 9998, 9998, 9998, 9998, 9998, 9998, 9998, 9998, 9998, 9998]]\n",
      "========================\n",
      "[[0, 8, 96, 76, 0, 0, 6, 0, 9998, 9998, 9998, 9998, 9998, 9998, 9998, 9998, 9998, 9998, 9998, 9998, 9998, 9998, 9998, 9998, 9998, 9998, 9998, 9998, 9998, 9998, 9998, 9998, 9998, 9998, 9998, 9998, 9998, 9998, 9998, 9998, 9998, 9998, 9998, 9998, 9998, 9998, 9998, 9998, 9998, 9998, 9998, 9998, 9998, 9998, 9998, 9998, 9998, 9998, 9998, 9998, 9998, 9998, 9998, 9998, 9998, 9998, 9998, 9998, 9998, 9998, 9998, 9998, 9998, 9998, 9998, 9998, 9998, 9998, 9998, 9998, 9998, 9998, 9998, 9998, 9998, 9998, 9998, 9998, 9998, 9998, 9998, 9998, 9998, 9998, 9998, 9998, 9998, 9998, 9998, 9998]]\n",
      "========================\n",
      "[[0, 8, 96, 76, 0, 0, 6, 0, 15, 9998, 9998, 9998, 9998, 9998, 9998, 9998, 9998, 9998, 9998, 9998, 9998, 9998, 9998, 9998, 9998, 9998, 9998, 9998, 9998, 9998, 9998, 9998, 9998, 9998, 9998, 9998, 9998, 9998, 9998, 9998, 9998, 9998, 9998, 9998, 9998, 9998, 9998, 9998, 9998, 9998, 9998, 9998, 9998, 9998, 9998, 9998, 9998, 9998, 9998, 9998, 9998, 9998, 9998, 9998, 9998, 9998, 9998, 9998, 9998, 9998, 9998, 9998, 9998, 9998, 9998, 9998, 9998, 9998, 9998, 9998, 9998, 9998, 9998, 9998, 9998, 9998, 9998, 9998, 9998, 9998, 9998, 9998, 9998, 9998, 9998, 9998, 9998, 9998, 9998, 9998]]\n",
      "========================\n",
      "[[0, 8, 96, 76, 0, 0, 6, 0, 15, 17, 9998, 9998, 9998, 9998, 9998, 9998, 9998, 9998, 9998, 9998, 9998, 9998, 9998, 9998, 9998, 9998, 9998, 9998, 9998, 9998, 9998, 9998, 9998, 9998, 9998, 9998, 9998, 9998, 9998, 9998, 9998, 9998, 9998, 9998, 9998, 9998, 9998, 9998, 9998, 9998, 9998, 9998, 9998, 9998, 9998, 9998, 9998, 9998, 9998, 9998, 9998, 9998, 9998, 9998, 9998, 9998, 9998, 9998, 9998, 9998, 9998, 9998, 9998, 9998, 9998, 9998, 9998, 9998, 9998, 9998, 9998, 9998, 9998, 9998, 9998, 9998, 9998, 9998, 9998, 9998, 9998, 9998, 9998, 9998, 9998, 9998, 9998, 9998, 9998, 9998]]\n",
      "========================\n",
      "[[0, 8, 96, 76, 0, 0, 6, 0, 15, 17, 9, 9998, 9998, 9998, 9998, 9998, 9998, 9998, 9998, 9998, 9998, 9998, 9998, 9998, 9998, 9998, 9998, 9998, 9998, 9998, 9998, 9998, 9998, 9998, 9998, 9998, 9998, 9998, 9998, 9998, 9998, 9998, 9998, 9998, 9998, 9998, 9998, 9998, 9998, 9998, 9998, 9998, 9998, 9998, 9998, 9998, 9998, 9998, 9998, 9998, 9998, 9998, 9998, 9998, 9998, 9998, 9998, 9998, 9998, 9998, 9998, 9998, 9998, 9998, 9998, 9998, 9998, 9998, 9998, 9998, 9998, 9998, 9998, 9998, 9998, 9998, 9998, 9998, 9998, 9998, 9998, 9998, 9998, 9998, 9998, 9998, 9998, 9998, 9998, 9998]]\n",
      "========================\n",
      "[[0, 8, 96, 76, 0, 0, 6, 0, 15, 17, 9, 9, 9998, 9998, 9998, 9998, 9998, 9998, 9998, 9998, 9998, 9998, 9998, 9998, 9998, 9998, 9998, 9998, 9998, 9998, 9998, 9998, 9998, 9998, 9998, 9998, 9998, 9998, 9998, 9998, 9998, 9998, 9998, 9998, 9998, 9998, 9998, 9998, 9998, 9998, 9998, 9998, 9998, 9998, 9998, 9998, 9998, 9998, 9998, 9998, 9998, 9998, 9998, 9998, 9998, 9998, 9998, 9998, 9998, 9998, 9998, 9998, 9998, 9998, 9998, 9998, 9998, 9998, 9998, 9998, 9998, 9998, 9998, 9998, 9998, 9998, 9998, 9998, 9998, 9998, 9998, 9998, 9998, 9998, 9998, 9998, 9998, 9998, 9998, 9998]]\n",
      "========================\n",
      "[[0, 8, 96, 76, 0, 0, 6, 0, 15, 17, 9, 9, 7, 9998, 9998, 9998, 9998, 9998, 9998, 9998, 9998, 9998, 9998, 9998, 9998, 9998, 9998, 9998, 9998, 9998, 9998, 9998, 9998, 9998, 9998, 9998, 9998, 9998, 9998, 9998, 9998, 9998, 9998, 9998, 9998, 9998, 9998, 9998, 9998, 9998, 9998, 9998, 9998, 9998, 9998, 9998, 9998, 9998, 9998, 9998, 9998, 9998, 9998, 9998, 9998, 9998, 9998, 9998, 9998, 9998, 9998, 9998, 9998, 9998, 9998, 9998, 9998, 9998, 9998, 9998, 9998, 9998, 9998, 9998, 9998, 9998, 9998, 9998, 9998, 9998, 9998, 9998, 9998, 9998, 9998, 9998, 9998, 9998, 9998, 9998]]\n",
      "========================\n",
      "[[0, 8, 96, 76, 0, 0, 6, 0, 15, 17, 9, 9, 7, 5, 9998, 9998, 9998, 9998, 9998, 9998, 9998, 9998, 9998, 9998, 9998, 9998, 9998, 9998, 9998, 9998, 9998, 9998, 9998, 9998, 9998, 9998, 9998, 9998, 9998, 9998, 9998, 9998, 9998, 9998, 9998, 9998, 9998, 9998, 9998, 9998, 9998, 9998, 9998, 9998, 9998, 9998, 9998, 9998, 9998, 9998, 9998, 9998, 9998, 9998, 9998, 9998, 9998, 9998, 9998, 9998, 9998, 9998, 9998, 9998, 9998, 9998, 9998, 9998, 9998, 9998, 9998, 9998, 9998, 9998, 9998, 9998, 9998, 9998, 9998, 9998, 9998, 9998, 9998, 9998, 9998, 9998, 9998, 9998, 9998, 9998]]\n",
      "========================\n",
      "[[0, 8, 96, 76, 0, 0, 6, 0, 15, 17, 9, 9, 7, 5, 88, 9998, 9998, 9998, 9998, 9998, 9998, 9998, 9998, 9998, 9998, 9998, 9998, 9998, 9998, 9998, 9998, 9998, 9998, 9998, 9998, 9998, 9998, 9998, 9998, 9998, 9998, 9998, 9998, 9998, 9998, 9998, 9998, 9998, 9998, 9998, 9998, 9998, 9998, 9998, 9998, 9998, 9998, 9998, 9998, 9998, 9998, 9998, 9998, 9998, 9998, 9998, 9998, 9998, 9998, 9998, 9998, 9998, 9998, 9998, 9998, 9998, 9998, 9998, 9998, 9998, 9998, 9998, 9998, 9998, 9998, 9998, 9998, 9998, 9998, 9998, 9998, 9998, 9998, 9998, 9998, 9998, 9998, 9998, 9998, 9998]]\n"
     ]
    },
    {
     "name": "stdout",
     "output_type": "stream",
     "text": [
      "========================\n",
      "[[0, 8, 96, 76, 0, 0, 6, 0, 15, 17, 9, 9, 7, 5, 88, 93, 9998, 9998, 9998, 9998, 9998, 9998, 9998, 9998, 9998, 9998, 9998, 9998, 9998, 9998, 9998, 9998, 9998, 9998, 9998, 9998, 9998, 9998, 9998, 9998, 9998, 9998, 9998, 9998, 9998, 9998, 9998, 9998, 9998, 9998, 9998, 9998, 9998, 9998, 9998, 9998, 9998, 9998, 9998, 9998, 9998, 9998, 9998, 9998, 9998, 9998, 9998, 9998, 9998, 9998, 9998, 9998, 9998, 9998, 9998, 9998, 9998, 9998, 9998, 9998, 9998, 9998, 9998, 9998, 9998, 9998, 9998, 9998, 9998, 9998, 9998, 9998, 9998, 9998, 9998, 9998, 9998, 9998, 9998, 9998]]\n",
      "========================\n",
      "[[0, 8, 96, 76, 0, 0, 6, 0, 15, 17, 9, 9, 7, 5, 88, 93, 88, 9998, 9998, 9998, 9998, 9998, 9998, 9998, 9998, 9998, 9998, 9998, 9998, 9998, 9998, 9998, 9998, 9998, 9998, 9998, 9998, 9998, 9998, 9998, 9998, 9998, 9998, 9998, 9998, 9998, 9998, 9998, 9998, 9998, 9998, 9998, 9998, 9998, 9998, 9998, 9998, 9998, 9998, 9998, 9998, 9998, 9998, 9998, 9998, 9998, 9998, 9998, 9998, 9998, 9998, 9998, 9998, 9998, 9998, 9998, 9998, 9998, 9998, 9998, 9998, 9998, 9998, 9998, 9998, 9998, 9998, 9998, 9998, 9998, 9998, 9998, 9998, 9998, 9998, 9998, 9998, 9998, 9998, 9998]]\n",
      "========================\n",
      "[[0, 8, 96, 76, 0, 0, 6, 0, 15, 17, 9, 9, 7, 5, 88, 93, 88, 9, 9998, 9998, 9998, 9998, 9998, 9998, 9998, 9998, 9998, 9998, 9998, 9998, 9998, 9998, 9998, 9998, 9998, 9998, 9998, 9998, 9998, 9998, 9998, 9998, 9998, 9998, 9998, 9998, 9998, 9998, 9998, 9998, 9998, 9998, 9998, 9998, 9998, 9998, 9998, 9998, 9998, 9998, 9998, 9998, 9998, 9998, 9998, 9998, 9998, 9998, 9998, 9998, 9998, 9998, 9998, 9998, 9998, 9998, 9998, 9998, 9998, 9998, 9998, 9998, 9998, 9998, 9998, 9998, 9998, 9998, 9998, 9998, 9998, 9998, 9998, 9998, 9998, 9998, 9998, 9998, 9998, 9998]]\n",
      "========================\n",
      "[[0, 8, 96, 76, 0, 0, 6, 0, 15, 17, 9, 9, 7, 5, 88, 93, 88, 9, 88, 9998, 9998, 9998, 9998, 9998, 9998, 9998, 9998, 9998, 9998, 9998, 9998, 9998, 9998, 9998, 9998, 9998, 9998, 9998, 9998, 9998, 9998, 9998, 9998, 9998, 9998, 9998, 9998, 9998, 9998, 9998, 9998, 9998, 9998, 9998, 9998, 9998, 9998, 9998, 9998, 9998, 9998, 9998, 9998, 9998, 9998, 9998, 9998, 9998, 9998, 9998, 9998, 9998, 9998, 9998, 9998, 9998, 9998, 9998, 9998, 9998, 9998, 9998, 9998, 9998, 9998, 9998, 9998, 9998, 9998, 9998, 9998, 9998, 9998, 9998, 9998, 9998, 9998, 9998, 9998, 9998]]\n",
      "========================\n",
      "[[0, 8, 96, 76, 0, 0, 6, 0, 15, 17, 9, 9, 7, 5, 88, 93, 88, 9, 88, 89, 9998, 9998, 9998, 9998, 9998, 9998, 9998, 9998, 9998, 9998, 9998, 9998, 9998, 9998, 9998, 9998, 9998, 9998, 9998, 9998, 9998, 9998, 9998, 9998, 9998, 9998, 9998, 9998, 9998, 9998, 9998, 9998, 9998, 9998, 9998, 9998, 9998, 9998, 9998, 9998, 9998, 9998, 9998, 9998, 9998, 9998, 9998, 9998, 9998, 9998, 9998, 9998, 9998, 9998, 9998, 9998, 9998, 9998, 9998, 9998, 9998, 9998, 9998, 9998, 9998, 9998, 9998, 9998, 9998, 9998, 9998, 9998, 9998, 9998, 9998, 9998, 9998, 9998, 9998, 9998]]\n",
      "========================\n",
      "[[0, 8, 96, 76, 0, 0, 6, 0, 15, 17, 9, 9, 7, 5, 88, 93, 88, 9, 88, 89, 9, 9998, 9998, 9998, 9998, 9998, 9998, 9998, 9998, 9998, 9998, 9998, 9998, 9998, 9998, 9998, 9998, 9998, 9998, 9998, 9998, 9998, 9998, 9998, 9998, 9998, 9998, 9998, 9998, 9998, 9998, 9998, 9998, 9998, 9998, 9998, 9998, 9998, 9998, 9998, 9998, 9998, 9998, 9998, 9998, 9998, 9998, 9998, 9998, 9998, 9998, 9998, 9998, 9998, 9998, 9998, 9998, 9998, 9998, 9998, 9998, 9998, 9998, 9998, 9998, 9998, 9998, 9998, 9998, 9998, 9998, 9998, 9998, 9998, 9998, 9998, 9998, 9998, 9998, 9998]]\n",
      "========================\n",
      "[[0, 8, 96, 76, 0, 0, 6, 0, 15, 17, 9, 9, 7, 5, 88, 93, 88, 9, 88, 89, 9, 9, 9998, 9998, 9998, 9998, 9998, 9998, 9998, 9998, 9998, 9998, 9998, 9998, 9998, 9998, 9998, 9998, 9998, 9998, 9998, 9998, 9998, 9998, 9998, 9998, 9998, 9998, 9998, 9998, 9998, 9998, 9998, 9998, 9998, 9998, 9998, 9998, 9998, 9998, 9998, 9998, 9998, 9998, 9998, 9998, 9998, 9998, 9998, 9998, 9998, 9998, 9998, 9998, 9998, 9998, 9998, 9998, 9998, 9998, 9998, 9998, 9998, 9998, 9998, 9998, 9998, 9998, 9998, 9998, 9998, 9998, 9998, 9998, 9998, 9998, 9998, 9998, 9998, 9998]]\n",
      "========================\n",
      "[[0, 8, 96, 76, 0, 0, 6, 0, 15, 17, 9, 9, 7, 5, 88, 93, 88, 9, 88, 89, 9, 9, 60, 9998, 9998, 9998, 9998, 9998, 9998, 9998, 9998, 9998, 9998, 9998, 9998, 9998, 9998, 9998, 9998, 9998, 9998, 9998, 9998, 9998, 9998, 9998, 9998, 9998, 9998, 9998, 9998, 9998, 9998, 9998, 9998, 9998, 9998, 9998, 9998, 9998, 9998, 9998, 9998, 9998, 9998, 9998, 9998, 9998, 9998, 9998, 9998, 9998, 9998, 9998, 9998, 9998, 9998, 9998, 9998, 9998, 9998, 9998, 9998, 9998, 9998, 9998, 9998, 9998, 9998, 9998, 9998, 9998, 9998, 9998, 9998, 9998, 9998, 9998, 9998, 9998]]\n",
      "========================\n",
      "[[0, 8, 96, 76, 0, 0, 6, 0, 15, 17, 9, 9, 7, 5, 88, 93, 88, 9, 88, 89, 9, 9, 60, 19, 9998, 9998, 9998, 9998, 9998, 9998, 9998, 9998, 9998, 9998, 9998, 9998, 9998, 9998, 9998, 9998, 9998, 9998, 9998, 9998, 9998, 9998, 9998, 9998, 9998, 9998, 9998, 9998, 9998, 9998, 9998, 9998, 9998, 9998, 9998, 9998, 9998, 9998, 9998, 9998, 9998, 9998, 9998, 9998, 9998, 9998, 9998, 9998, 9998, 9998, 9998, 9998, 9998, 9998, 9998, 9998, 9998, 9998, 9998, 9998, 9998, 9998, 9998, 9998, 9998, 9998, 9998, 9998, 9998, 9998, 9998, 9998, 9998, 9998, 9998, 9998]]\n",
      "========================\n",
      "[[0, 8, 96, 76, 0, 0, 6, 0, 15, 17, 9, 9, 7, 5, 88, 93, 88, 9, 88, 89, 9, 9, 60, 19, 61, 9998, 9998, 9998, 9998, 9998, 9998, 9998, 9998, 9998, 9998, 9998, 9998, 9998, 9998, 9998, 9998, 9998, 9998, 9998, 9998, 9998, 9998, 9998, 9998, 9998, 9998, 9998, 9998, 9998, 9998, 9998, 9998, 9998, 9998, 9998, 9998, 9998, 9998, 9998, 9998, 9998, 9998, 9998, 9998, 9998, 9998, 9998, 9998, 9998, 9998, 9998, 9998, 9998, 9998, 9998, 9998, 9998, 9998, 9998, 9998, 9998, 9998, 9998, 9998, 9998, 9998, 9998, 9998, 9998, 9998, 9998, 9998, 9998, 9998, 9998]]\n",
      "========================\n",
      "[[0, 8, 96, 76, 0, 0, 6, 0, 15, 17, 9, 9, 7, 5, 88, 93, 88, 9, 88, 89, 9, 9, 60, 19, 61, 9, 9998, 9998, 9998, 9998, 9998, 9998, 9998, 9998, 9998, 9998, 9998, 9998, 9998, 9998, 9998, 9998, 9998, 9998, 9998, 9998, 9998, 9998, 9998, 9998, 9998, 9998, 9998, 9998, 9998, 9998, 9998, 9998, 9998, 9998, 9998, 9998, 9998, 9998, 9998, 9998, 9998, 9998, 9998, 9998, 9998, 9998, 9998, 9998, 9998, 9998, 9998, 9998, 9998, 9998, 9998, 9998, 9998, 9998, 9998, 9998, 9998, 9998, 9998, 9998, 9998, 9998, 9998, 9998, 9998, 9998, 9998, 9998, 9998, 9998]]\n",
      "========================\n",
      "[[0, 8, 96, 76, 0, 0, 6, 0, 15, 17, 9, 9, 7, 5, 88, 93, 88, 9, 88, 89, 9, 9, 60, 19, 61, 9, 8, 9998, 9998, 9998, 9998, 9998, 9998, 9998, 9998, 9998, 9998, 9998, 9998, 9998, 9998, 9998, 9998, 9998, 9998, 9998, 9998, 9998, 9998, 9998, 9998, 9998, 9998, 9998, 9998, 9998, 9998, 9998, 9998, 9998, 9998, 9998, 9998, 9998, 9998, 9998, 9998, 9998, 9998, 9998, 9998, 9998, 9998, 9998, 9998, 9998, 9998, 9998, 9998, 9998, 9998, 9998, 9998, 9998, 9998, 9998, 9998, 9998, 9998, 9998, 9998, 9998, 9998, 9998, 9998, 9998, 9998, 9998, 9998, 9998]]\n",
      "========================\n",
      "[[0, 8, 96, 76, 0, 0, 6, 0, 15, 17, 9, 9, 7, 5, 88, 93, 88, 9, 88, 89, 9, 9, 60, 19, 61, 9, 8, 9, 9998, 9998, 9998, 9998, 9998, 9998, 9998, 9998, 9998, 9998, 9998, 9998, 9998, 9998, 9998, 9998, 9998, 9998, 9998, 9998, 9998, 9998, 9998, 9998, 9998, 9998, 9998, 9998, 9998, 9998, 9998, 9998, 9998, 9998, 9998, 9998, 9998, 9998, 9998, 9998, 9998, 9998, 9998, 9998, 9998, 9998, 9998, 9998, 9998, 9998, 9998, 9998, 9998, 9998, 9998, 9998, 9998, 9998, 9998, 9998, 9998, 9998, 9998, 9998, 9998, 9998, 9998, 9998, 9998, 9998, 9998, 9998]]\n",
      "========================\n",
      "[[0, 8, 96, 76, 0, 0, 6, 0, 15, 17, 9, 9, 7, 5, 88, 93, 88, 9, 88, 89, 9, 9, 60, 19, 61, 9, 8, 9, 0, 9998, 9998, 9998, 9998, 9998, 9998, 9998, 9998, 9998, 9998, 9998, 9998, 9998, 9998, 9998, 9998, 9998, 9998, 9998, 9998, 9998, 9998, 9998, 9998, 9998, 9998, 9998, 9998, 9998, 9998, 9998, 9998, 9998, 9998, 9998, 9998, 9998, 9998, 9998, 9998, 9998, 9998, 9998, 9998, 9998, 9998, 9998, 9998, 9998, 9998, 9998, 9998, 9998, 9998, 9998, 9998, 9998, 9998, 9998, 9998, 9998, 9998, 9998, 9998, 9998, 9998, 9998, 9998, 9998, 9998, 9998]]\n",
      "========================\n",
      "[[0, 8, 96, 76, 0, 0, 6, 0, 15, 17, 9, 9, 7, 5, 88, 93, 88, 9, 88, 89, 9, 9, 60, 19, 61, 9, 8, 9, 0, 9, 9998, 9998, 9998, 9998, 9998, 9998, 9998, 9998, 9998, 9998, 9998, 9998, 9998, 9998, 9998, 9998, 9998, 9998, 9998, 9998, 9998, 9998, 9998, 9998, 9998, 9998, 9998, 9998, 9998, 9998, 9998, 9998, 9998, 9998, 9998, 9998, 9998, 9998, 9998, 9998, 9998, 9998, 9998, 9998, 9998, 9998, 9998, 9998, 9998, 9998, 9998, 9998, 9998, 9998, 9998, 9998, 9998, 9998, 9998, 9998, 9998, 9998, 9998, 9998, 9998, 9998, 9998, 9998, 9998, 9998]]\n",
      "========================\n",
      "[[0, 8, 96, 76, 0, 0, 6, 0, 15, 17, 9, 9, 7, 5, 88, 93, 88, 9, 88, 89, 9, 9, 60, 19, 61, 9, 8, 9, 0, 9, 27, 9998, 9998, 9998, 9998, 9998, 9998, 9998, 9998, 9998, 9998, 9998, 9998, 9998, 9998, 9998, 9998, 9998, 9998, 9998, 9998, 9998, 9998, 9998, 9998, 9998, 9998, 9998, 9998, 9998, 9998, 9998, 9998, 9998, 9998, 9998, 9998, 9998, 9998, 9998, 9998, 9998, 9998, 9998, 9998, 9998, 9998, 9998, 9998, 9998, 9998, 9998, 9998, 9998, 9998, 9998, 9998, 9998, 9998, 9998, 9998, 9998, 9998, 9998, 9998, 9998, 9998, 9998, 9998, 9998]]\n"
     ]
    },
    {
     "name": "stdout",
     "output_type": "stream",
     "text": [
      "========================\n",
      "[[0, 8, 96, 76, 0, 0, 6, 0, 15, 17, 9, 9, 7, 5, 88, 93, 88, 9, 88, 89, 9, 9, 60, 19, 61, 9, 8, 9, 0, 9, 27, 93, 9998, 9998, 9998, 9998, 9998, 9998, 9998, 9998, 9998, 9998, 9998, 9998, 9998, 9998, 9998, 9998, 9998, 9998, 9998, 9998, 9998, 9998, 9998, 9998, 9998, 9998, 9998, 9998, 9998, 9998, 9998, 9998, 9998, 9998, 9998, 9998, 9998, 9998, 9998, 9998, 9998, 9998, 9998, 9998, 9998, 9998, 9998, 9998, 9998, 9998, 9998, 9998, 9998, 9998, 9998, 9998, 9998, 9998, 9998, 9998, 9998, 9998, 9998, 9998, 9998, 9998, 9998, 9998]]\n",
      "========================\n",
      "[[0, 8, 96, 76, 0, 0, 6, 0, 15, 17, 9, 9, 7, 5, 88, 93, 88, 9, 88, 89, 9, 9, 60, 19, 61, 9, 8, 9, 0, 9, 27, 93, 27, 9998, 9998, 9998, 9998, 9998, 9998, 9998, 9998, 9998, 9998, 9998, 9998, 9998, 9998, 9998, 9998, 9998, 9998, 9998, 9998, 9998, 9998, 9998, 9998, 9998, 9998, 9998, 9998, 9998, 9998, 9998, 9998, 9998, 9998, 9998, 9998, 9998, 9998, 9998, 9998, 9998, 9998, 9998, 9998, 9998, 9998, 9998, 9998, 9998, 9998, 9998, 9998, 9998, 9998, 9998, 9998, 9998, 9998, 9998, 9998, 9998, 9998, 9998, 9998, 9998, 9998, 9998]]\n",
      "========================\n",
      "[[0, 8, 96, 76, 0, 0, 6, 0, 15, 17, 9, 9, 7, 5, 88, 93, 88, 9, 88, 89, 9, 9, 60, 19, 61, 9, 8, 9, 0, 9, 27, 93, 27, 89, 9998, 9998, 9998, 9998, 9998, 9998, 9998, 9998, 9998, 9998, 9998, 9998, 9998, 9998, 9998, 9998, 9998, 9998, 9998, 9998, 9998, 9998, 9998, 9998, 9998, 9998, 9998, 9998, 9998, 9998, 9998, 9998, 9998, 9998, 9998, 9998, 9998, 9998, 9998, 9998, 9998, 9998, 9998, 9998, 9998, 9998, 9998, 9998, 9998, 9998, 9998, 9998, 9998, 9998, 9998, 9998, 9998, 9998, 9998, 9998, 9998, 9998, 9998, 9998, 9998, 9998]]\n",
      "========================\n",
      "[[0, 8, 96, 76, 0, 0, 6, 0, 15, 17, 9, 9, 7, 5, 88, 93, 88, 9, 88, 89, 9, 9, 60, 19, 61, 9, 8, 9, 0, 9, 27, 93, 27, 89, 0, 9998, 9998, 9998, 9998, 9998, 9998, 9998, 9998, 9998, 9998, 9998, 9998, 9998, 9998, 9998, 9998, 9998, 9998, 9998, 9998, 9998, 9998, 9998, 9998, 9998, 9998, 9998, 9998, 9998, 9998, 9998, 9998, 9998, 9998, 9998, 9998, 9998, 9998, 9998, 9998, 9998, 9998, 9998, 9998, 9998, 9998, 9998, 9998, 9998, 9998, 9998, 9998, 9998, 9998, 9998, 9998, 9998, 9998, 9998, 9998, 9998, 9998, 9998, 9998, 9998]]\n",
      "========================\n",
      "[[0, 8, 96, 76, 0, 0, 6, 0, 15, 17, 9, 9, 7, 5, 88, 93, 88, 9, 88, 89, 9, 9, 60, 19, 61, 9, 8, 9, 0, 9, 27, 93, 27, 89, 0, 9, 9998, 9998, 9998, 9998, 9998, 9998, 9998, 9998, 9998, 9998, 9998, 9998, 9998, 9998, 9998, 9998, 9998, 9998, 9998, 9998, 9998, 9998, 9998, 9998, 9998, 9998, 9998, 9998, 9998, 9998, 9998, 9998, 9998, 9998, 9998, 9998, 9998, 9998, 9998, 9998, 9998, 9998, 9998, 9998, 9998, 9998, 9998, 9998, 9998, 9998, 9998, 9998, 9998, 9998, 9998, 9998, 9998, 9998, 9998, 9998, 9998, 9998, 9998, 9998]]\n",
      "========================\n",
      "[[0, 8, 96, 76, 0, 0, 6, 0, 15, 17, 9, 9, 7, 5, 88, 93, 88, 9, 88, 89, 9, 9, 60, 19, 61, 9, 8, 9, 0, 9, 27, 93, 27, 89, 0, 9, 7, 9998, 9998, 9998, 9998, 9998, 9998, 9998, 9998, 9998, 9998, 9998, 9998, 9998, 9998, 9998, 9998, 9998, 9998, 9998, 9998, 9998, 9998, 9998, 9998, 9998, 9998, 9998, 9998, 9998, 9998, 9998, 9998, 9998, 9998, 9998, 9998, 9998, 9998, 9998, 9998, 9998, 9998, 9998, 9998, 9998, 9998, 9998, 9998, 9998, 9998, 9998, 9998, 9998, 9998, 9998, 9998, 9998, 9998, 9998, 9998, 9998, 9998, 9998]]\n",
      "========================\n",
      "[[0, 8, 96, 76, 0, 0, 6, 0, 15, 17, 9, 9, 7, 5, 88, 93, 88, 9, 88, 89, 9, 9, 60, 19, 61, 9, 8, 9, 0, 9, 27, 93, 27, 89, 0, 9, 7, 9, 9998, 9998, 9998, 9998, 9998, 9998, 9998, 9998, 9998, 9998, 9998, 9998, 9998, 9998, 9998, 9998, 9998, 9998, 9998, 9998, 9998, 9998, 9998, 9998, 9998, 9998, 9998, 9998, 9998, 9998, 9998, 9998, 9998, 9998, 9998, 9998, 9998, 9998, 9998, 9998, 9998, 9998, 9998, 9998, 9998, 9998, 9998, 9998, 9998, 9998, 9998, 9998, 9998, 9998, 9998, 9998, 9998, 9998, 9998, 9998, 9998, 9998]]\n",
      "========================\n",
      "[[0, 8, 96, 76, 0, 0, 6, 0, 15, 17, 9, 9, 7, 5, 88, 93, 88, 9, 88, 89, 9, 9, 60, 19, 61, 9, 8, 9, 0, 9, 27, 93, 27, 89, 0, 9, 7, 9, 27, 9998, 9998, 9998, 9998, 9998, 9998, 9998, 9998, 9998, 9998, 9998, 9998, 9998, 9998, 9998, 9998, 9998, 9998, 9998, 9998, 9998, 9998, 9998, 9998, 9998, 9998, 9998, 9998, 9998, 9998, 9998, 9998, 9998, 9998, 9998, 9998, 9998, 9998, 9998, 9998, 9998, 9998, 9998, 9998, 9998, 9998, 9998, 9998, 9998, 9998, 9998, 9998, 9998, 9998, 9998, 9998, 9998, 9998, 9998, 9998, 9998]]\n",
      "========================\n",
      "[[0, 8, 96, 76, 0, 0, 6, 0, 15, 17, 9, 9, 7, 5, 88, 93, 88, 9, 88, 89, 9, 9, 60, 19, 61, 9, 8, 9, 0, 9, 27, 93, 27, 89, 0, 9, 7, 9, 27, 9, 9998, 9998, 9998, 9998, 9998, 9998, 9998, 9998, 9998, 9998, 9998, 9998, 9998, 9998, 9998, 9998, 9998, 9998, 9998, 9998, 9998, 9998, 9998, 9998, 9998, 9998, 9998, 9998, 9998, 9998, 9998, 9998, 9998, 9998, 9998, 9998, 9998, 9998, 9998, 9998, 9998, 9998, 9998, 9998, 9998, 9998, 9998, 9998, 9998, 9998, 9998, 9998, 9998, 9998, 9998, 9998, 9998, 9998, 9998, 9998]]\n",
      "========================\n",
      "[[0, 8, 96, 76, 0, 0, 6, 0, 15, 17, 9, 9, 7, 5, 88, 93, 88, 9, 88, 89, 9, 9, 60, 19, 61, 9, 8, 9, 0, 9, 27, 93, 27, 89, 0, 9, 7, 9, 27, 9, 26, 9998, 9998, 9998, 9998, 9998, 9998, 9998, 9998, 9998, 9998, 9998, 9998, 9998, 9998, 9998, 9998, 9998, 9998, 9998, 9998, 9998, 9998, 9998, 9998, 9998, 9998, 9998, 9998, 9998, 9998, 9998, 9998, 9998, 9998, 9998, 9998, 9998, 9998, 9998, 9998, 9998, 9998, 9998, 9998, 9998, 9998, 9998, 9998, 9998, 9998, 9998, 9998, 9998, 9998, 9998, 9998, 9998, 9998, 9998]]\n",
      "========================\n",
      "[[0, 8, 96, 76, 0, 0, 6, 0, 15, 17, 9, 9, 7, 5, 88, 93, 88, 9, 88, 89, 9, 9, 60, 19, 61, 9, 8, 9, 0, 9, 27, 93, 27, 89, 0, 9, 7, 9, 27, 9, 26, 85, 9998, 9998, 9998, 9998, 9998, 9998, 9998, 9998, 9998, 9998, 9998, 9998, 9998, 9998, 9998, 9998, 9998, 9998, 9998, 9998, 9998, 9998, 9998, 9998, 9998, 9998, 9998, 9998, 9998, 9998, 9998, 9998, 9998, 9998, 9998, 9998, 9998, 9998, 9998, 9998, 9998, 9998, 9998, 9998, 9998, 9998, 9998, 9998, 9998, 9998, 9998, 9998, 9998, 9998, 9998, 9998, 9998, 9998]]\n",
      "========================\n",
      "[[0, 8, 96, 76, 0, 0, 6, 0, 15, 17, 9, 9, 7, 5, 88, 93, 88, 9, 88, 89, 9, 9, 60, 19, 61, 9, 8, 9, 0, 9, 27, 93, 27, 89, 0, 9, 7, 9, 27, 9, 26, 85, 7, 9998, 9998, 9998, 9998, 9998, 9998, 9998, 9998, 9998, 9998, 9998, 9998, 9998, 9998, 9998, 9998, 9998, 9998, 9998, 9998, 9998, 9998, 9998, 9998, 9998, 9998, 9998, 9998, 9998, 9998, 9998, 9998, 9998, 9998, 9998, 9998, 9998, 9998, 9998, 9998, 9998, 9998, 9998, 9998, 9998, 9998, 9998, 9998, 9998, 9998, 9998, 9998, 9998, 9998, 9998, 9998, 9998]]\n",
      "========================\n",
      "[[0, 8, 96, 76, 0, 0, 6, 0, 15, 17, 9, 9, 7, 5, 88, 93, 88, 9, 88, 89, 9, 9, 60, 19, 61, 9, 8, 9, 0, 9, 27, 93, 27, 89, 0, 9, 7, 9, 27, 9, 26, 85, 7, 0, 9998, 9998, 9998, 9998, 9998, 9998, 9998, 9998, 9998, 9998, 9998, 9998, 9998, 9998, 9998, 9998, 9998, 9998, 9998, 9998, 9998, 9998, 9998, 9998, 9998, 9998, 9998, 9998, 9998, 9998, 9998, 9998, 9998, 9998, 9998, 9998, 9998, 9998, 9998, 9998, 9998, 9998, 9998, 9998, 9998, 9998, 9998, 9998, 9998, 9998, 9998, 9998, 9998, 9998, 9998, 9998]]\n",
      "========================\n",
      "[[0, 8, 96, 76, 0, 0, 6, 0, 15, 17, 9, 9, 7, 5, 88, 93, 88, 9, 88, 89, 9, 9, 60, 19, 61, 9, 8, 9, 0, 9, 27, 93, 27, 89, 0, 9, 7, 9, 27, 9, 26, 85, 7, 0, 9, 9998, 9998, 9998, 9998, 9998, 9998, 9998, 9998, 9998, 9998, 9998, 9998, 9998, 9998, 9998, 9998, 9998, 9998, 9998, 9998, 9998, 9998, 9998, 9998, 9998, 9998, 9998, 9998, 9998, 9998, 9998, 9998, 9998, 9998, 9998, 9998, 9998, 9998, 9998, 9998, 9998, 9998, 9998, 9998, 9998, 9998, 9998, 9998, 9998, 9998, 9998, 9998, 9998, 9998, 9998]]\n",
      "========================\n",
      "[[0, 8, 96, 76, 0, 0, 6, 0, 15, 17, 9, 9, 7, 5, 88, 93, 88, 9, 88, 89, 9, 9, 60, 19, 61, 9, 8, 9, 0, 9, 27, 93, 27, 89, 0, 9, 7, 9, 27, 9, 26, 85, 7, 0, 9, 35, 9998, 9998, 9998, 9998, 9998, 9998, 9998, 9998, 9998, 9998, 9998, 9998, 9998, 9998, 9998, 9998, 9998, 9998, 9998, 9998, 9998, 9998, 9998, 9998, 9998, 9998, 9998, 9998, 9998, 9998, 9998, 9998, 9998, 9998, 9998, 9998, 9998, 9998, 9998, 9998, 9998, 9998, 9998, 9998, 9998, 9998, 9998, 9998, 9998, 9998, 9998, 9998, 9998, 9998]]\n",
      "========================\n",
      "[[0, 8, 96, 76, 0, 0, 6, 0, 15, 17, 9, 9, 7, 5, 88, 93, 88, 9, 88, 89, 9, 9, 60, 19, 61, 9, 8, 9, 0, 9, 27, 93, 27, 89, 0, 9, 7, 9, 27, 9, 26, 85, 7, 0, 9, 35, 9, 9998, 9998, 9998, 9998, 9998, 9998, 9998, 9998, 9998, 9998, 9998, 9998, 9998, 9998, 9998, 9998, 9998, 9998, 9998, 9998, 9998, 9998, 9998, 9998, 9998, 9998, 9998, 9998, 9998, 9998, 9998, 9998, 9998, 9998, 9998, 9998, 9998, 9998, 9998, 9998, 9998, 9998, 9998, 9998, 9998, 9998, 9998, 9998, 9998, 9998, 9998, 9998, 9998]]\n"
     ]
    },
    {
     "name": "stdout",
     "output_type": "stream",
     "text": [
      "========================\n",
      "[[0, 8, 96, 76, 0, 0, 6, 0, 15, 17, 9, 9, 7, 5, 88, 93, 88, 9, 88, 89, 9, 9, 60, 19, 61, 9, 8, 9, 0, 9, 27, 93, 27, 89, 0, 9, 7, 9, 27, 9, 26, 85, 7, 0, 9, 35, 9, 8, 9998, 9998, 9998, 9998, 9998, 9998, 9998, 9998, 9998, 9998, 9998, 9998, 9998, 9998, 9998, 9998, 9998, 9998, 9998, 9998, 9998, 9998, 9998, 9998, 9998, 9998, 9998, 9998, 9998, 9998, 9998, 9998, 9998, 9998, 9998, 9998, 9998, 9998, 9998, 9998, 9998, 9998, 9998, 9998, 9998, 9998, 9998, 9998, 9998, 9998, 9998, 9998]]\n",
      "========================\n",
      "[[0, 8, 96, 76, 0, 0, 6, 0, 15, 17, 9, 9, 7, 5, 88, 93, 88, 9, 88, 89, 9, 9, 60, 19, 61, 9, 8, 9, 0, 9, 27, 93, 27, 89, 0, 9, 7, 9, 27, 9, 26, 85, 7, 0, 9, 35, 9, 8, 9, 9998, 9998, 9998, 9998, 9998, 9998, 9998, 9998, 9998, 9998, 9998, 9998, 9998, 9998, 9998, 9998, 9998, 9998, 9998, 9998, 9998, 9998, 9998, 9998, 9998, 9998, 9998, 9998, 9998, 9998, 9998, 9998, 9998, 9998, 9998, 9998, 9998, 9998, 9998, 9998, 9998, 9998, 9998, 9998, 9998, 9998, 9998, 9998, 9998, 9998, 9998]]\n",
      "========================\n",
      "[[0, 8, 96, 76, 0, 0, 6, 0, 15, 17, 9, 9, 7, 5, 88, 93, 88, 9, 88, 89, 9, 9, 60, 19, 61, 9, 8, 9, 0, 9, 27, 93, 27, 89, 0, 9, 7, 9, 27, 9, 26, 85, 7, 0, 9, 35, 9, 8, 9, 46, 9998, 9998, 9998, 9998, 9998, 9998, 9998, 9998, 9998, 9998, 9998, 9998, 9998, 9998, 9998, 9998, 9998, 9998, 9998, 9998, 9998, 9998, 9998, 9998, 9998, 9998, 9998, 9998, 9998, 9998, 9998, 9998, 9998, 9998, 9998, 9998, 9998, 9998, 9998, 9998, 9998, 9998, 9998, 9998, 9998, 9998, 9998, 9998, 9998, 9998]]\n",
      "========================\n",
      "[[0, 8, 96, 76, 0, 0, 6, 0, 15, 17, 9, 9, 7, 5, 88, 93, 88, 9, 88, 89, 9, 9, 60, 19, 61, 9, 8, 9, 0, 9, 27, 93, 27, 89, 0, 9, 7, 9, 27, 9, 26, 85, 7, 0, 9, 35, 9, 8, 9, 46, 75, 9998, 9998, 9998, 9998, 9998, 9998, 9998, 9998, 9998, 9998, 9998, 9998, 9998, 9998, 9998, 9998, 9998, 9998, 9998, 9998, 9998, 9998, 9998, 9998, 9998, 9998, 9998, 9998, 9998, 9998, 9998, 9998, 9998, 9998, 9998, 9998, 9998, 9998, 9998, 9998, 9998, 9998, 9998, 9998, 9998, 9998, 9998, 9998, 9998]]\n",
      "========================\n",
      "[[0, 8, 96, 76, 0, 0, 6, 0, 15, 17, 9, 9, 7, 5, 88, 93, 88, 9, 88, 89, 9, 9, 60, 19, 61, 9, 8, 9, 0, 9, 27, 93, 27, 89, 0, 9, 7, 9, 27, 9, 26, 85, 7, 0, 9, 35, 9, 8, 9, 46, 75, 27, 9998, 9998, 9998, 9998, 9998, 9998, 9998, 9998, 9998, 9998, 9998, 9998, 9998, 9998, 9998, 9998, 9998, 9998, 9998, 9998, 9998, 9998, 9998, 9998, 9998, 9998, 9998, 9998, 9998, 9998, 9998, 9998, 9998, 9998, 9998, 9998, 9998, 9998, 9998, 9998, 9998, 9998, 9998, 9998, 9998, 9998, 9998, 9998]]\n",
      "========================\n",
      "[[0, 8, 96, 76, 0, 0, 6, 0, 15, 17, 9, 9, 7, 5, 88, 93, 88, 9, 88, 89, 9, 9, 60, 19, 61, 9, 8, 9, 0, 9, 27, 93, 27, 89, 0, 9, 7, 9, 27, 9, 26, 85, 7, 0, 9, 35, 9, 8, 9, 46, 75, 27, 9, 9998, 9998, 9998, 9998, 9998, 9998, 9998, 9998, 9998, 9998, 9998, 9998, 9998, 9998, 9998, 9998, 9998, 9998, 9998, 9998, 9998, 9998, 9998, 9998, 9998, 9998, 9998, 9998, 9998, 9998, 9998, 9998, 9998, 9998, 9998, 9998, 9998, 9998, 9998, 9998, 9998, 9998, 9998, 9998, 9998, 9998, 9998]]\n",
      "========================\n",
      "[[0, 8, 96, 76, 0, 0, 6, 0, 15, 17, 9, 9, 7, 5, 88, 93, 88, 9, 88, 89, 9, 9, 60, 19, 61, 9, 8, 9, 0, 9, 27, 93, 27, 89, 0, 9, 7, 9, 27, 9, 26, 85, 7, 0, 9, 35, 9, 8, 9, 46, 75, 27, 9, 9, 9998, 9998, 9998, 9998, 9998, 9998, 9998, 9998, 9998, 9998, 9998, 9998, 9998, 9998, 9998, 9998, 9998, 9998, 9998, 9998, 9998, 9998, 9998, 9998, 9998, 9998, 9998, 9998, 9998, 9998, 9998, 9998, 9998, 9998, 9998, 9998, 9998, 9998, 9998, 9998, 9998, 9998, 9998, 9998, 9998, 9998]]\n",
      "========================\n",
      "[[0, 8, 96, 76, 0, 0, 6, 0, 15, 17, 9, 9, 7, 5, 88, 93, 88, 9, 88, 89, 9, 9, 60, 19, 61, 9, 8, 9, 0, 9, 27, 93, 27, 89, 0, 9, 7, 9, 27, 9, 26, 85, 7, 0, 9, 35, 9, 8, 9, 46, 75, 27, 9, 9, 44, 9998, 9998, 9998, 9998, 9998, 9998, 9998, 9998, 9998, 9998, 9998, 9998, 9998, 9998, 9998, 9998, 9998, 9998, 9998, 9998, 9998, 9998, 9998, 9998, 9998, 9998, 9998, 9998, 9998, 9998, 9998, 9998, 9998, 9998, 9998, 9998, 9998, 9998, 9998, 9998, 9998, 9998, 9998, 9998, 9998]]\n",
      "========================\n",
      "[[0, 8, 96, 76, 0, 0, 6, 0, 15, 17, 9, 9, 7, 5, 88, 93, 88, 9, 88, 89, 9, 9, 60, 19, 61, 9, 8, 9, 0, 9, 27, 93, 27, 89, 0, 9, 7, 9, 27, 9, 26, 85, 7, 0, 9, 35, 9, 8, 9, 46, 75, 27, 9, 9, 44, 90, 9998, 9998, 9998, 9998, 9998, 9998, 9998, 9998, 9998, 9998, 9998, 9998, 9998, 9998, 9998, 9998, 9998, 9998, 9998, 9998, 9998, 9998, 9998, 9998, 9998, 9998, 9998, 9998, 9998, 9998, 9998, 9998, 9998, 9998, 9998, 9998, 9998, 9998, 9998, 9998, 9998, 9998, 9998, 9998]]\n",
      "========================\n",
      "[[0, 8, 96, 76, 0, 0, 6, 0, 15, 17, 9, 9, 7, 5, 88, 93, 88, 9, 88, 89, 9, 9, 60, 19, 61, 9, 8, 9, 0, 9, 27, 93, 27, 89, 0, 9, 7, 9, 27, 9, 26, 85, 7, 0, 9, 35, 9, 8, 9, 46, 75, 27, 9, 9, 44, 90, 55, 9998, 9998, 9998, 9998, 9998, 9998, 9998, 9998, 9998, 9998, 9998, 9998, 9998, 9998, 9998, 9998, 9998, 9998, 9998, 9998, 9998, 9998, 9998, 9998, 9998, 9998, 9998, 9998, 9998, 9998, 9998, 9998, 9998, 9998, 9998, 9998, 9998, 9998, 9998, 9998, 9998, 9998, 9998]]\n",
      "========================\n",
      "[[0, 8, 96, 76, 0, 0, 6, 0, 15, 17, 9, 9, 7, 5, 88, 93, 88, 9, 88, 89, 9, 9, 60, 19, 61, 9, 8, 9, 0, 9, 27, 93, 27, 89, 0, 9, 7, 9, 27, 9, 26, 85, 7, 0, 9, 35, 9, 8, 9, 46, 75, 27, 9, 9, 44, 90, 55, 9, 9998, 9998, 9998, 9998, 9998, 9998, 9998, 9998, 9998, 9998, 9998, 9998, 9998, 9998, 9998, 9998, 9998, 9998, 9998, 9998, 9998, 9998, 9998, 9998, 9998, 9998, 9998, 9998, 9998, 9998, 9998, 9998, 9998, 9998, 9998, 9998, 9998, 9998, 9998, 9998, 9998, 9998]]\n",
      "========================\n",
      "[[0, 8, 96, 76, 0, 0, 6, 0, 15, 17, 9, 9, 7, 5, 88, 93, 88, 9, 88, 89, 9, 9, 60, 19, 61, 9, 8, 9, 0, 9, 27, 93, 27, 89, 0, 9, 7, 9, 27, 9, 26, 85, 7, 0, 9, 35, 9, 8, 9, 46, 75, 27, 9, 9, 44, 90, 55, 9, 48, 9998, 9998, 9998, 9998, 9998, 9998, 9998, 9998, 9998, 9998, 9998, 9998, 9998, 9998, 9998, 9998, 9998, 9998, 9998, 9998, 9998, 9998, 9998, 9998, 9998, 9998, 9998, 9998, 9998, 9998, 9998, 9998, 9998, 9998, 9998, 9998, 9998, 9998, 9998, 9998, 9998]]\n",
      "========================\n",
      "[[0, 8, 96, 76, 0, 0, 6, 0, 15, 17, 9, 9, 7, 5, 88, 93, 88, 9, 88, 89, 9, 9, 60, 19, 61, 9, 8, 9, 0, 9, 27, 93, 27, 89, 0, 9, 7, 9, 27, 9, 26, 85, 7, 0, 9, 35, 9, 8, 9, 46, 75, 27, 9, 9, 44, 90, 55, 9, 48, 55, 9998, 9998, 9998, 9998, 9998, 9998, 9998, 9998, 9998, 9998, 9998, 9998, 9998, 9998, 9998, 9998, 9998, 9998, 9998, 9998, 9998, 9998, 9998, 9998, 9998, 9998, 9998, 9998, 9998, 9998, 9998, 9998, 9998, 9998, 9998, 9998, 9998, 9998, 9998, 9998]]\n",
      "========================\n",
      "[[0, 8, 96, 76, 0, 0, 6, 0, 15, 17, 9, 9, 7, 5, 88, 93, 88, 9, 88, 89, 9, 9, 60, 19, 61, 9, 8, 9, 0, 9, 27, 93, 27, 89, 0, 9, 7, 9, 27, 9, 26, 85, 7, 0, 9, 35, 9, 8, 9, 46, 75, 27, 9, 9, 44, 90, 55, 9, 48, 55, 27, 9998, 9998, 9998, 9998, 9998, 9998, 9998, 9998, 9998, 9998, 9998, 9998, 9998, 9998, 9998, 9998, 9998, 9998, 9998, 9998, 9998, 9998, 9998, 9998, 9998, 9998, 9998, 9998, 9998, 9998, 9998, 9998, 9998, 9998, 9998, 9998, 9998, 9998, 9998]]\n",
      "========================\n",
      "[[0, 8, 96, 76, 0, 0, 6, 0, 15, 17, 9, 9, 7, 5, 88, 93, 88, 9, 88, 89, 9, 9, 60, 19, 61, 9, 8, 9, 0, 9, 27, 93, 27, 89, 0, 9, 7, 9, 27, 9, 26, 85, 7, 0, 9, 35, 9, 8, 9, 46, 75, 27, 9, 9, 44, 90, 55, 9, 48, 55, 27, 7, 9998, 9998, 9998, 9998, 9998, 9998, 9998, 9998, 9998, 9998, 9998, 9998, 9998, 9998, 9998, 9998, 9998, 9998, 9998, 9998, 9998, 9998, 9998, 9998, 9998, 9998, 9998, 9998, 9998, 9998, 9998, 9998, 9998, 9998, 9998, 9998, 9998, 9998]]\n",
      "========================\n",
      "[[0, 8, 96, 76, 0, 0, 6, 0, 15, 17, 9, 9, 7, 5, 88, 93, 88, 9, 88, 89, 9, 9, 60, 19, 61, 9, 8, 9, 0, 9, 27, 93, 27, 89, 0, 9, 7, 9, 27, 9, 26, 85, 7, 0, 9, 35, 9, 8, 9, 46, 75, 27, 9, 9, 44, 90, 55, 9, 48, 55, 27, 7, 55, 9998, 9998, 9998, 9998, 9998, 9998, 9998, 9998, 9998, 9998, 9998, 9998, 9998, 9998, 9998, 9998, 9998, 9998, 9998, 9998, 9998, 9998, 9998, 9998, 9998, 9998, 9998, 9998, 9998, 9998, 9998, 9998, 9998, 9998, 9998, 9998, 9998]]\n",
      "========================\n",
      "[[0, 8, 96, 76, 0, 0, 6, 0, 15, 17, 9, 9, 7, 5, 88, 93, 88, 9, 88, 89, 9, 9, 60, 19, 61, 9, 8, 9, 0, 9, 27, 93, 27, 89, 0, 9, 7, 9, 27, 9, 26, 85, 7, 0, 9, 35, 9, 8, 9, 46, 75, 27, 9, 9, 44, 90, 55, 9, 48, 55, 27, 7, 55, 27, 9998, 9998, 9998, 9998, 9998, 9998, 9998, 9998, 9998, 9998, 9998, 9998, 9998, 9998, 9998, 9998, 9998, 9998, 9998, 9998, 9998, 9998, 9998, 9998, 9998, 9998, 9998, 9998, 9998, 9998, 9998, 9998, 9998, 9998, 9998, 9998]]\n",
      "========================\n",
      "[[0, 8, 96, 76, 0, 0, 6, 0, 15, 17, 9, 9, 7, 5, 88, 93, 88, 9, 88, 89, 9, 9, 60, 19, 61, 9, 8, 9, 0, 9, 27, 93, 27, 89, 0, 9, 7, 9, 27, 9, 26, 85, 7, 0, 9, 35, 9, 8, 9, 46, 75, 27, 9, 9, 44, 90, 55, 9, 48, 55, 27, 7, 55, 27, 48, 9998, 9998, 9998, 9998, 9998, 9998, 9998, 9998, 9998, 9998, 9998, 9998, 9998, 9998, 9998, 9998, 9998, 9998, 9998, 9998, 9998, 9998, 9998, 9998, 9998, 9998, 9998, 9998, 9998, 9998, 9998, 9998, 9998, 9998, 9998]]\n"
     ]
    },
    {
     "name": "stdout",
     "output_type": "stream",
     "text": [
      "========================\n",
      "[[0, 8, 96, 76, 0, 0, 6, 0, 15, 17, 9, 9, 7, 5, 88, 93, 88, 9, 88, 89, 9, 9, 60, 19, 61, 9, 8, 9, 0, 9, 27, 93, 27, 89, 0, 9, 7, 9, 27, 9, 26, 85, 7, 0, 9, 35, 9, 8, 9, 46, 75, 27, 9, 9, 44, 90, 55, 9, 48, 55, 27, 7, 55, 27, 48, 55, 9998, 9998, 9998, 9998, 9998, 9998, 9998, 9998, 9998, 9998, 9998, 9998, 9998, 9998, 9998, 9998, 9998, 9998, 9998, 9998, 9998, 9998, 9998, 9998, 9998, 9998, 9998, 9998, 9998, 9998, 9998, 9998, 9998, 9998]]\n",
      "========================\n",
      "[[0, 8, 96, 76, 0, 0, 6, 0, 15, 17, 9, 9, 7, 5, 88, 93, 88, 9, 88, 89, 9, 9, 60, 19, 61, 9, 8, 9, 0, 9, 27, 93, 27, 89, 0, 9, 7, 9, 27, 9, 26, 85, 7, 0, 9, 35, 9, 8, 9, 46, 75, 27, 9, 9, 44, 90, 55, 9, 48, 55, 27, 7, 55, 27, 48, 55, 55, 9998, 9998, 9998, 9998, 9998, 9998, 9998, 9998, 9998, 9998, 9998, 9998, 9998, 9998, 9998, 9998, 9998, 9998, 9998, 9998, 9998, 9998, 9998, 9998, 9998, 9998, 9998, 9998, 9998, 9998, 9998, 9998, 9998]]\n",
      "========================\n",
      "[[0, 8, 96, 76, 0, 0, 6, 0, 15, 17, 9, 9, 7, 5, 88, 93, 88, 9, 88, 89, 9, 9, 60, 19, 61, 9, 8, 9, 0, 9, 27, 93, 27, 89, 0, 9, 7, 9, 27, 9, 26, 85, 7, 0, 9, 35, 9, 8, 9, 46, 75, 27, 9, 9, 44, 90, 55, 9, 48, 55, 27, 7, 55, 27, 48, 55, 55, 27, 9998, 9998, 9998, 9998, 9998, 9998, 9998, 9998, 9998, 9998, 9998, 9998, 9998, 9998, 9998, 9998, 9998, 9998, 9998, 9998, 9998, 9998, 9998, 9998, 9998, 9998, 9998, 9998, 9998, 9998, 9998, 9998]]\n",
      "========================\n",
      "[[0, 8, 96, 76, 0, 0, 6, 0, 15, 17, 9, 9, 7, 5, 88, 93, 88, 9, 88, 89, 9, 9, 60, 19, 61, 9, 8, 9, 0, 9, 27, 93, 27, 89, 0, 9, 7, 9, 27, 9, 26, 85, 7, 0, 9, 35, 9, 8, 9, 46, 75, 27, 9, 9, 44, 90, 55, 9, 48, 55, 27, 7, 55, 27, 48, 55, 55, 27, 35, 9998, 9998, 9998, 9998, 9998, 9998, 9998, 9998, 9998, 9998, 9998, 9998, 9998, 9998, 9998, 9998, 9998, 9998, 9998, 9998, 9998, 9998, 9998, 9998, 9998, 9998, 9998, 9998, 9998, 9998, 9998]]\n",
      "========================\n",
      "[[0, 8, 96, 76, 0, 0, 6, 0, 15, 17, 9, 9, 7, 5, 88, 93, 88, 9, 88, 89, 9, 9, 60, 19, 61, 9, 8, 9, 0, 9, 27, 93, 27, 89, 0, 9, 7, 9, 27, 9, 26, 85, 7, 0, 9, 35, 9, 8, 9, 46, 75, 27, 9, 9, 44, 90, 55, 9, 48, 55, 27, 7, 55, 27, 48, 55, 55, 27, 35, 3, 9998, 9998, 9998, 9998, 9998, 9998, 9998, 9998, 9998, 9998, 9998, 9998, 9998, 9998, 9998, 9998, 9998, 9998, 9998, 9998, 9998, 9998, 9998, 9998, 9998, 9998, 9998, 9998, 9998, 9998]]\n",
      "========================\n",
      "[[0, 8, 96, 76, 0, 0, 6, 0, 15, 17, 9, 9, 7, 5, 88, 93, 88, 9, 88, 89, 9, 9, 60, 19, 61, 9, 8, 9, 0, 9, 27, 93, 27, 89, 0, 9, 7, 9, 27, 9, 26, 85, 7, 0, 9, 35, 9, 8, 9, 46, 75, 27, 9, 9, 44, 90, 55, 9, 48, 55, 27, 7, 55, 27, 48, 55, 55, 27, 35, 3, 27, 9998, 9998, 9998, 9998, 9998, 9998, 9998, 9998, 9998, 9998, 9998, 9998, 9998, 9998, 9998, 9998, 9998, 9998, 9998, 9998, 9998, 9998, 9998, 9998, 9998, 9998, 9998, 9998, 9998]]\n",
      "========================\n",
      "[[0, 8, 96, 76, 0, 0, 6, 0, 15, 17, 9, 9, 7, 5, 88, 93, 88, 9, 88, 89, 9, 9, 60, 19, 61, 9, 8, 9, 0, 9, 27, 93, 27, 89, 0, 9, 7, 9, 27, 9, 26, 85, 7, 0, 9, 35, 9, 8, 9, 46, 75, 27, 9, 9, 44, 90, 55, 9, 48, 55, 27, 7, 55, 27, 48, 55, 55, 27, 35, 3, 27, 55, 9998, 9998, 9998, 9998, 9998, 9998, 9998, 9998, 9998, 9998, 9998, 9998, 9998, 9998, 9998, 9998, 9998, 9998, 9998, 9998, 9998, 9998, 9998, 9998, 9998, 9998, 9998, 9998]]\n",
      "========================\n",
      "[[0, 8, 96, 76, 0, 0, 6, 0, 15, 17, 9, 9, 7, 5, 88, 93, 88, 9, 88, 89, 9, 9, 60, 19, 61, 9, 8, 9, 0, 9, 27, 93, 27, 89, 0, 9, 7, 9, 27, 9, 26, 85, 7, 0, 9, 35, 9, 8, 9, 46, 75, 27, 9, 9, 44, 90, 55, 9, 48, 55, 27, 7, 55, 27, 48, 55, 55, 27, 35, 3, 27, 55, 55, 9998, 9998, 9998, 9998, 9998, 9998, 9998, 9998, 9998, 9998, 9998, 9998, 9998, 9998, 9998, 9998, 9998, 9998, 9998, 9998, 9998, 9998, 9998, 9998, 9998, 9998, 9998]]\n",
      "========================\n",
      "[[0, 8, 96, 76, 0, 0, 6, 0, 15, 17, 9, 9, 7, 5, 88, 93, 88, 9, 88, 89, 9, 9, 60, 19, 61, 9, 8, 9, 0, 9, 27, 93, 27, 89, 0, 9, 7, 9, 27, 9, 26, 85, 7, 0, 9, 35, 9, 8, 9, 46, 75, 27, 9, 9, 44, 90, 55, 9, 48, 55, 27, 7, 55, 27, 48, 55, 55, 27, 35, 3, 27, 55, 55, 27, 9998, 9998, 9998, 9998, 9998, 9998, 9998, 9998, 9998, 9998, 9998, 9998, 9998, 9998, 9998, 9998, 9998, 9998, 9998, 9998, 9998, 9998, 9998, 9998, 9998, 9998]]\n",
      "========================\n",
      "[[0, 8, 96, 76, 0, 0, 6, 0, 15, 17, 9, 9, 7, 5, 88, 93, 88, 9, 88, 89, 9, 9, 60, 19, 61, 9, 8, 9, 0, 9, 27, 93, 27, 89, 0, 9, 7, 9, 27, 9, 26, 85, 7, 0, 9, 35, 9, 8, 9, 46, 75, 27, 9, 9, 44, 90, 55, 9, 48, 55, 27, 7, 55, 27, 48, 55, 55, 27, 35, 3, 27, 55, 55, 27, 46, 9998, 9998, 9998, 9998, 9998, 9998, 9998, 9998, 9998, 9998, 9998, 9998, 9998, 9998, 9998, 9998, 9998, 9998, 9998, 9998, 9998, 9998, 9998, 9998, 9998]]\n",
      "========================\n",
      "[[0, 8, 96, 76, 0, 0, 6, 0, 15, 17, 9, 9, 7, 5, 88, 93, 88, 9, 88, 89, 9, 9, 60, 19, 61, 9, 8, 9, 0, 9, 27, 93, 27, 89, 0, 9, 7, 9, 27, 9, 26, 85, 7, 0, 9, 35, 9, 8, 9, 46, 75, 27, 9, 9, 44, 90, 55, 9, 48, 55, 27, 7, 55, 27, 48, 55, 55, 27, 35, 3, 27, 55, 55, 27, 46, 9, 9998, 9998, 9998, 9998, 9998, 9998, 9998, 9998, 9998, 9998, 9998, 9998, 9998, 9998, 9998, 9998, 9998, 9998, 9998, 9998, 9998, 9998, 9998, 9998]]\n",
      "========================\n",
      "[[0, 8, 96, 76, 0, 0, 6, 0, 15, 17, 9, 9, 7, 5, 88, 93, 88, 9, 88, 89, 9, 9, 60, 19, 61, 9, 8, 9, 0, 9, 27, 93, 27, 89, 0, 9, 7, 9, 27, 9, 26, 85, 7, 0, 9, 35, 9, 8, 9, 46, 75, 27, 9, 9, 44, 90, 55, 9, 48, 55, 27, 7, 55, 27, 48, 55, 55, 27, 35, 3, 27, 55, 55, 27, 46, 9, 27, 9998, 9998, 9998, 9998, 9998, 9998, 9998, 9998, 9998, 9998, 9998, 9998, 9998, 9998, 9998, 9998, 9998, 9998, 9998, 9998, 9998, 9998, 9998]]\n",
      "========================\n",
      "[[0, 8, 96, 76, 0, 0, 6, 0, 15, 17, 9, 9, 7, 5, 88, 93, 88, 9, 88, 89, 9, 9, 60, 19, 61, 9, 8, 9, 0, 9, 27, 93, 27, 89, 0, 9, 7, 9, 27, 9, 26, 85, 7, 0, 9, 35, 9, 8, 9, 46, 75, 27, 9, 9, 44, 90, 55, 9, 48, 55, 27, 7, 55, 27, 48, 55, 55, 27, 35, 3, 27, 55, 55, 27, 46, 9, 27, 35, 9998, 9998, 9998, 9998, 9998, 9998, 9998, 9998, 9998, 9998, 9998, 9998, 9998, 9998, 9998, 9998, 9998, 9998, 9998, 9998, 9998, 9998]]\n",
      "========================\n",
      "[[0, 8, 96, 76, 0, 0, 6, 0, 15, 17, 9, 9, 7, 5, 88, 93, 88, 9, 88, 89, 9, 9, 60, 19, 61, 9, 8, 9, 0, 9, 27, 93, 27, 89, 0, 9, 7, 9, 27, 9, 26, 85, 7, 0, 9, 35, 9, 8, 9, 46, 75, 27, 9, 9, 44, 90, 55, 9, 48, 55, 27, 7, 55, 27, 48, 55, 55, 27, 35, 3, 27, 55, 55, 27, 46, 9, 27, 35, 48, 9998, 9998, 9998, 9998, 9998, 9998, 9998, 9998, 9998, 9998, 9998, 9998, 9998, 9998, 9998, 9998, 9998, 9998, 9998, 9998, 9998]]\n",
      "========================\n",
      "[[0, 8, 96, 76, 0, 0, 6, 0, 15, 17, 9, 9, 7, 5, 88, 93, 88, 9, 88, 89, 9, 9, 60, 19, 61, 9, 8, 9, 0, 9, 27, 93, 27, 89, 0, 9, 7, 9, 27, 9, 26, 85, 7, 0, 9, 35, 9, 8, 9, 46, 75, 27, 9, 9, 44, 90, 55, 9, 48, 55, 27, 7, 55, 27, 48, 55, 55, 27, 35, 3, 27, 55, 55, 27, 46, 9, 27, 35, 48, 55, 9998, 9998, 9998, 9998, 9998, 9998, 9998, 9998, 9998, 9998, 9998, 9998, 9998, 9998, 9998, 9998, 9998, 9998, 9998, 9998]]\n",
      "========================\n",
      "[[0, 8, 96, 76, 0, 0, 6, 0, 15, 17, 9, 9, 7, 5, 88, 93, 88, 9, 88, 89, 9, 9, 60, 19, 61, 9, 8, 9, 0, 9, 27, 93, 27, 89, 0, 9, 7, 9, 27, 9, 26, 85, 7, 0, 9, 35, 9, 8, 9, 46, 75, 27, 9, 9, 44, 90, 55, 9, 48, 55, 27, 7, 55, 27, 48, 55, 55, 27, 35, 3, 27, 55, 55, 27, 46, 9, 27, 35, 48, 55, 46, 9998, 9998, 9998, 9998, 9998, 9998, 9998, 9998, 9998, 9998, 9998, 9998, 9998, 9998, 9998, 9998, 9998, 9998, 9998]]\n",
      "========================\n",
      "[[0, 8, 96, 76, 0, 0, 6, 0, 15, 17, 9, 9, 7, 5, 88, 93, 88, 9, 88, 89, 9, 9, 60, 19, 61, 9, 8, 9, 0, 9, 27, 93, 27, 89, 0, 9, 7, 9, 27, 9, 26, 85, 7, 0, 9, 35, 9, 8, 9, 46, 75, 27, 9, 9, 44, 90, 55, 9, 48, 55, 27, 7, 55, 27, 48, 55, 55, 27, 35, 3, 27, 55, 55, 27, 46, 9, 27, 35, 48, 55, 46, 78, 9998, 9998, 9998, 9998, 9998, 9998, 9998, 9998, 9998, 9998, 9998, 9998, 9998, 9998, 9998, 9998, 9998, 9998]]\n",
      "========================\n",
      "[[0, 8, 96, 76, 0, 0, 6, 0, 15, 17, 9, 9, 7, 5, 88, 93, 88, 9, 88, 89, 9, 9, 60, 19, 61, 9, 8, 9, 0, 9, 27, 93, 27, 89, 0, 9, 7, 9, 27, 9, 26, 85, 7, 0, 9, 35, 9, 8, 9, 46, 75, 27, 9, 9, 44, 90, 55, 9, 48, 55, 27, 7, 55, 27, 48, 55, 55, 27, 35, 3, 27, 55, 55, 27, 46, 9, 27, 35, 48, 55, 46, 78, 9, 9998, 9998, 9998, 9998, 9998, 9998, 9998, 9998, 9998, 9998, 9998, 9998, 9998, 9998, 9998, 9998, 9998]]\n",
      "========================\n",
      "[[0, 8, 96, 76, 0, 0, 6, 0, 15, 17, 9, 9, 7, 5, 88, 93, 88, 9, 88, 89, 9, 9, 60, 19, 61, 9, 8, 9, 0, 9, 27, 93, 27, 89, 0, 9, 7, 9, 27, 9, 26, 85, 7, 0, 9, 35, 9, 8, 9, 46, 75, 27, 9, 9, 44, 90, 55, 9, 48, 55, 27, 7, 55, 27, 48, 55, 55, 27, 35, 3, 27, 55, 55, 27, 46, 9, 27, 35, 48, 55, 46, 78, 9, 65, 9998, 9998, 9998, 9998, 9998, 9998, 9998, 9998, 9998, 9998, 9998, 9998, 9998, 9998, 9998, 9998]]\n"
     ]
    },
    {
     "name": "stdout",
     "output_type": "stream",
     "text": [
      "========================\n",
      "[[0, 8, 96, 76, 0, 0, 6, 0, 15, 17, 9, 9, 7, 5, 88, 93, 88, 9, 88, 89, 9, 9, 60, 19, 61, 9, 8, 9, 0, 9, 27, 93, 27, 89, 0, 9, 7, 9, 27, 9, 26, 85, 7, 0, 9, 35, 9, 8, 9, 46, 75, 27, 9, 9, 44, 90, 55, 9, 48, 55, 27, 7, 55, 27, 48, 55, 55, 27, 35, 3, 27, 55, 55, 27, 46, 9, 27, 35, 48, 55, 46, 78, 9, 65, 55, 9998, 9998, 9998, 9998, 9998, 9998, 9998, 9998, 9998, 9998, 9998, 9998, 9998, 9998, 9998]]\n",
      "========================\n",
      "[[0, 8, 96, 76, 0, 0, 6, 0, 15, 17, 9, 9, 7, 5, 88, 93, 88, 9, 88, 89, 9, 9, 60, 19, 61, 9, 8, 9, 0, 9, 27, 93, 27, 89, 0, 9, 7, 9, 27, 9, 26, 85, 7, 0, 9, 35, 9, 8, 9, 46, 75, 27, 9, 9, 44, 90, 55, 9, 48, 55, 27, 7, 55, 27, 48, 55, 55, 27, 35, 3, 27, 55, 55, 27, 46, 9, 27, 35, 48, 55, 46, 78, 9, 65, 55, 55, 9998, 9998, 9998, 9998, 9998, 9998, 9998, 9998, 9998, 9998, 9998, 9998, 9998, 9998]]\n",
      "========================\n",
      "[[0, 8, 96, 76, 0, 0, 6, 0, 15, 17, 9, 9, 7, 5, 88, 93, 88, 9, 88, 89, 9, 9, 60, 19, 61, 9, 8, 9, 0, 9, 27, 93, 27, 89, 0, 9, 7, 9, 27, 9, 26, 85, 7, 0, 9, 35, 9, 8, 9, 46, 75, 27, 9, 9, 44, 90, 55, 9, 48, 55, 27, 7, 55, 27, 48, 55, 55, 27, 35, 3, 27, 55, 55, 27, 46, 9, 27, 35, 48, 55, 46, 78, 9, 65, 55, 55, 35, 9998, 9998, 9998, 9998, 9998, 9998, 9998, 9998, 9998, 9998, 9998, 9998, 9998]]\n",
      "========================\n",
      "[[0, 8, 96, 76, 0, 0, 6, 0, 15, 17, 9, 9, 7, 5, 88, 93, 88, 9, 88, 89, 9, 9, 60, 19, 61, 9, 8, 9, 0, 9, 27, 93, 27, 89, 0, 9, 7, 9, 27, 9, 26, 85, 7, 0, 9, 35, 9, 8, 9, 46, 75, 27, 9, 9, 44, 90, 55, 9, 48, 55, 27, 7, 55, 27, 48, 55, 55, 27, 35, 3, 27, 55, 55, 27, 46, 9, 27, 35, 48, 55, 46, 78, 9, 65, 55, 55, 35, 84, 9998, 9998, 9998, 9998, 9998, 9998, 9998, 9998, 9998, 9998, 9998, 9998]]\n",
      "========================\n",
      "[[0, 8, 96, 76, 0, 0, 6, 0, 15, 17, 9, 9, 7, 5, 88, 93, 88, 9, 88, 89, 9, 9, 60, 19, 61, 9, 8, 9, 0, 9, 27, 93, 27, 89, 0, 9, 7, 9, 27, 9, 26, 85, 7, 0, 9, 35, 9, 8, 9, 46, 75, 27, 9, 9, 44, 90, 55, 9, 48, 55, 27, 7, 55, 27, 48, 55, 55, 27, 35, 3, 27, 55, 55, 27, 46, 9, 27, 35, 48, 55, 46, 78, 9, 65, 55, 55, 35, 84, 55, 9998, 9998, 9998, 9998, 9998, 9998, 9998, 9998, 9998, 9998, 9998]]\n",
      "========================\n",
      "[[0, 8, 96, 76, 0, 0, 6, 0, 15, 17, 9, 9, 7, 5, 88, 93, 88, 9, 88, 89, 9, 9, 60, 19, 61, 9, 8, 9, 0, 9, 27, 93, 27, 89, 0, 9, 7, 9, 27, 9, 26, 85, 7, 0, 9, 35, 9, 8, 9, 46, 75, 27, 9, 9, 44, 90, 55, 9, 48, 55, 27, 7, 55, 27, 48, 55, 55, 27, 35, 3, 27, 55, 55, 27, 46, 9, 27, 35, 48, 55, 46, 78, 9, 65, 55, 55, 35, 84, 55, 27, 9998, 9998, 9998, 9998, 9998, 9998, 9998, 9998, 9998, 9998]]\n",
      "========================\n",
      "[[0, 8, 96, 76, 0, 0, 6, 0, 15, 17, 9, 9, 7, 5, 88, 93, 88, 9, 88, 89, 9, 9, 60, 19, 61, 9, 8, 9, 0, 9, 27, 93, 27, 89, 0, 9, 7, 9, 27, 9, 26, 85, 7, 0, 9, 35, 9, 8, 9, 46, 75, 27, 9, 9, 44, 90, 55, 9, 48, 55, 27, 7, 55, 27, 48, 55, 55, 27, 35, 3, 27, 55, 55, 27, 46, 9, 27, 35, 48, 55, 46, 78, 9, 65, 55, 55, 35, 84, 55, 27, 51, 9998, 9998, 9998, 9998, 9998, 9998, 9998, 9998, 9998]]\n",
      "========================\n",
      "[[0, 8, 96, 76, 0, 0, 6, 0, 15, 17, 9, 9, 7, 5, 88, 93, 88, 9, 88, 89, 9, 9, 60, 19, 61, 9, 8, 9, 0, 9, 27, 93, 27, 89, 0, 9, 7, 9, 27, 9, 26, 85, 7, 0, 9, 35, 9, 8, 9, 46, 75, 27, 9, 9, 44, 90, 55, 9, 48, 55, 27, 7, 55, 27, 48, 55, 55, 27, 35, 3, 27, 55, 55, 27, 46, 9, 27, 35, 48, 55, 46, 78, 9, 65, 55, 55, 35, 84, 55, 27, 51, 48, 9998, 9998, 9998, 9998, 9998, 9998, 9998, 9998]]\n",
      "========================\n",
      "[[0, 8, 96, 76, 0, 0, 6, 0, 15, 17, 9, 9, 7, 5, 88, 93, 88, 9, 88, 89, 9, 9, 60, 19, 61, 9, 8, 9, 0, 9, 27, 93, 27, 89, 0, 9, 7, 9, 27, 9, 26, 85, 7, 0, 9, 35, 9, 8, 9, 46, 75, 27, 9, 9, 44, 90, 55, 9, 48, 55, 27, 7, 55, 27, 48, 55, 55, 27, 35, 3, 27, 55, 55, 27, 46, 9, 27, 35, 48, 55, 46, 78, 9, 65, 55, 55, 35, 84, 55, 27, 51, 48, 55, 9998, 9998, 9998, 9998, 9998, 9998, 9998]]\n",
      "========================\n",
      "[[0, 8, 96, 76, 0, 0, 6, 0, 15, 17, 9, 9, 7, 5, 88, 93, 88, 9, 88, 89, 9, 9, 60, 19, 61, 9, 8, 9, 0, 9, 27, 93, 27, 89, 0, 9, 7, 9, 27, 9, 26, 85, 7, 0, 9, 35, 9, 8, 9, 46, 75, 27, 9, 9, 44, 90, 55, 9, 48, 55, 27, 7, 55, 27, 48, 55, 55, 27, 35, 3, 27, 55, 55, 27, 46, 9, 27, 35, 48, 55, 46, 78, 9, 65, 55, 55, 35, 84, 55, 27, 51, 48, 55, 27, 9998, 9998, 9998, 9998, 9998, 9998]]\n",
      "========================\n",
      "[[0, 8, 96, 76, 0, 0, 6, 0, 15, 17, 9, 9, 7, 5, 88, 93, 88, 9, 88, 89, 9, 9, 60, 19, 61, 9, 8, 9, 0, 9, 27, 93, 27, 89, 0, 9, 7, 9, 27, 9, 26, 85, 7, 0, 9, 35, 9, 8, 9, 46, 75, 27, 9, 9, 44, 90, 55, 9, 48, 55, 27, 7, 55, 27, 48, 55, 55, 27, 35, 3, 27, 55, 55, 27, 46, 9, 27, 35, 48, 55, 46, 78, 9, 65, 55, 55, 35, 84, 55, 27, 51, 48, 55, 27, 55, 9998, 9998, 9998, 9998, 9998]]\n",
      "========================\n",
      "[[0, 8, 96, 76, 0, 0, 6, 0, 15, 17, 9, 9, 7, 5, 88, 93, 88, 9, 88, 89, 9, 9, 60, 19, 61, 9, 8, 9, 0, 9, 27, 93, 27, 89, 0, 9, 7, 9, 27, 9, 26, 85, 7, 0, 9, 35, 9, 8, 9, 46, 75, 27, 9, 9, 44, 90, 55, 9, 48, 55, 27, 7, 55, 27, 48, 55, 55, 27, 35, 3, 27, 55, 55, 27, 46, 9, 27, 35, 48, 55, 46, 78, 9, 65, 55, 55, 35, 84, 55, 27, 51, 48, 55, 27, 55, 46, 9998, 9998, 9998, 9998]]\n",
      "========================\n",
      "[[0, 8, 96, 76, 0, 0, 6, 0, 15, 17, 9, 9, 7, 5, 88, 93, 88, 9, 88, 89, 9, 9, 60, 19, 61, 9, 8, 9, 0, 9, 27, 93, 27, 89, 0, 9, 7, 9, 27, 9, 26, 85, 7, 0, 9, 35, 9, 8, 9, 46, 75, 27, 9, 9, 44, 90, 55, 9, 48, 55, 27, 7, 55, 27, 48, 55, 55, 27, 35, 3, 27, 55, 55, 27, 46, 9, 27, 35, 48, 55, 46, 78, 9, 65, 55, 55, 35, 84, 55, 27, 51, 48, 55, 27, 55, 46, 55, 9998, 9998, 9998]]\n",
      "========================\n",
      "[[0, 8, 96, 76, 0, 0, 6, 0, 15, 17, 9, 9, 7, 5, 88, 93, 88, 9, 88, 89, 9, 9, 60, 19, 61, 9, 8, 9, 0, 9, 27, 93, 27, 89, 0, 9, 7, 9, 27, 9, 26, 85, 7, 0, 9, 35, 9, 8, 9, 46, 75, 27, 9, 9, 44, 90, 55, 9, 48, 55, 27, 7, 55, 27, 48, 55, 55, 27, 35, 3, 27, 55, 55, 27, 46, 9, 27, 35, 48, 55, 46, 78, 9, 65, 55, 55, 35, 84, 55, 27, 51, 48, 55, 27, 55, 46, 55, 97, 9998, 9998]]\n",
      "========================\n",
      "[[0, 8, 96, 76, 0, 0, 6, 0, 15, 17, 9, 9, 7, 5, 88, 93, 88, 9, 88, 89, 9, 9, 60, 19, 61, 9, 8, 9, 0, 9, 27, 93, 27, 89, 0, 9, 7, 9, 27, 9, 26, 85, 7, 0, 9, 35, 9, 8, 9, 46, 75, 27, 9, 9, 44, 90, 55, 9, 48, 55, 27, 7, 55, 27, 48, 55, 55, 27, 35, 3, 27, 55, 55, 27, 46, 9, 27, 35, 48, 55, 46, 78, 9, 65, 55, 55, 35, 84, 55, 27, 51, 48, 55, 27, 55, 46, 55, 97, 55, 9998]]\n",
      "========================\n",
      "[[0, 8, 96, 76, 0, 0, 6, 0, 15, 17, 9, 9, 7, 5, 88, 93, 88, 9, 88, 89, 9, 9, 60, 19, 61, 9, 8, 9, 0, 9, 27, 93, 27, 89, 0, 9, 7, 9, 27, 9, 26, 85, 7, 0, 9, 35, 9, 8, 9, 46, 75, 27, 9, 9, 44, 90, 55, 9, 48, 55, 27, 7, 55, 27, 48, 55, 55, 27, 35, 3, 27, 55, 55, 27, 46, 9, 27, 35, 48, 55, 46, 78, 9, 65, 55, 55, 35, 84, 55, 27, 51, 48, 55, 27, 55, 46, 55, 97, 55, 98]]\n",
      "The final summary:\n",
      "<unk>s no more<unk><unk> .<unk>⇧ - to to , then overn ton two to to after was been tos to<unk> to ` over ` two<unk> to , to ` to is people ,<unk> to at tos to but about ` to to'm had to are had ` , had ` are had had ` at  ` had had ` but to ` at are had but -- to you had had at new had ` an are had ` had but had time had if had\n"
     ]
    }
   ],
   "source": [
    "article_text = \"A 34-year-old Chicago police officer has been shot in the shoulder during the execution of a search warrant in the Humboldt Park neighborhood, police say. The alleged shooter, a 19-year-old woman, was in custody. The shooting happened about 7:20 p.m. in the 2700 block of West Potomac Avenue, police said. The officer, part of the Grand Central District tactical unit, was taken to Stroger Hospital. While officers were serving a \\\"typical\\\" search warrant for \\\"narcotics and illegal weapons\\\" and were attempting to reach a rear door, \\\"a shot was fired,\\\" striking the tactical officer in the shoulder, said Chicago police Superintendent Eddie Johnson during a news briefing outside the hospital. He said the officer, who has about four or five years on the job, was \\\"stable\\\" but in critical condition. \\\"His family is here,\\\" Johnson said. \\\"He’s talking a lot and just wants the ordeal to be over.\\\" He said this incident serves as just another reminder of how dangerous a police officer’s job is. At the scene of the shooting, crime tape closed Potomac from Washtenaw Avenue to California Avenue and encompassed the alley west of the brick apartment building, south of Potomac. Dozens of officers stood in the alley, while even more walked up and down the street. Neighbors gathered at the edge of the yellow tape on the sidewalk along California and watched them work. Standing next to a man, a woman talked to police in the crime scene, across the street. \\\"We're not under arrest? We can go?\\\" the woman checked with officers. They told her she could go, and she and the man walked underneath the yellow tape and out of the crime scene.\"\n",
    "input_length = 400\n",
    "output_length = 100\n",
    "\n",
    "# Process the capitalization with the preprocess_capitalization of the capita package.\n",
    "article_text = capita.preprocess_capitalization(article_text)\n",
    "\n",
    "# Numerize the tokens of the processed text using the loaded sentencepiece model.\n",
    "numerized = sp.EncodeAsIds(article_text)\n",
    "# Pad the sequence and keep the mask of the input\n",
    "padded, mask = pad_sequence(numerized, pad_index, input_length)\n",
    "\n",
    "# Making the news article into a batch of size one, to be fed to the neural network.\n",
    "encoder_input = np.array([padded])\n",
    "encoder_mask = np.array([mask])\n",
    "\n",
    "with tf.Session() as sess:\n",
    "    model.saver.restore(sess, model_file)\n",
    "\n",
    "    decoded_so_far = [0]\n",
    "    \n",
    "    for j in range(output_length):\n",
    "        padded_decoder_input, decoder_mask = pad_sequence(decoded_so_far, pad_index, output_length)\n",
    "        padded_decoder_input = [padded_decoder_input]\n",
    "        decoder_mask = [decoder_mask]\n",
    "        print(\"========================\")\n",
    "        print(padded_decoder_input)\n",
    "        # Use the model to find the distrbution over the vocabulary for the next word\n",
    "        feed = {model.source_sequence: encoder_input, model.target_sequence: padded_decoder_input ,\n",
    "                                      model.encoder_mask: encoder_mask, model.decoder_mask: decoder_mask}\n",
    "        \n",
    "        logits = sess.run(model.decoded_logits, feed_dict= feed)\n",
    "\n",
    "        chosen_words = np.argmax(logits, axis = 1) # Take the argmax, getting the most likely next word\n",
    "        decoded_so_far.append(int(chosen_words[0, j])) # We add it to the summary so far\n",
    "\n",
    "\n",
    "print(\"The final summary:\")\n",
    "print(\"\".join([vocab[i] for i in decoded_so_far]).replace(\"▁\", \" \"))"
   ]
  },
  {
   "cell_type": "markdown",
   "metadata": {
    "colab_type": "text",
    "id": "qyDCOeImZ4cq"
   },
   "source": [
    "## Word vectors"
   ]
  },
  {
   "cell_type": "markdown",
   "metadata": {
    "colab_type": "text",
    "id": "tMfyQNolZ4cq"
   },
   "source": [
    "The model we train learns word representations for each word in our vocabulary. A word represention is a vector of **dim** size.\n",
    "\n",
    "It is common in NLP to inspect the word vectors, as some properties of language often appear in the embedding structure.\n",
    "\n",
    "\n",
    "We are going to load the word embeddings learned by our model, and inspect it.\n",
    "Because our network was not trained for long, we are going for the simplest patterns, but if we let the network train longer, it learns more complex, semantic patterns."
   ]
  },
  {
   "cell_type": "code",
   "execution_count": 17,
   "metadata": {
    "colab": {
     "base_uri": "https://localhost:8080/",
     "height": 68
    },
    "colab_type": "code",
    "executionInfo": {
     "elapsed": 4299,
     "status": "ok",
     "timestamp": 1554387988867,
     "user": {
      "displayName": "JIAYI LI",
      "photoUrl": "",
      "userId": "02612363833810871434"
     },
     "user_tz": 420
    },
    "id": "skDUFxVGZ4cv",
    "outputId": "1c6d35da-0185-4a73-8cdd-67b4637d290a"
   },
   "outputs": [
    {
     "name": "stdout",
     "output_type": "stream",
     "text": [
      "INFO:tensorflow:Restoring parameters from models/transformer_summarizer\n",
      "The embedding matrix has shape: (10000, 104)\n",
      "The vocabulary has length: 10000\n"
     ]
    }
   ],
   "source": [
    "# We help you load the matrix, as it is hidden within the Transformer structure.\n",
    "\n",
    "with tf.Session() as sess:\n",
    "    model.saver.restore(sess, model_file)\n",
    "    E = sess.run(model.model.encoder.embedding_layer.embedding.embeddings)\n",
    "\n",
    "print(\"The embedding matrix has shape:\", E.shape)\n",
    "print(\"The vocabulary has length:\", len(vocab))\n"
   ]
  },
  {
   "cell_type": "markdown",
   "metadata": {
    "colab_type": "text",
    "id": "FKgmjMwnZ4cz"
   },
   "source": [
    "Pronouns serve very similar purposes, therefore we should expect the representation of \"he\" and \"she\" to be similar, and have cosine similarity.\n",
    "\n",
    "- **TODO**:  Find the cosine similarity between the vectors that represent words \"she\" and \"he\".\n",
    "- **TODO**:  Find the cosine similarity between the vectors that represent words \"more\" and \"less\".\n",
    "\n",
    "We can contrast that with the cosine similarity to a random, non-related word, like \"ball\", or \"gorilla\".\n",
    "- **TODO**: Compute the cosine similarity between \"she\" and \"ball\".\n",
    "- **TODO**: Compute the cosine similarity between \"more\" and \"protest\".\n",
    "\n"
   ]
  },
  {
   "cell_type": "code",
   "execution_count": 25,
   "metadata": {
    "colab": {
     "base_uri": "https://localhost:8080/",
     "height": 85
    },
    "colab_type": "code",
    "executionInfo": {
     "elapsed": 2150,
     "status": "ok",
     "timestamp": 1554387993489,
     "user": {
      "displayName": "JIAYI LI",
      "photoUrl": "",
      "userId": "02612363833810871434"
     },
     "user_tz": 420
    },
    "id": "8YuRuNSkZ4c1",
    "outputId": "c877a85d-af6d-4af1-ecce-d51027b5d4f1"
   },
   "outputs": [
    {
     "name": "stdout",
     "output_type": "stream",
     "text": [
      "she  vs.  he similarity: 0.7264521\n",
      "more  vs.  less similarity: 0.5541997\n",
      "she  vs.  ball similarity: -0.00045614064\n",
      "more  vs.  gorilla similarity: 0.10947531\n"
     ]
    }
   ],
   "source": [
    "def cosine_sim(v1, v2):\n",
    "    # TODO: Implement the cosine similarity of 2 vectors. Careful: the words might not have unit norm.\n",
    "    return np.dot(v1, v2)/(np.sqrt(np.dot(v1, v1))*np.sqrt(np.dot(v2, v2)))\n",
    "\n",
    "for w1, w2 in [(\"she\", \"he\"), (\"more\", \"less\"), (\"she\", \"ball\"), (\"more\", \"gorilla\")]:\n",
    "    w1_index = vocab.index('▁'+w1) # The index of the first  word in our vocabulary\n",
    "    w2_index = vocab.index('▁'+w2) # The index of the second word in our vocabulary\n",
    "  \n",
    "    w1_vec = E[w1_index,:]# Get the embedding vector of the first  word\n",
    "    w2_vec = E[w2_index,:] # Get the embedding vector of the second word\n",
    "    \n",
    "    print(w1,\" vs. \", w2, \"similarity:\",cosine_sim(w1_vec, w2_vec))\n",
    "    "
   ]
  },
  {
   "cell_type": "markdown",
   "metadata": {
    "colab_type": "text",
    "id": "zezJanEMZ4c4"
   },
   "source": [
    "These effects are unfortunately small, as we have only trained the network on a few hours on a few thousand articles.\n",
    "However, the same model trained for longer on more data exhibits many interesting semantic and syntactic patterns, such as:\n",
    "\n",
    "- Words vectors with high cosine similarity usually represent words that have semantic similarity (such as duck and pigeon)\n",
    "- Analogies can occur, a famous case is that of: woman - man + king ≈ queen. Or france - paris + rome ≈ italy.\n",
    "\n",
    "- Looking at top-k similar words can help find synonyms.\n",
    "\n",
    "To read examples of more complex patterns that appear in word embedding spaces, read [this blog](https://explosion.ai/blog/sense2vec-with-spacy). To play with a live demo and try similarities on rich word embeddings, [go here.](https://explosion.ai/demos/sense2vec)"
   ]
  }
 ],
 "metadata": {
  "accelerator": "GPU",
  "colab": {
   "collapsed_sections": [
    "4cewhH6tZ4Zs",
    "V9h7L-fQZ4Z8",
    "52EMYU2oZ4aS"
   ],
   "name": "2 Summarization.ipynb",
   "provenance": [],
   "version": "0.3.2"
  },
  "kernelspec": {
   "display_name": "HW3",
   "language": "python",
   "name": "hw3"
  },
  "language_info": {
   "codemirror_mode": {
    "name": "ipython",
    "version": 3
   },
   "file_extension": ".py",
   "mimetype": "text/x-python",
   "name": "python",
   "nbconvert_exporter": "python",
   "pygments_lexer": "ipython3",
   "version": "3.6.5"
  }
 },
 "nbformat": 4,
 "nbformat_minor": 1
}
